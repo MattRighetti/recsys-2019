{
 "cells": [
  {
   "cell_type": "code",
   "execution_count": 1,
   "metadata": {},
   "outputs": [],
   "source": [
    "from Algorithms.KNN.ItemKNNCFRecommender import ItemKNNCFRecommender\n",
    "from Utils.Toolkit import get_data\n",
    "\n",
    "train = get_data()['train']\n",
    "test = get_data()['test']"
   ]
  },
  {
   "cell_type": "code",
   "execution_count": 2,
   "metadata": {},
   "outputs": [
    {
     "name": "stdout",
     "output_type": "stream",
     "text": [
      "ItemKNNCFRecommender: URM Detected 6473 (20.94 %) cold users.\n",
      "ItemKNNCFRecommender: URM Detected 3369 (18.22 %) cold items.\n"
     ]
    }
   ],
   "source": [
    "itemCF = ItemKNNCFRecommender(train.copy())"
   ]
  },
  {
   "cell_type": "code",
   "execution_count": 3,
   "metadata": {},
   "outputs": [],
   "source": [
    "itemCF.fit(12, 88, similarity='tversky', normalize=True,\n",
    "               feature_weighting='none', tversky_alpha=0.12331166243379268, tversky_beta=1.9752288743799558)"
   ]
  },
  {
   "cell_type": "code",
   "execution_count": 4,
   "metadata": {},
   "outputs": [
    {
     "data": {
      "text/plain": [
       "[[6404, 10067, 5113, 10227, 6289, 5700, 7310, 17835, 13206, 5494],\n",
       " [7259, 6228, 5142, 8470, 6280, 18073, 3278, 8034, 4949, 17351],\n",
       " [4657, 4658, 11734, 735, 11733, 737, 739, 15908, 13837, 13206],\n",
       " [12328, 12327, 12334, 12333, 12332, 12331, 12330, 12329, 12336, 12324]]"
      ]
     },
     "execution_count": 4,
     "metadata": {},
     "output_type": "execute_result"
    }
   ],
   "source": [
    "itemCF.recommend([0,1,2,3], 10)"
   ]
  },
  {
   "cell_type": "code",
   "execution_count": 5,
   "metadata": {},
   "outputs": [
    {
     "data": {
      "text/plain": [
       "array([0.01111278, 0.01094776, 0.01106728, 0.01088896, 0.01112803],\n",
       "      dtype=float32)"
      ]
     },
     "execution_count": 5,
     "metadata": {},
     "output_type": "execute_result"
    }
   ],
   "source": [
    "user = 0\n",
    "\n",
    "s = itemCF.W_sparse.indptr[user]\n",
    "e = itemCF.W_sparse.indptr[user+1]\n",
    "\n",
    "itemCF.W_sparse.data[s:e]"
   ]
  },
  {
   "cell_type": "code",
   "execution_count": 6,
   "metadata": {},
   "outputs": [],
   "source": [
    "from Recommenders.CF.item_cf import ItemBasedCollaborativeFiltering"
   ]
  },
  {
   "cell_type": "code",
   "execution_count": 7,
   "metadata": {},
   "outputs": [],
   "source": [
    "myItemCF = ItemBasedCollaborativeFiltering(12, 88, feature_weighting='none',\n",
    "                                          similarity='tversky', tversky_alpha=0.12331166243379268,\n",
    "                                          tversky_beta=1.9752288743799558, asymmetric_alpha=0.0)"
   ]
  },
  {
   "cell_type": "code",
   "execution_count": 8,
   "metadata": {},
   "outputs": [],
   "source": [
    "myItemCF.fit(train)"
   ]
  },
  {
   "cell_type": "code",
   "execution_count": 13,
   "metadata": {},
   "outputs": [
    {
     "data": {
      "text/plain": [
       "array([ 7259,  6228,  5142,  8470,  6280, 18073,  3278,  8034,  4949,\n",
       "       17351])"
      ]
     },
     "execution_count": 13,
     "metadata": {},
     "output_type": "execute_result"
    }
   ],
   "source": [
    "myItemCF.recommend(1, 10)"
   ]
  },
  {
   "cell_type": "code",
   "execution_count": 10,
   "metadata": {},
   "outputs": [
    {
     "data": {
      "text/plain": [
       "array([0.01111278, 0.01094776, 0.01106728, 0.01088896, 0.01112803],\n",
       "      dtype=float32)"
      ]
     },
     "execution_count": 10,
     "metadata": {},
     "output_type": "execute_result"
    }
   ],
   "source": [
    "s1 = itemCF.W_sparse.indptr[user]\n",
    "e1 = itemCF.W_sparse.indptr[user+1]\n",
    "\n",
    "myItemCF.SM_item.data[s1:e1]"
   ]
  },
  {
   "cell_type": "code",
   "execution_count": 20,
   "metadata": {},
   "outputs": [
    {
     "data": {
      "text/plain": [
       "<18495x18495 sparse matrix of type '<class 'numpy.float32'>'\n",
       "\twith 178959 stored elements in Compressed Sparse Row format>"
      ]
     },
     "execution_count": 20,
     "metadata": {},
     "output_type": "execute_result"
    }
   ],
   "source": [
    "myItemCF.SM_item"
   ]
  },
  {
   "cell_type": "code",
   "execution_count": 21,
   "metadata": {},
   "outputs": [
    {
     "data": {
      "text/plain": [
       "<30911x18495 sparse matrix of type '<class 'numpy.float64'>'\n",
       "\twith 3598314 stored elements in Compressed Sparse Row format>"
      ]
     },
     "execution_count": 21,
     "metadata": {},
     "output_type": "execute_result"
    }
   ],
   "source": [
    "myItemCF.RM"
   ]
  },
  {
   "cell_type": "code",
   "execution_count": 26,
   "metadata": {},
   "outputs": [
    {
     "data": {
      "text/plain": [
       "array([0.03741507, 0.00200805, 0.00200855, 0.05052692, 0.00200855,\n",
       "       0.00200855, 0.00278082, 0.00278082, 0.01116818, 0.00278082,\n",
       "       0.00278082, 0.00278082, 0.00278082, 0.01659928, 0.01692846,\n",
       "       0.01651477, 0.00857242, 0.01636481, 0.0079033 , 0.03414657,\n",
       "       0.01535627, 0.00788793, 0.01528392, 0.02148644, 0.02146748,\n",
       "       0.04859821, 0.00077169, 0.00077169, 0.00077169, 0.05187555,\n",
       "       0.04723513, 0.04912255, 0.01941556, 0.00077169, 0.00152464,\n",
       "       0.0391811 , 0.04384625, 0.02141674, 0.02314696, 0.00152464])"
      ]
     },
     "execution_count": 26,
     "metadata": {},
     "output_type": "execute_result"
    }
   ],
   "source": [
    "myItemCF.RM.data[myItemCF.RM.indptr[0]:myItemCF.RM.indptr[1]]"
   ]
  },
  {
   "cell_type": "code",
   "execution_count": 27,
   "metadata": {},
   "outputs": [
    {
     "data": {
      "text/plain": [
       "array([17835, 13619, 10309, 10067,  9520,  1238, 17362, 17016, 15856,\n",
       "       14679, 13227, 10996,  2603, 16171, 12713,  9168,  7647,  6416,\n",
       "       16899, 13206, 11395,  8722,  8238,  7880,  7190, 10227,  9822,\n",
       "        9425,  6627,  6404,  6289,  5113,  3601,   270, 11988,  7310,\n",
       "        5700,  5696,  5494,   848], dtype=int32)"
      ]
     },
     "execution_count": 27,
     "metadata": {},
     "output_type": "execute_result"
    }
   ],
   "source": [
    "myItemCF.RM.indices[myItemCF.RM.indptr[0]:myItemCF.RM.indptr[1]]"
   ]
  },
  {
   "cell_type": "code",
   "execution_count": 32,
   "metadata": {},
   "outputs": [
    {
     "data": {
      "text/plain": [
       "array([0.00077169, 0.00152464, 0.00200855, 0.00278082, 0.01941556,\n",
       "       0.04912255, 0.02314696, 0.02141674, 0.04384625, 0.04723513,\n",
       "       0.05187555, 0.01636481, 0.00077169, 0.02146748, 0.0391811 ,\n",
       "       0.00857242, 0.02148644, 0.01528392, 0.00788793, 0.01651477,\n",
       "       0.00077169, 0.00200855, 0.00077169, 0.05052692, 0.04859821,\n",
       "       0.00200855, 0.00278082, 0.01535627, 0.00152464, 0.01692846,\n",
       "       0.03414657, 0.00278082, 0.00200805, 0.00278082, 0.01116818,\n",
       "       0.01659928, 0.0079033 , 0.00278082, 0.00278082, 0.03741507],\n",
       "      dtype=float32)"
      ]
     },
     "execution_count": 32,
     "metadata": {},
     "output_type": "execute_result"
    }
   ],
   "source": [
    "itemCF._compute_item_score(0)[itemCF._compute_item_score(0) > 0]"
   ]
  },
  {
   "cell_type": "code",
   "execution_count": null,
   "metadata": {},
   "outputs": [],
   "source": []
  }
 ],
 "metadata": {
  "kernelspec": {
   "display_name": "Python 3",
   "language": "python",
   "name": "python3"
  },
  "language_info": {
   "codemirror_mode": {
    "name": "ipython",
    "version": 3
   },
   "file_extension": ".py",
   "mimetype": "text/x-python",
   "name": "python",
   "nbconvert_exporter": "python",
   "pygments_lexer": "ipython3",
   "version": "3.7.4"
  }
 },
 "nbformat": 4,
 "nbformat_minor": 2
}
