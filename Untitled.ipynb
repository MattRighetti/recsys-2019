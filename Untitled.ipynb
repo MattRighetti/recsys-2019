{
 "cells": [
  {
   "cell_type": "markdown",
   "metadata": {},
   "source": [
    "# Dataset Statistics"
   ]
  },
  {
   "cell_type": "code",
   "execution_count": 1,
   "metadata": {},
   "outputs": [],
   "source": [
    "import pandas as pd"
   ]
  },
  {
   "cell_type": "code",
   "execution_count": null,
   "metadata": {},
   "outputs": [],
   "source": [
    "data_file_path = \"data/\"\n",
    "ICM_asset_filename =\"data_ICM_asset.csv\"\n",
    "ICM_price_filename =\"data_ICM_price.csv\"\n",
    "ICM_sub_class_filename = \"data_ICM_sub_class.csv\"\n",
    "UCM_age_filename = \"data_UCM_age.csv\"\n",
    "UCM_region_filename = \"data_UCM_region.csv\"\n"
   ]
  }
 ],
 "metadata": {
  "kernelspec": {
   "display_name": "Python 3",
   "language": "python",
   "name": "python3"
  },
  "language_info": {
   "codemirror_mode": {
    "name": "ipython",
    "version": 3
   },
   "file_extension": ".py",
   "mimetype": "text/x-python",
   "name": "python",
   "nbconvert_exporter": "python",
   "pygments_lexer": "ipython3",
   "version": "3.6.8"
  }
 },
 "nbformat": 4,
 "nbformat_minor": 2
}
