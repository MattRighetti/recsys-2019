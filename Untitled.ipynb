{
 "cells": [
  {
   "cell_type": "markdown",
   "metadata": {},
   "source": [
    "# User Wise Hybrid"
   ]
  },
  {
   "cell_type": "code",
   "execution_count": 1,
   "metadata": {},
   "outputs": [],
   "source": [
    "from Utils.Toolkit import get_data\n",
    "\n",
    "data = get_data()\n",
    "\n",
    "URM = data['train']"
   ]
  },
  {
   "cell_type": "markdown",
   "metadata": {},
   "source": [
    "## Let's divide users intro groups"
   ]
  },
  {
   "cell_type": "code",
   "execution_count": 2,
   "metadata": {},
   "outputs": [],
   "source": [
    "import numpy as np\n",
    "\n",
    "group0 = []\n",
    "group1 = []\n",
    "group2 = []\n",
    "group3 = []\n",
    "group4 = []\n",
    "group5 = []\n",
    "group6 = []\n",
    "group7 = []\n",
    "group8 = []\n",
    "group9 = []\n",
    "\n",
    "for user_id in range(URM.shape[0]):\n",
    "    start_pos = URM.indptr[user_id]\n",
    "    end_pos = URM.indptr[user_id + 1]\n",
    "    if len(URM.data[start_pos:end_pos]) == 0:\n",
    "        group0.append(user_id)\n",
    "    elif 0 < len(URM.data[start_pos:end_pos]) <= 2:\n",
    "        group1.append(user_id)\n",
    "    elif 2 < len(URM.data[start_pos:end_pos]) <= 5:\n",
    "        group2.append(user_id)\n",
    "    elif 5 < len(URM.data[start_pos:end_pos]) <= 10:\n",
    "        group3.append(user_id)\n",
    "    elif 10 < len(URM.data[start_pos:end_pos]) <= 20:\n",
    "        group4.append(user_id)\n",
    "    elif 20 < len(URM.data[start_pos:end_pos]) <= 30:\n",
    "        group5.append(user_id)\n",
    "    elif 40 < len(URM.data[start_pos:end_pos]) <= 60:\n",
    "        group6.append(user_id)\n",
    "    elif 60 < len(URM.data[start_pos:end_pos]) <= 100:\n",
    "        group7.append(user_id)\n",
    "    elif 100 < len(URM.data[start_pos:end_pos]) <= 300:\n",
    "        group8.append(user_id)\n",
    "    elif 300 < len(URM.data[start_pos:end_pos]) <= 10000:\n",
    "        group9.append(user_id)\n",
    "\n",
    "        \n",
    "group0 = np.array(group0)\n",
    "group1 = np.array(group1)\n",
    "group2 = np.array(group2)\n",
    "group3 = np.array(group3)\n",
    "group4 = np.array(group4)\n",
    "group5 = np.array(group5)\n",
    "group6 = np.array(group6)\n",
    "group7 = np.array(group7)\n",
    "group8 = np.array(group8)\n",
    "group9 = np.array(group9)\n",
    "\n",
    "group = np.array([group0, group1, group2, group3, group4, group5, group6, group7, group8, group9])"
   ]
  },
  {
   "cell_type": "code",
   "execution_count": 3,
   "metadata": {},
   "outputs": [
    {
     "name": "stdout",
     "output_type": "stream",
     "text": [
      "6473 Cold users\n",
      "3695\n",
      "4556\n",
      "5034\n",
      "5443\n",
      "2502\n",
      "1183\n",
      "530\n",
      "131\n",
      "5\n",
      "<class 'numpy.ndarray'>\n"
     ]
    }
   ],
   "source": [
    "print(str(len(group0)) + \" Cold users\")\n",
    "print(len(group1))\n",
    "print(len(group2))\n",
    "print(len(group3))\n",
    "print(len(group4))\n",
    "print(len(group5))\n",
    "print(len(group6))\n",
    "print(len(group7))\n",
    "print(len(group8))\n",
    "print(len(group9))\n",
    "\n",
    "print(type(group))"
   ]
  },
  {
   "cell_type": "code",
   "execution_count": 4,
   "metadata": {},
   "outputs": [
    {
     "name": "stdout",
     "output_type": "stream",
     "text": [
      "TopN=10, min_interactions=40\n"
     ]
    },
    {
     "name": "stderr",
     "output_type": "stream",
     "text": [
      "Evaluating SM_user_feature_matrix: 100%|██████████| 30911/30911 [00:09<00:00, 3314.26it/s]\n"
     ]
    },
    {
     "name": "stdout",
     "output_type": "stream",
     "text": [
      "Generated UFM with shape (30911, 2011)\n"
     ]
    },
    {
     "name": "stderr",
     "output_type": "stream",
     "text": [
      "Boosting URM...: 100%|██████████| 30911/30911 [00:20<00:00, 1534.68it/s]\n"
     ]
    },
    {
     "name": "stdout",
     "output_type": "stream",
     "text": [
      "371381\n"
     ]
    },
    {
     "name": "stderr",
     "output_type": "stream",
     "text": [
      "Evaluating MAP with target: 100%|██████████| 6473/6473 [00:01<00:00, 3282.77it/s]\n",
      "Evaluating MAP with target:  10%|█         | 670/6473 [00:00<00:01, 3291.87it/s]"
     ]
    },
    {
     "name": "stdout",
     "output_type": "stream",
     "text": [
      "FeatureBoostedItemCollaborativeFiltering -> MAP: 0.0000 with TopK = 0 & Shrink = 0\tTOTAL MISS=2813\tRelevant=4\n"
     ]
    },
    {
     "name": "stderr",
     "output_type": "stream",
     "text": [
      "Evaluating MAP with target: 100%|██████████| 6473/6473 [00:01<00:00, 3264.10it/s]\n",
      "Evaluating MAP with target:   6%|▌         | 360/6473 [00:00<00:01, 3593.82it/s]"
     ]
    },
    {
     "name": "stdout",
     "output_type": "stream",
     "text": [
      "ItemBasedCollaborativeFiltering -> MAP: 0.0000 with TopK = 0 & Shrink = 0\tTOTAL MISS=2813\tRelevant=4\n"
     ]
    },
    {
     "name": "stderr",
     "output_type": "stream",
     "text": [
      "Evaluating MAP with target: 100%|██████████| 6473/6473 [00:01<00:00, 3691.21it/s]\n",
      "Evaluating MAP with target:   4%|▍         | 140/3695 [00:00<00:02, 1390.92it/s]"
     ]
    },
    {
     "name": "stdout",
     "output_type": "stream",
     "text": [
      "UserContentBasedRecommender -> MAP: 0.0000 with TopK = 0 & Shrink = 0\tTOTAL MISS=2816\tRelevant=1\n"
     ]
    },
    {
     "name": "stderr",
     "output_type": "stream",
     "text": [
      "Evaluating MAP with target: 100%|██████████| 3695/3695 [00:02<00:00, 1394.32it/s]\n",
      "Evaluating MAP with target:   8%|▊         | 281/3695 [00:00<00:02, 1396.17it/s]"
     ]
    },
    {
     "name": "stdout",
     "output_type": "stream",
     "text": [
      "FeatureBoostedItemCollaborativeFiltering -> MAP: 0.0064 with TopK = 0 & Shrink = 0\tTOTAL MISS=3386\tRelevant=309\n"
     ]
    },
    {
     "name": "stderr",
     "output_type": "stream",
     "text": [
      "Evaluating MAP with target: 100%|██████████| 3695/3695 [00:02<00:00, 1407.71it/s]\n",
      "Evaluating MAP with target:   5%|▍         | 180/3695 [00:00<00:01, 1797.68it/s]"
     ]
    },
    {
     "name": "stdout",
     "output_type": "stream",
     "text": [
      "ItemBasedCollaborativeFiltering -> MAP: 0.0064 with TopK = 0 & Shrink = 0\tTOTAL MISS=3386\tRelevant=309\n"
     ]
    },
    {
     "name": "stderr",
     "output_type": "stream",
     "text": [
      "Evaluating MAP with target: 100%|██████████| 3695/3695 [00:02<00:00, 1644.21it/s]\n",
      "Evaluating MAP with target:   3%|▎         | 133/4556 [00:00<00:03, 1325.29it/s]"
     ]
    },
    {
     "name": "stdout",
     "output_type": "stream",
     "text": [
      "UserContentBasedRecommender -> MAP: 0.0000 with TopK = 0 & Shrink = 0\tTOTAL MISS=3694\tRelevant=1\n"
     ]
    },
    {
     "name": "stderr",
     "output_type": "stream",
     "text": [
      "Evaluating MAP with target: 100%|██████████| 4556/4556 [00:03<00:00, 1347.32it/s]\n",
      "Evaluating MAP with target:   3%|▎         | 135/4556 [00:00<00:03, 1342.26it/s]"
     ]
    },
    {
     "name": "stdout",
     "output_type": "stream",
     "text": [
      "FeatureBoostedItemCollaborativeFiltering -> MAP: 0.0093 with TopK = 0 & Shrink = 0\tTOTAL MISS=4060\tRelevant=496\n"
     ]
    },
    {
     "name": "stderr",
     "output_type": "stream",
     "text": [
      "Evaluating MAP with target: 100%|██████████| 4556/4556 [00:03<00:00, 1350.56it/s]\n",
      "Evaluating MAP with target:   8%|▊         | 365/4556 [00:00<00:02, 1820.27it/s]"
     ]
    },
    {
     "name": "stdout",
     "output_type": "stream",
     "text": [
      "ItemBasedCollaborativeFiltering -> MAP: 0.0093 with TopK = 0 & Shrink = 0\tTOTAL MISS=4061\tRelevant=495\n"
     ]
    },
    {
     "name": "stderr",
     "output_type": "stream",
     "text": [
      "Evaluating MAP with target: 100%|██████████| 4556/4556 [00:02<00:00, 1571.80it/s]\n",
      "Evaluating MAP with target:   5%|▍         | 231/5034 [00:00<00:04, 1141.78it/s]"
     ]
    },
    {
     "name": "stdout",
     "output_type": "stream",
     "text": [
      "UserContentBasedRecommender -> MAP: 0.0000 with TopK = 0 & Shrink = 0\tTOTAL MISS=4554\tRelevant=2\n"
     ]
    },
    {
     "name": "stderr",
     "output_type": "stream",
     "text": [
      "Evaluating MAP with target: 100%|██████████| 5034/5034 [00:04<00:00, 1254.96it/s]\n",
      "Evaluating MAP with target:   3%|▎         | 126/5034 [00:00<00:03, 1255.80it/s]"
     ]
    },
    {
     "name": "stdout",
     "output_type": "stream",
     "text": [
      "FeatureBoostedItemCollaborativeFiltering -> MAP: 0.0097 with TopK = 0 & Shrink = 0\tTOTAL MISS=4464\tRelevant=570\n"
     ]
    },
    {
     "name": "stderr",
     "output_type": "stream",
     "text": [
      "Evaluating MAP with target: 100%|██████████| 5034/5034 [00:03<00:00, 1270.21it/s]\n",
      "Evaluating MAP with target:   4%|▎         | 181/5034 [00:00<00:02, 1808.82it/s]"
     ]
    },
    {
     "name": "stdout",
     "output_type": "stream",
     "text": [
      "ItemBasedCollaborativeFiltering -> MAP: 0.0097 with TopK = 0 & Shrink = 0\tTOTAL MISS=4464\tRelevant=570\n"
     ]
    },
    {
     "name": "stderr",
     "output_type": "stream",
     "text": [
      "Evaluating MAP with target: 100%|██████████| 5034/5034 [00:03<00:00, 1632.92it/s]\n",
      "Evaluating MAP with target:   4%|▍         | 235/5443 [00:00<00:04, 1160.16it/s]"
     ]
    },
    {
     "name": "stdout",
     "output_type": "stream",
     "text": [
      "UserContentBasedRecommender -> MAP: 0.0000 with TopK = 0 & Shrink = 0\tTOTAL MISS=5033\tRelevant=1\n"
     ]
    },
    {
     "name": "stderr",
     "output_type": "stream",
     "text": [
      "Evaluating MAP with target: 100%|██████████| 5443/5443 [00:04<00:00, 1159.54it/s]\n",
      "Evaluating MAP with target:   2%|▏         | 115/5443 [00:00<00:04, 1143.21it/s]"
     ]
    },
    {
     "name": "stdout",
     "output_type": "stream",
     "text": [
      "FeatureBoostedItemCollaborativeFiltering -> MAP: 0.0090 with TopK = 0 & Shrink = 0\tTOTAL MISS=4856\tRelevant=587\n"
     ]
    },
    {
     "name": "stderr",
     "output_type": "stream",
     "text": [
      "Evaluating MAP with target: 100%|██████████| 5443/5443 [00:04<00:00, 1138.66it/s]\n",
      "Evaluating MAP with target:   7%|▋         | 368/5443 [00:00<00:02, 1830.54it/s]"
     ]
    },
    {
     "name": "stdout",
     "output_type": "stream",
     "text": [
      "ItemBasedCollaborativeFiltering -> MAP: 0.0090 with TopK = 0 & Shrink = 0\tTOTAL MISS=4857\tRelevant=586\n"
     ]
    },
    {
     "name": "stderr",
     "output_type": "stream",
     "text": [
      "Evaluating MAP with target: 100%|██████████| 5443/5443 [00:03<00:00, 1651.20it/s]\n",
      "Evaluating MAP with target:   8%|▊         | 203/2502 [00:00<00:02, 1009.09it/s]"
     ]
    },
    {
     "name": "stdout",
     "output_type": "stream",
     "text": [
      "UserContentBasedRecommender -> MAP: 0.0000 with TopK = 0 & Shrink = 0\tTOTAL MISS=5442\tRelevant=1\n"
     ]
    },
    {
     "name": "stderr",
     "output_type": "stream",
     "text": [
      "Evaluating MAP with target: 100%|██████████| 2502/2502 [00:02<00:00, 987.25it/s] \n",
      "Evaluating MAP with target:   4%|▍         | 101/2502 [00:00<00:02, 1009.51it/s]"
     ]
    },
    {
     "name": "stdout",
     "output_type": "stream",
     "text": [
      "FeatureBoostedItemCollaborativeFiltering -> MAP: 0.0031 with TopK = 0 & Shrink = 0\tTOTAL MISS=2279\tRelevant=223\n"
     ]
    },
    {
     "name": "stderr",
     "output_type": "stream",
     "text": [
      "Evaluating MAP with target: 100%|██████████| 2502/2502 [00:02<00:00, 996.09it/s] \n",
      "Evaluating MAP with target:  15%|█▍        | 370/2502 [00:00<00:01, 1847.92it/s]"
     ]
    },
    {
     "name": "stdout",
     "output_type": "stream",
     "text": [
      "ItemBasedCollaborativeFiltering -> MAP: 0.0031 with TopK = 0 & Shrink = 0\tTOTAL MISS=2279\tRelevant=223\n"
     ]
    },
    {
     "name": "stderr",
     "output_type": "stream",
     "text": [
      "Evaluating MAP with target: 100%|██████████| 2502/2502 [00:01<00:00, 1616.80it/s]\n",
      "Evaluating MAP with target:   6%|▌         | 67/1183 [00:00<00:01, 666.01it/s]"
     ]
    },
    {
     "name": "stdout",
     "output_type": "stream",
     "text": [
      "UserContentBasedRecommender -> MAP: 0.0000 with TopK = 0 & Shrink = 0\tTOTAL MISS=2499\tRelevant=3\n"
     ]
    },
    {
     "name": "stderr",
     "output_type": "stream",
     "text": [
      "Evaluating MAP with target: 100%|██████████| 1183/1183 [00:01<00:00, 758.98it/s]\n",
      "Evaluating MAP with target:  13%|█▎        | 155/1183 [00:00<00:01, 766.95it/s]"
     ]
    },
    {
     "name": "stdout",
     "output_type": "stream",
     "text": [
      "FeatureBoostedItemCollaborativeFiltering -> MAP: 0.0010 with TopK = 0 & Shrink = 0\tTOTAL MISS=1115\tRelevant=68\n"
     ]
    },
    {
     "name": "stderr",
     "output_type": "stream",
     "text": [
      "Evaluating MAP with target: 100%|██████████| 1183/1183 [00:01<00:00, 769.07it/s]\n",
      "Evaluating MAP with target:  16%|█▌        | 185/1183 [00:00<00:00, 1843.77it/s]"
     ]
    },
    {
     "name": "stdout",
     "output_type": "stream",
     "text": [
      "ItemBasedCollaborativeFiltering -> MAP: 0.0014 with TopK = 0 & Shrink = 0\tTOTAL MISS=1083\tRelevant=100\n"
     ]
    },
    {
     "name": "stderr",
     "output_type": "stream",
     "text": [
      "Evaluating MAP with target: 100%|██████████| 1183/1183 [00:00<00:00, 1618.73it/s]\n",
      "Evaluating MAP with target:  14%|█▎        | 72/530 [00:00<00:00, 711.38it/s]"
     ]
    },
    {
     "name": "stdout",
     "output_type": "stream",
     "text": [
      "UserContentBasedRecommender -> MAP: 0.0000 with TopK = 0 & Shrink = 0\tTOTAL MISS=1183\tRelevant=0\n"
     ]
    },
    {
     "name": "stderr",
     "output_type": "stream",
     "text": [
      "Evaluating MAP with target: 100%|██████████| 530/530 [00:00<00:00, 726.35it/s]\n",
      "Evaluating MAP with target:  14%|█▎        | 72/530 [00:00<00:00, 711.05it/s]"
     ]
    },
    {
     "name": "stdout",
     "output_type": "stream",
     "text": [
      "FeatureBoostedItemCollaborativeFiltering -> MAP: 0.0004 with TopK = 0 & Shrink = 0\tTOTAL MISS=498\tRelevant=32\n"
     ]
    },
    {
     "name": "stderr",
     "output_type": "stream",
     "text": [
      "Evaluating MAP with target: 100%|██████████| 530/530 [00:00<00:00, 709.81it/s]\n",
      "Evaluating MAP with target:  32%|███▏      | 168/530 [00:00<00:00, 1676.75it/s]"
     ]
    },
    {
     "name": "stdout",
     "output_type": "stream",
     "text": [
      "ItemBasedCollaborativeFiltering -> MAP: 0.0006 with TopK = 0 & Shrink = 0\tTOTAL MISS=494\tRelevant=36\n"
     ]
    },
    {
     "name": "stderr",
     "output_type": "stream",
     "text": [
      "Evaluating MAP with target: 100%|██████████| 530/530 [00:00<00:00, 1507.56it/s]\n",
      "Evaluating MAP with target: 100%|██████████| 131/131 [00:00<00:00, 676.06it/s]\n",
      "Evaluating MAP with target:   0%|          | 0/131 [00:00<?, ?it/s]"
     ]
    },
    {
     "name": "stdout",
     "output_type": "stream",
     "text": [
      "UserContentBasedRecommender -> MAP: 0.0000 with TopK = 0 & Shrink = 0\tTOTAL MISS=530\tRelevant=0\n",
      "FeatureBoostedItemCollaborativeFiltering -> MAP: 0.0001 with TopK = 0 & Shrink = 0\tTOTAL MISS=128\tRelevant=3\n"
     ]
    },
    {
     "name": "stderr",
     "output_type": "stream",
     "text": [
      "Evaluating MAP with target: 100%|██████████| 131/131 [00:00<00:00, 676.23it/s]\n",
      "Evaluating MAP with target: 100%|██████████| 131/131 [00:00<00:00, 1457.24it/s]\n",
      "Evaluating MAP with target: 100%|██████████| 5/5 [00:00<00:00, 541.12it/s]\n",
      "Evaluating MAP with target: 100%|██████████| 5/5 [00:00<00:00, 530.90it/s]\n",
      "Evaluating MAP with target: 100%|██████████| 5/5 [00:00<00:00, 1192.17it/s]"
     ]
    },
    {
     "name": "stdout",
     "output_type": "stream",
     "text": [
      "ItemBasedCollaborativeFiltering -> MAP: 0.0001 with TopK = 0 & Shrink = 0\tTOTAL MISS=126\tRelevant=5\n",
      "UserContentBasedRecommender -> MAP: 0.0000 with TopK = 0 & Shrink = 0\tTOTAL MISS=131\tRelevant=0\n",
      "FeatureBoostedItemCollaborativeFiltering -> MAP: 0.0000 with TopK = 0 & Shrink = 0\tTOTAL MISS=5\tRelevant=0\n",
      "ItemBasedCollaborativeFiltering -> MAP: 0.0000 with TopK = 0 & Shrink = 0\tTOTAL MISS=5\tRelevant=0\n",
      "UserContentBasedRecommender -> MAP: 0.0000 with TopK = 0 & Shrink = 0\tTOTAL MISS=5\tRelevant=0\n"
     ]
    },
    {
     "name": "stderr",
     "output_type": "stream",
     "text": [
      "\n"
     ]
    }
   ],
   "source": [
    "from Recommenders.CF.FeatureBoostedItemCollaborative import FeatureBoostedItemCollaborativeFiltering\n",
    "from Recommenders.CF.item_cf import ItemBasedCollaborativeFiltering\n",
    "from Recommenders.CBF.user_CBF import UserContentBasedRecommender\n",
    "\n",
    "MAPs_FBICF = []\n",
    "MAPs_ICF = []\n",
    "MAPs_UCBF = []\n",
    "\n",
    "FBICF = FeatureBoostedItemCollaborativeFiltering(31, 5)\n",
    "FBICF.fit(URM.copy(), boost=True)\n",
    "\n",
    "itemCF = ItemBasedCollaborativeFiltering(29, 5)\n",
    "itemCF.fit(URM.copy())\n",
    "\n",
    "userCBF = UserContentBasedRecommender(1000, 500)\n",
    "userCBF.fit(URM.copy(), data['UCM'])\n",
    "\n",
    "for group_id in range(len(group)):\n",
    "    result = FBICF.evaluate_MAP_target(data['test'], group[group_id])\n",
    "    MAPs_FBICF.append(result['MAP'])\n",
    "    \n",
    "    result = itemCF.evaluate_MAP_target(data['test'], group[group_id])\n",
    "    MAPs_ICF.append(result['MAP'])\n",
    "    \n",
    "    result = userCBF.evaluate_MAP_target(data['test'], group[group_id])\n",
    "    MAPs_UCBF = []"
   ]
  },
  {
   "cell_type": "code",
   "execution_count": 5,
   "metadata": {},
   "outputs": [
    {
     "data": {
      "image/png": "[encoded data removed]",
      "text/plain": [
       "<Figure size 432x288 with 1 Axes>"
      ]
     },
     "metadata": {
      "needs_background": "light"
     },
     "output_type": "display_data"
    }
   ],
   "source": [
    "import matplotlib.pyplot as pyplot\n",
    "%matplotlib inline  \n",
    "\n",
    "pyplot.plot(MAPs_FBICF, label=\"FBICF\")\n",
    "pyplot.plot(MAPs_ICF, label=\"ItemCF\")\n",
    "pyplot.plot(MAPs_UCBF, label=\"userCBF\")\n",
    "pyplot.ylabel('MAP')\n",
    "pyplot.xlabel('User Groups')\n",
    "pyplot.legend()\n",
    "pyplot.show()"
   ]
  },
  {
   "cell_type": "code",
   "execution_count": null,
   "metadata": {},
   "outputs": [],
   "source": []
  }
 ],
 "metadata": {
  "kernelspec": {
   "display_name": "Python 3",
   "language": "python",
   "name": "python3"
  },
  "language_info": {
   "codemirror_mode": {
    "name": "ipython",
    "version": 3
   },
   "file_extension": ".py",
   "mimetype": "text/x-python",
   "name": "python",
   "nbconvert_exporter": "python",
   "pygments_lexer": "ipython3",
   "version": "3.7.4"
  }
 },
 "nbformat": 4,
 "nbformat_minor": 2
}
