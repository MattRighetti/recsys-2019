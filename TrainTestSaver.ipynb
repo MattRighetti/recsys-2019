{
 "cells": [
  {
   "cell_type": "markdown",
   "metadata": {},
   "source": [
    "# Static train/test"
   ]
  },
  {
   "cell_type": "code",
   "execution_count": 8,
   "metadata": {},
   "outputs": [
    {
     "data": {
      "text/plain": [
       "<30911x18495 sparse matrix of type '<class 'numpy.float64'>'\n",
       "\twith 398636 stored elements in Compressed Sparse Row format>"
      ]
     },
     "execution_count": 8,
     "metadata": {},
     "output_type": "execute_result"
    }
   ],
   "source": [
    "from Utils.Toolkit import get_data\n",
    "import scipy.sparse as sps\n",
    "import numpy as np\n",
    "\n",
    "urm = get_data()['URM_all'].tocsr()\n",
    "urm"
   ]
  },
  {
   "cell_type": "code",
   "execution_count": null,
   "metadata": {},
   "outputs": [
    {
     "name": "stdout",
     "output_type": "stream",
     "text": [
      "Warning: 8392 (27.15 %) of 30911 users have no Train items\n",
      "Warning: 8392 (27.15 %) of 30911 users have no Train items\n",
      "Warning: 8392 (27.15 %) of 30911 users have no Train items\n",
      "Warning: 8392 (27.15 %) of 30911 users have no Train items\n",
      "Warning: 8392 (27.15 %) of 30911 users have no Train items\n",
      "Warning: 8392 (27.15 %) of 30911 users have no Train items\n",
      "Warning: 8392 (27.15 %) of 30911 users have no Train items\n",
      "Warning: 8392 (27.15 %) of 30911 users have no Train items\n",
      "Warning: 8392 (27.15 %) of 30911 users have no Train items\n",
      "Warning: 8392 (27.15 %) of 30911 users have no Train items\n",
      "Warning: 8392 (27.15 %) of 30911 users have no Train items\n",
      "Warning: 8392 (27.15 %) of 30911 users have no Train items\n",
      "Warning: 8392 (27.15 %) of 30911 users have no Train items\n",
      "Warning: 8392 (27.15 %) of 30911 users have no Train items\n",
      "Warning: 8392 (27.15 %) of 30911 users have no Train items\n",
      "Warning: 8392 (27.15 %) of 30911 users have no Train items\n",
      "Warning: 8392 (27.15 %) of 30911 users have no Train items\n",
      "Warning: 8392 (27.15 %) of 30911 users have no Train items\n",
      "Warning: 8392 (27.15 %) of 30911 users have no Train items\n",
      "Warning: 8392 (27.15 %) of 30911 users have no Train items\n",
      "Warning: 8392 (27.15 %) of 30911 users have no Train items\n",
      "Warning: 8392 (27.15 %) of 30911 users have no Train items\n",
      "Warning: 8392 (27.15 %) of 30911 users have no Train items\n",
      "Warning: 8392 (27.15 %) of 30911 users have no Train items\n",
      "Warning: 8392 (27.15 %) of 30911 users have no Train items\n",
      "Warning: 8392 (27.15 %) of 30911 users have no Train items\n",
      "Warning: 8392 (27.15 %) of 30911 users have no Train items\n",
      "Warning: 8392 (27.15 %) of 30911 users have no Train items\n",
      "Warning: 8392 (27.15 %) of 30911 users have no Train items\n",
      "Warning: 8392 (27.15 %) of 30911 users have no Train items\n",
      "Warning: 8392 (27.15 %) of 30911 users have no Train items\n",
      "Warning: 8392 (27.15 %) of 30911 users have no Train items\n",
      "Warning: 8392 (27.15 %) of 30911 users have no Train items\n",
      "Warning: 8392 (27.15 %) of 30911 users have no Train items\n",
      "Warning: 8392 (27.15 %) of 30911 users have no Train items\n",
      "Warning: 8392 (27.15 %) of 30911 users have no Train items\n",
      "Warning: 8392 (27.15 %) of 30911 users have no Train items\n",
      "Warning: 8392 (27.15 %) of 30911 users have no Train items\n",
      "Warning: 8392 (27.15 %) of 30911 users have no Train items\n",
      "Warning: 8392 (27.15 %) of 30911 users have no Train items\n",
      "Warning: 8392 (27.15 %) of 30911 users have no Train items\n",
      "Warning: 8392 (27.15 %) of 30911 users have no Train items\n",
      "Warning: 8392 (27.15 %) of 30911 users have no Train items\n",
      "Warning: 8392 (27.15 %) of 30911 users have no Train items\n",
      "Warning: 8392 (27.15 %) of 30911 users have no Train items\n",
      "Warning: 8392 (27.15 %) of 30911 users have no Train items\n",
      "Warning: 8392 (27.15 %) of 30911 users have no Train items\n",
      "Warning: 8392 (27.15 %) of 30911 users have no Train items\n",
      "Warning: 8392 (27.15 %) of 30911 users have no Train items\n",
      "Warning: 8392 (27.15 %) of 30911 users have no Train items\n",
      "Warning: 8392 (27.15 %) of 30911 users have no Train items\n",
      "Warning: 8392 (27.15 %) of 30911 users have no Train items\n",
      "Warning: 8392 (27.15 %) of 30911 users have no Train items\n",
      "Warning: 8392 (27.15 %) of 30911 users have no Train items\n",
      "Warning: 8392 (27.15 %) of 30911 users have no Train items\n",
      "Warning: 8392 (27.15 %) of 30911 users have no Train items\n",
      "Warning: 8392 (27.15 %) of 30911 users have no Train items\n",
      "Warning: 8392 (27.15 %) of 30911 users have no Train items\n",
      "Warning: 8392 (27.15 %) of 30911 users have no Train items\n",
      "Warning: 8392 (27.15 %) of 30911 users have no Train items\n",
      "Warning: 8392 (27.15 %) of 30911 users have no Train items\n",
      "Warning: 8392 (27.15 %) of 30911 users have no Train items\n",
      "Warning: 8392 (27.15 %) of 30911 users have no Train items\n",
      "Warning: 8392 (27.15 %) of 30911 users have no Train items\n",
      "Warning: 8392 (27.15 %) of 30911 users have no Train items\n",
      "Warning: 8392 (27.15 %) of 30911 users have no Train items\n",
      "Warning: 8392 (27.15 %) of 30911 users have no Train items\n",
      "Warning: 8392 (27.15 %) of 30911 users have no Train items\n",
      "Warning: 8392 (27.15 %) of 30911 users have no Train items\n",
      "Warning: 8392 (27.15 %) of 30911 users have no Train items\n",
      "Warning: 8392 (27.15 %) of 30911 users have no Train items\n",
      "Warning: 8392 (27.15 %) of 30911 users have no Train items\n",
      "Warning: 8392 (27.15 %) of 30911 users have no Train items\n",
      "Warning: 8392 (27.15 %) of 30911 users have no Train items\n",
      "Warning: 8392 (27.15 %) of 30911 users have no Train items\n",
      "Warning: 8392 (27.15 %) of 30911 users have no Train items\n",
      "Warning: 8392 (27.15 %) of 30911 users have no Train items\n",
      "Warning: 8392 (27.15 %) of 30911 users have no Train items\n",
      "Warning: 8392 (27.15 %) of 30911 users have no Train items\n",
      "Warning: 8392 (27.15 %) of 30911 users have no Train items\n",
      "Warning: 8392 (27.15 %) of 30911 users have no Train items\n",
      "Warning: 8392 (27.15 %) of 30911 users have no Train items\n",
      "Warning: 8392 (27.15 %) of 30911 users have no Train items\n",
      "Warning: 8392 (27.15 %) of 30911 users have no Train items\n",
      "Warning: 8392 (27.15 %) of 30911 users have no Train items\n",
      "Warning: 8392 (27.15 %) of 30911 users have no Train items\n"
     ]
    }
   ],
   "source": [
    "from Algorithms.Data_manager.Split_functions.split_train_validation_leave_k_out import split_train_leave_k_out_user_wise\n",
    "\n",
    "\n",
    "for i in range(100):\n",
    "    train, test = split_train_leave_k_out_user_wise(urm, k_out=1)\n",
    "    sps.save_npz('/Users/mattiarighetti/Desktop/recsys-2019/data/saved_matrices/train_' + str(i), train)\n",
    "    sps.save_npz('/Users/mattiarighetti/Desktop/recsys-2019/data/saved_matrices/test_' + str(i), test)"
   ]
  },
  {
   "cell_type": "code",
   "execution_count": 25,
   "metadata": {},
   "outputs": [],
   "source": []
  },
  {
   "cell_type": "code",
   "execution_count": null,
   "metadata": {},
   "outputs": [],
   "source": []
  },
  {
   "cell_type": "code",
   "execution_count": null,
   "metadata": {},
   "outputs": [],
   "source": []
  },
  {
   "cell_type": "code",
   "execution_count": null,
   "metadata": {},
   "outputs": [],
   "source": []
  },
  {
   "cell_type": "code",
   "execution_count": null,
   "metadata": {},
   "outputs": [],
   "source": []
  },
  {
   "cell_type": "code",
   "execution_count": null,
   "metadata": {},
   "outputs": [],
   "source": []
  }
 ],
 "metadata": {
  "kernelspec": {
   "display_name": "Python 3",
   "language": "python",
   "name": "python3"
  },
  "language_info": {
   "codemirror_mode": {
    "name": "ipython",
    "version": 3
   },
   "file_extension": ".py",
   "mimetype": "text/x-python",
   "name": "python",
   "nbconvert_exporter": "python",
   "pygments_lexer": "ipython3",
   "version": "3.7.5"
  }
 },
 "nbformat": 4,
 "nbformat_minor": 2
}
