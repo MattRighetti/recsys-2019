{
 "cells": [
  {
   "cell_type": "markdown",
   "metadata": {},
   "source": [
    "# Static train/test"
   ]
  },
  {
   "cell_type": "code",
   "execution_count": 1,
   "metadata": {
    "scrolled": true
   },
   "outputs": [],
   "source": [
    "from Utils.Toolkit import get_data, get_static_data\n",
    "import scipy.sparse as sps\n",
    "import numpy as np"
   ]
  },
  {
   "cell_type": "code",
   "execution_count": 9,
   "metadata": {},
   "outputs": [],
   "source": [
    "urm = data['URM_all']\n",
    "icm_subclass = data['ICM_subclass']\n",
    "icm_asset = data['ICM_asset']\n",
    "icm_price = data['ICM_price']\n",
    "ucm_age = data['UCM_age']\n",
    "ucm_region = data['UCM_region']"
   ]
  },
  {
   "cell_type": "code",
   "execution_count": 10,
   "metadata": {},
   "outputs": [],
   "source": [
    "urm = urm.tocsr()\n",
    "icm_subclass = icm_subclass.tocsr()\n",
    "icm_asset = icm_asset.tocsr()\n",
    "icm_price = icm_price.tocsr()\n",
    "ucm_age = ucm_age.tocsr()\n",
    "ucm_region = ucm_region.tocsr()"
   ]
  },
  {
   "cell_type": "markdown",
   "metadata": {},
   "source": [
    "# Save locally"
   ]
  },
  {
   "cell_type": "code",
   "execution_count": 19,
   "metadata": {},
   "outputs": [],
   "source": [
    "sps.save_npz('/Users/mattiarighetti/Developer/PycharmProjects/recsys/data/data_matrices/data_train.npz', urm)\n",
    "sps.save_npz('/Users/mattiarighetti/Developer/PycharmProjects/recsys/data/data_matrices/data_ICM_sub_class.npz', icm_subclass)\n",
    "sps.save_npz('/Users/mattiarighetti/Developer/PycharmProjects/recsys/data/data_matrices/data_ICM_asset.npz', icm_asset)\n",
    "sps.save_npz('/Users/mattiarighetti/Developer/PycharmProjects/recsys/data/data_matrices/data_ICM_price.npz', icm_price)\n",
    "sps.save_npz('/Users/mattiarighetti/Developer/PycharmProjects/recsys/data/data_matrices/data_UCM_age.npz', ucm_age)\n",
    "sps.save_npz('/Users/mattiarighetti/Developer/PycharmProjects/recsys/data/data_matrices/data_UCM_region.npz', ucm_region)"
   ]
  },
  {
   "cell_type": "code",
   "execution_count": 15,
   "metadata": {},
   "outputs": [],
   "source": [
    "target_users = np.asarray(data['target_users'])\n",
    "np.save('/Users/mattiarighetti/Developer/PycharmProjects/recsys/data/data_matrices/target_users.npy', target_users)"
   ]
  },
  {
   "cell_type": "code",
   "execution_count": 16,
   "metadata": {},
   "outputs": [
    {
     "data": {
      "text/plain": [
       "array([    0,     1,     2, ..., 30908, 30909, 30910])"
      ]
     },
     "execution_count": 16,
     "metadata": {},
     "output_type": "execute_result"
    }
   ],
   "source": [
    "target_users_load = np.load('/Users/mattiarighetti/Developer/PycharmProjects/recsys/data/data_matrices/target_users.npy')\n",
    "target_users_load"
   ]
  },
  {
   "cell_type": "markdown",
   "metadata": {},
   "source": [
    "# Test Train Generator"
   ]
  },
  {
   "cell_type": "code",
   "execution_count": 2,
   "metadata": {},
   "outputs": [],
   "source": [
    "# from Algorithms.Data_manager.Split_functions.split_train_validation_leave_k_out import split_train_leave_k_out_user_wise\n",
    "\n",
    "\n",
    "# for i in range(100):\n",
    "#     train, test = split_train_leave_k_out_user_wise(urm, k_out=1)\n",
    "#     sps.save_npz('/Users/mattiarighetti/Desktop/recsys-2019/data/saved_matrices/train_' + str(i), train)\n",
    "#     sps.save_npz('/Users/mattiarighetti/Desktop/recsys-2019/data/saved_matrices/test_' + str(i), test)"
   ]
  },
  {
   "cell_type": "markdown",
   "metadata": {},
   "source": [
    "# Enoy the speedup"
   ]
  },
  {
   "cell_type": "code",
   "execution_count": 5,
   "metadata": {},
   "outputs": [
    {
     "name": "stdout",
     "output_type": "stream",
     "text": [
      "CPU times: user 14.4 s, sys: 1.96 s, total: 16.4 s\n",
      "Wall time: 6.91 s\n"
     ]
    }
   ],
   "source": [
    "%time data = get_data()"
   ]
  },
  {
   "cell_type": "code",
   "execution_count": 2,
   "metadata": {},
   "outputs": [
    {
     "name": "stdout",
     "output_type": "stream",
     "text": [
      "CPU times: user 59.5 ms, sys: 6.63 ms, total: 66.1 ms\n",
      "Wall time: 64.7 ms\n"
     ]
    }
   ],
   "source": [
    "%time static_data = get_static_data()"
   ]
  },
  {
   "cell_type": "code",
   "execution_count": 7,
   "metadata": {},
   "outputs": [
    {
     "name": "stdout",
     "output_type": "stream",
     "text": [
      "Speedup 98.83%\n"
     ]
    }
   ],
   "source": [
    "first_time = 6.76\n",
    "second_time = 68.4e-3\n",
    "speedup = first_time / second_time\n",
    "print(f'Speedup {speedup:.2f}%')"
   ]
  },
  {
   "cell_type": "code",
   "execution_count": 3,
   "metadata": {},
   "outputs": [
    {
     "data": {
      "text/plain": [
       "<30911x18495 sparse matrix of type '<class 'numpy.float64'>'\n",
       "\twith 398636 stored elements in Compressed Sparse Row format>"
      ]
     },
     "execution_count": 3,
     "metadata": {},
     "output_type": "execute_result"
    }
   ],
   "source": [
    "static_data['URM_all']"
   ]
  },
  {
   "cell_type": "code",
   "execution_count": 4,
   "metadata": {},
   "outputs": [
    {
     "data": {
      "text/plain": [
       "array([    0,     1,     2, ..., 30908, 30909, 30910])"
      ]
     },
     "execution_count": 4,
     "metadata": {},
     "output_type": "execute_result"
    }
   ],
   "source": [
    "static_data['target_users']"
   ]
  },
  {
   "cell_type": "code",
   "execution_count": null,
   "metadata": {},
   "outputs": [],
   "source": []
  }
 ],
 "metadata": {
  "kernelspec": {
   "display_name": "Python 3",
   "language": "python",
   "name": "python3"
  },
  "language_info": {
   "codemirror_mode": {
    "name": "ipython",
    "version": 3
   },
   "file_extension": ".py",
   "mimetype": "text/x-python",
   "name": "python",
   "nbconvert_exporter": "python",
   "pygments_lexer": "ipython3",
   "version": "3.7.4"
  }
 },
 "nbformat": 4,
 "nbformat_minor": 2
}
