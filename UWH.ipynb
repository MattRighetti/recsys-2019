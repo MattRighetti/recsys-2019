{
 "cells": [
  {
   "cell_type": "markdown",
   "metadata": {},
   "source": [
    "# User Wise Hybrid"
   ]
  },
  {
   "cell_type": "code",
   "execution_count": 1,
   "metadata": {},
   "outputs": [],
   "source": [
    "from Utils.Toolkit import get_data\n",
    "\n",
    "data = get_data()\n",
    "\n",
    "URM = data['train'].tocsr()\n",
    "ICM = data['ICM_subclass'].tocsr()"
   ]
  },
  {
   "cell_type": "markdown",
   "metadata": {},
   "source": [
    "## Let's divide users intro groups"
   ]
  },
  {
   "cell_type": "code",
   "execution_count": 2,
   "metadata": {},
   "outputs": [],
   "source": [
    "import numpy as np\n",
    "\n",
    "group0 = []\n",
    "group1 = []\n",
    "group2 = []\n",
    "group3 = []\n",
    "group4 = []\n",
    "group5 = []\n",
    "group6 = []\n",
    "group7 = []\n",
    "group8 = []\n",
    "group9 = []\n",
    "\n",
    "for user_id in range(URM.shape[0]):\n",
    "    start_pos = URM.indptr[user_id]\n",
    "    end_pos = URM.indptr[user_id + 1]\n",
    "    if len(URM.data[start_pos:end_pos]) == 0:\n",
    "        group0.append(user_id)\n",
    "    elif 0 < len(URM.data[start_pos:end_pos]) <= 2:\n",
    "        group1.append(user_id)\n",
    "    elif 2 < len(URM.data[start_pos:end_pos]) <= 5:\n",
    "        group2.append(user_id)\n",
    "    elif 5 < len(URM.data[start_pos:end_pos]) <= 10:\n",
    "        group3.append(user_id)\n",
    "    elif 10 < len(URM.data[start_pos:end_pos]) <= 20:\n",
    "        group4.append(user_id)\n",
    "    elif 20 < len(URM.data[start_pos:end_pos]) <= 30:\n",
    "        group5.append(user_id)\n",
    "    elif 40 < len(URM.data[start_pos:end_pos]) <= 60:\n",
    "        group6.append(user_id)\n",
    "    elif 60 < len(URM.data[start_pos:end_pos]) <= 100:\n",
    "        group7.append(user_id)\n",
    "    elif 100 < len(URM.data[start_pos:end_pos]) <= 300:\n",
    "        group8.append(user_id)\n",
    "    elif 300 < len(URM.data[start_pos:end_pos]) <= 10000:\n",
    "        group9.append(user_id)\n",
    "\n",
    "        \n",
    "group0 = np.array(group0)\n",
    "group1 = np.array(group1)\n",
    "group2 = np.array(group2)\n",
    "group3 = np.array(group3)\n",
    "group4 = np.array(group4)\n",
    "group5 = np.array(group5)\n",
    "group6 = np.array(group6)\n",
    "group7 = np.array(group7)\n",
    "group8 = np.array(group8)\n",
    "group9 = np.array(group9)\n",
    "\n",
    "group = np.array([group0, group1, group2, group3, group4, group5, group6, group7, group8, group9])"
   ]
  },
  {
   "cell_type": "code",
   "execution_count": 3,
   "metadata": {},
   "outputs": [
    {
     "name": "stdout",
     "output_type": "stream",
     "text": [
      "6473 Cold users\n",
      "3695\n",
      "4556\n",
      "5034\n",
      "5443\n",
      "2502\n",
      "1183\n",
      "530\n",
      "131\n",
      "5\n"
     ]
    }
   ],
   "source": [
    "print(str(len(group0)) + \" Cold users\")\n",
    "print(len(group1))\n",
    "print(len(group2))\n",
    "print(len(group3))\n",
    "print(len(group4))\n",
    "print(len(group5))\n",
    "print(len(group6))\n",
    "print(len(group7))\n",
    "print(len(group8))\n",
    "print(len(group9))"
   ]
  },
  {
   "cell_type": "code",
   "execution_count": 4,
   "metadata": {},
   "outputs": [
    {
     "name": "stdout",
     "output_type": "stream",
     "text": [
      "Fitting ItemCF...\n",
      "Fitting UserCBF...\n",
      "Fitting SLIM...\n"
     ]
    },
    {
     "name": "stderr",
     "output_type": "stream",
     "text": [
      "WARNING:root:Intel MKL BLAS detected. Its highly recommend to set the environment variable 'export MKL_NUM_THREADS=1' to disable its internal multithreading\n"
     ]
    },
    {
     "name": "stdout",
     "output_type": "stream",
     "text": [
      "Fitting ALS...\n"
     ]
    },
    {
     "data": {
      "application/vnd.jupyter.widget-view+json": {
       "model_id": "c53e28b941a94758a23e6bd57bf717fb",
       "version_major": 2,
       "version_minor": 0
      },
      "text/plain": [
       "HBox(children=(IntProgress(value=0, max=30), HTML(value='')))"
      ]
     },
     "metadata": {},
     "output_type": "display_data"
    },
    {
     "name": "stdout",
     "output_type": "stream",
     "text": [
      "\n",
      "Done fitting models...\n"
     ]
    }
   ],
   "source": [
    "from Recommenders.HYB.hybrid import HybridRecommender\n",
    "\n",
    "userCF_args = {\n",
    "        'topK' : 102,\n",
    "        'shrink' : 7\n",
    "}\n",
    "\n",
    "userCBF_args = {\n",
    "    'topK' : 1000,\n",
    "    'shrink' : 7950\n",
    "}\n",
    "\n",
    "itemCF_args = {\n",
    "    'topK' : 29,\n",
    "    'shrink' : 5\n",
    "}\n",
    "itemCBF_args = {\n",
    "    'topK' : 29,\n",
    "    'shrink' : 5\n",
    "}\n",
    "\n",
    "SLIM_BPR_args = {\n",
    "    'topK': 20,\n",
    "    'lambda_i': 5.0,\n",
    "    'lambda_j': 7.0,\n",
    "    'epochs': 5000,\n",
    "    'learning_rate' : 1e-4,\n",
    "    'symmetric' : True,\n",
    "    'sgd_mode' : 'adam'\n",
    "}\n",
    "\n",
    "weights_initial = {\n",
    "    'user_cf' : 0,\n",
    "    'item_cf' : 1.55,\n",
    "    'SLIM_BPR' : 1.62,\n",
    "    'item_cbf' : 0,\n",
    "    'ALS' : 0.6\n",
    "}\n",
    "\n",
    "weights_middle = {\n",
    "    'user_cf' : 0,\n",
    "    'item_cf' : 1.55,\n",
    "    'SLIM_BPR' : 1.52,\n",
    "    'item_cbf' : 0,\n",
    "    'ALS' : 0.6\n",
    "}\n",
    "\n",
    "weights_end = {\n",
    "    'user_cf' : 0,\n",
    "    'item_cf' : 1.55,\n",
    "    'SLIM_BPR' : 0,\n",
    "    'item_cbf' : 0,\n",
    "    'ALS' : 0.3\n",
    "}\n",
    "\n",
    "hyb = HybridRecommender(weights=[weights_initial, weights_middle, weights_end],\n",
    "                            userCF_args=userCF_args,\n",
    "                            SLIM_BPR_args=SLIM_BPR_args,\n",
    "                            itemCF_args=itemCF_args,\n",
    "                            itemCBF_args=itemCBF_args,\n",
    "                            userCBF_args=userCBF_args)\n",
    "\n",
    "hyb.fit(URM, ICM, data['UCM'].tocsr())"
   ]
  },
  {
   "cell_type": "code",
   "execution_count": 5,
   "metadata": {
    "scrolled": true
   },
   "outputs": [],
   "source": [
    "from Recommenders.CF.FeatureBoostedItemCollaborative import FeatureBoostedItemCollaborativeFiltering\n",
    "from Recommenders.CF.item_cf import ItemBasedCollaborativeFiltering\n",
    "from Recommenders.CF.user_cf import UserBasedCollaborativeFiltering\n",
    "from Recommenders.CBF.user_CBF import UserContentBasedRecommender\n",
    "from Recommenders.CBF.item_CBF import ItemContentBasedRecommender\n",
    "from Recommenders.SLIM.SLIM_BPR_Cython import SLIM_BPR_Cython\n",
    "\n",
    "itemCF = ItemBasedCollaborativeFiltering(29, 5)\n",
    "itemCF.fit(URM.copy())\n",
    "\n",
    "userCBF = UserContentBasedRecommender(1000, 7900)\n",
    "userCBF.fit(URM.copy(), data['UCM'])\n",
    "\n",
    "userCF = UserBasedCollaborativeFiltering(94, 19)\n",
    "userCF.fit(URM.copy())\n",
    "\n",
    "itemCBF = ItemContentBasedRecommender(100, 5)\n",
    "itemCBF.fit(URM.copy(), ICM)\n",
    "\n",
    "\n",
    "\n",
    "slim = SLIM_BPR_Cython(epochs=5000,\n",
    "                               topK=20,\n",
    "                               lambda_i=1.0,\n",
    "                               lambda_j=7.0,\n",
    "                               positive_threshold=1,\n",
    "                               sgd_mode=\"adam\",\n",
    "                               symmetric=False,\n",
    "                               learning_rate=1e-4)\n",
    "\n",
    "slim.fit(URM.copy())"
   ]
  },
  {
   "cell_type": "code",
   "execution_count": 6,
   "metadata": {
    "scrolled": true
   },
   "outputs": [
    {
     "name": "stderr",
     "output_type": "stream",
     "text": [
      "Evaluating MAP with target: 100%|██████████| 6473/6473 [00:02<00:00, 3050.42it/s]\n",
      "Evaluating MAP with target:   3%|▎         | 168/6473 [00:00<00:03, 1679.41it/s]"
     ]
    },
    {
     "name": "stdout",
     "output_type": "stream",
     "text": [
      "ItemBasedCollaborativeFiltering -> MAP: 0.0000\tTOTAL MISS=2813\tRelevant=4\n"
     ]
    },
    {
     "name": "stderr",
     "output_type": "stream",
     "text": [
      "Evaluating MAP with target: 100%|██████████| 6473/6473 [00:03<00:00, 1697.18it/s]\n",
      "Evaluating MAP with target:   5%|▌         | 324/6473 [00:00<00:01, 3231.27it/s]"
     ]
    },
    {
     "name": "stdout",
     "output_type": "stream",
     "text": [
      "UserContentBasedRecommender -> MAP: 0.0014\tTOTAL MISS=2695\tRelevant=122\n"
     ]
    },
    {
     "name": "stderr",
     "output_type": "stream",
     "text": [
      "Evaluating MAP with target: 100%|██████████| 6473/6473 [00:01<00:00, 3274.59it/s]\n",
      "Evaluating MAP with target:   5%|▍         | 322/6473 [00:00<00:01, 3218.55it/s]"
     ]
    },
    {
     "name": "stdout",
     "output_type": "stream",
     "text": [
      "ItemContentBasedRecommender -> MAP: 0.0000\tTOTAL MISS=2813\tRelevant=4\n"
     ]
    },
    {
     "name": "stderr",
     "output_type": "stream",
     "text": [
      "Evaluating MAP with target: 100%|██████████| 6473/6473 [00:01<00:00, 3239.59it/s]\n",
      "Evaluating MAP with target:   5%|▌         | 327/6473 [00:00<00:01, 3269.25it/s]"
     ]
    },
    {
     "name": "stdout",
     "output_type": "stream",
     "text": [
      "UserBasedCollaborativeFiltering -> MAP: 0.0000\tTOTAL MISS=2813\tRelevant=4\n"
     ]
    },
    {
     "name": "stderr",
     "output_type": "stream",
     "text": [
      "Evaluating MAP with target: 100%|██████████| 6473/6473 [00:01<00:00, 3345.89it/s]\n",
      "Evaluating MAP with target:   1%|▏         | 89/6473 [00:00<00:07, 882.82it/s]"
     ]
    },
    {
     "name": "stdout",
     "output_type": "stream",
     "text": [
      "BaseRecommender -> MAP: 0.0000\tTOTAL MISS=2813\tRelevant=4\n"
     ]
    },
    {
     "name": "stderr",
     "output_type": "stream",
     "text": [
      "Evaluating MAP with target: 100%|██████████| 6473/6473 [00:08<00:00, 762.34it/s] \n",
      "Evaluating MAP with target:   3%|▎         | 121/3695 [00:00<00:02, 1208.71it/s]"
     ]
    },
    {
     "name": "stdout",
     "output_type": "stream",
     "text": [
      "HYB -> MAP: 0.0014\tTOTAL MISS=2695\tRelevant=122\n"
     ]
    },
    {
     "name": "stderr",
     "output_type": "stream",
     "text": [
      "Evaluating MAP with target: 100%|██████████| 3695/3695 [00:02<00:00, 1252.69it/s]\n",
      "Evaluating MAP with target:   2%|▏         | 71/3695 [00:00<00:05, 707.73it/s]"
     ]
    },
    {
     "name": "stdout",
     "output_type": "stream",
     "text": [
      "ItemBasedCollaborativeFiltering -> MAP: 0.0067\tTOTAL MISS=3383\tRelevant=312\n"
     ]
    },
    {
     "name": "stderr",
     "output_type": "stream",
     "text": [
      "Evaluating MAP with target: 100%|██████████| 3695/3695 [00:05<00:00, 712.29it/s]\n",
      "Evaluating MAP with target:   3%|▎         | 126/3695 [00:00<00:02, 1259.08it/s]"
     ]
    },
    {
     "name": "stdout",
     "output_type": "stream",
     "text": [
      "UserContentBasedRecommender -> MAP: 0.0013\tTOTAL MISS=3571\tRelevant=124\n"
     ]
    },
    {
     "name": "stderr",
     "output_type": "stream",
     "text": [
      "Evaluating MAP with target: 100%|██████████| 3695/3695 [00:02<00:00, 1319.84it/s]\n",
      "Evaluating MAP with target:   3%|▎         | 106/3695 [00:00<00:03, 1056.17it/s]"
     ]
    },
    {
     "name": "stdout",
     "output_type": "stream",
     "text": [
      "ItemContentBasedRecommender -> MAP: 0.0007\tTOTAL MISS=3641\tRelevant=54\n"
     ]
    },
    {
     "name": "stderr",
     "output_type": "stream",
     "text": [
      "Evaluating MAP with target: 100%|██████████| 3695/3695 [00:03<00:00, 1092.06it/s]\n",
      "Evaluating MAP with target:   4%|▍         | 141/3695 [00:00<00:02, 1400.13it/s]"
     ]
    },
    {
     "name": "stdout",
     "output_type": "stream",
     "text": [
      "UserBasedCollaborativeFiltering -> MAP: 0.0065\tTOTAL MISS=3348\tRelevant=347\n"
     ]
    },
    {
     "name": "stderr",
     "output_type": "stream",
     "text": [
      "Evaluating MAP with target: 100%|██████████| 3695/3695 [00:02<00:00, 1426.96it/s]\n",
      "Evaluating MAP with target:   1%|          | 40/3695 [00:00<00:09, 393.63it/s]"
     ]
    },
    {
     "name": "stdout",
     "output_type": "stream",
     "text": [
      "BaseRecommender -> MAP: 0.0063\tTOTAL MISS=3383\tRelevant=312\n"
     ]
    },
    {
     "name": "stderr",
     "output_type": "stream",
     "text": [
      "Evaluating MAP with target: 100%|██████████| 3695/3695 [00:09<00:00, 402.89it/s]\n",
      "Evaluating MAP with target:   5%|▌         | 239/4556 [00:00<00:03, 1189.47it/s]"
     ]
    },
    {
     "name": "stdout",
     "output_type": "stream",
     "text": [
      "HYB -> MAP: 0.0072\tTOTAL MISS=3322\tRelevant=373\n"
     ]
    },
    {
     "name": "stderr",
     "output_type": "stream",
     "text": [
      "Evaluating MAP with target: 100%|██████████| 4556/4556 [00:03<00:00, 1256.61it/s]\n",
      "Evaluating MAP with target:   3%|▎         | 140/4556 [00:00<00:06, 696.78it/s]"
     ]
    },
    {
     "name": "stdout",
     "output_type": "stream",
     "text": [
      "ItemBasedCollaborativeFiltering -> MAP: 0.0085\tTOTAL MISS=4093\tRelevant=463\n"
     ]
    },
    {
     "name": "stderr",
     "output_type": "stream",
     "text": [
      "Evaluating MAP with target: 100%|██████████| 4556/4556 [00:06<00:00, 680.05it/s]\n",
      "Evaluating MAP with target:   3%|▎         | 130/4556 [00:00<00:03, 1291.92it/s]"
     ]
    },
    {
     "name": "stdout",
     "output_type": "stream",
     "text": [
      "UserContentBasedRecommender -> MAP: 0.0018\tTOTAL MISS=4396\tRelevant=160\n"
     ]
    },
    {
     "name": "stderr",
     "output_type": "stream",
     "text": [
      "Evaluating MAP with target: 100%|██████████| 4556/4556 [00:03<00:00, 1300.78it/s]\n",
      "Evaluating MAP with target:   5%|▌         | 230/4556 [00:00<00:03, 1138.70it/s]"
     ]
    },
    {
     "name": "stdout",
     "output_type": "stream",
     "text": [
      "ItemContentBasedRecommender -> MAP: 0.0008\tTOTAL MISS=4494\tRelevant=62\n"
     ]
    },
    {
     "name": "stderr",
     "output_type": "stream",
     "text": [
      "Evaluating MAP with target: 100%|██████████| 4556/4556 [00:03<00:00, 1155.05it/s]\n",
      "Evaluating MAP with target:   3%|▎         | 135/4556 [00:00<00:03, 1346.63it/s]"
     ]
    },
    {
     "name": "stdout",
     "output_type": "stream",
     "text": [
      "UserBasedCollaborativeFiltering -> MAP: 0.0054\tTOTAL MISS=4232\tRelevant=324\n"
     ]
    },
    {
     "name": "stderr",
     "output_type": "stream",
     "text": [
      "Evaluating MAP with target: 100%|██████████| 4556/4556 [00:03<00:00, 1323.42it/s]\n",
      "Evaluating MAP with target:   1%|          | 41/4556 [00:00<00:11, 405.64it/s]"
     ]
    },
    {
     "name": "stdout",
     "output_type": "stream",
     "text": [
      "BaseRecommender -> MAP: 0.0073\tTOTAL MISS=4140\tRelevant=416\n"
     ]
    },
    {
     "name": "stderr",
     "output_type": "stream",
     "text": [
      "Evaluating MAP with target: 100%|██████████| 4556/4556 [00:11<00:00, 408.16it/s]\n",
      "Evaluating MAP with target:   2%|▏         | 113/5034 [00:00<00:04, 1125.86it/s]"
     ]
    },
    {
     "name": "stdout",
     "output_type": "stream",
     "text": [
      "HYB -> MAP: 0.0087\tTOTAL MISS=4055\tRelevant=501\n"
     ]
    },
    {
     "name": "stderr",
     "output_type": "stream",
     "text": [
      "Evaluating MAP with target: 100%|██████████| 5034/5034 [00:04<00:00, 1183.78it/s]\n",
      "Evaluating MAP with target:   3%|▎         | 138/5034 [00:00<00:07, 690.51it/s]"
     ]
    },
    {
     "name": "stdout",
     "output_type": "stream",
     "text": [
      "ItemBasedCollaborativeFiltering -> MAP: 0.0094\tTOTAL MISS=4486\tRelevant=548\n"
     ]
    },
    {
     "name": "stderr",
     "output_type": "stream",
     "text": [
      "Evaluating MAP with target: 100%|██████████| 5034/5034 [00:07<00:00, 661.92it/s]\n",
      "Evaluating MAP with target:   2%|▏         | 120/5034 [00:00<00:04, 1196.90it/s]"
     ]
    },
    {
     "name": "stdout",
     "output_type": "stream",
     "text": [
      "UserContentBasedRecommender -> MAP: 0.0016\tTOTAL MISS=4880\tRelevant=154\n"
     ]
    },
    {
     "name": "stderr",
     "output_type": "stream",
     "text": [
      "Evaluating MAP with target: 100%|██████████| 5034/5034 [00:04<00:00, 1226.10it/s]\n",
      "Evaluating MAP with target:   5%|▍         | 230/5034 [00:00<00:04, 1141.39it/s]"
     ]
    },
    {
     "name": "stdout",
     "output_type": "stream",
     "text": [
      "ItemContentBasedRecommender -> MAP: 0.0011\tTOTAL MISS=4958\tRelevant=76\n"
     ]
    },
    {
     "name": "stderr",
     "output_type": "stream",
     "text": [
      "Evaluating MAP with target: 100%|██████████| 5034/5034 [00:04<00:00, 1106.00it/s]\n",
      "Evaluating MAP with target:   5%|▌         | 257/5034 [00:00<00:03, 1280.48it/s]"
     ]
    },
    {
     "name": "stdout",
     "output_type": "stream",
     "text": [
      "UserBasedCollaborativeFiltering -> MAP: 0.0043\tTOTAL MISS=4785\tRelevant=249\n"
     ]
    },
    {
     "name": "stderr",
     "output_type": "stream",
     "text": [
      "Evaluating MAP with target: 100%|██████████| 5034/5034 [00:03<00:00, 1264.70it/s]\n",
      "Evaluating MAP with target:   2%|▏         | 84/5034 [00:00<00:11, 415.23it/s]"
     ]
    },
    {
     "name": "stdout",
     "output_type": "stream",
     "text": [
      "BaseRecommender -> MAP: 0.0079\tTOTAL MISS=4555\tRelevant=479\n"
     ]
    },
    {
     "name": "stderr",
     "output_type": "stream",
     "text": [
      "Evaluating MAP with target: 100%|██████████| 5034/5034 [00:12<00:00, 418.46it/s]\n",
      "Evaluating MAP with target:   4%|▍         | 212/5443 [00:00<00:04, 1047.87it/s]"
     ]
    },
    {
     "name": "stdout",
     "output_type": "stream",
     "text": [
      "HYB -> MAP: 0.0095\tTOTAL MISS=4474\tRelevant=560\n"
     ]
    },
    {
     "name": "stderr",
     "output_type": "stream",
     "text": [
      "Evaluating MAP with target: 100%|██████████| 5443/5443 [00:05<00:00, 1064.71it/s]\n",
      "Evaluating MAP with target:   1%|          | 65/5443 [00:00<00:08, 638.28it/s]"
     ]
    },
    {
     "name": "stdout",
     "output_type": "stream",
     "text": [
      "ItemBasedCollaborativeFiltering -> MAP: 0.0096\tTOTAL MISS=4847\tRelevant=596\n"
     ]
    },
    {
     "name": "stderr",
     "output_type": "stream",
     "text": [
      "Evaluating MAP with target: 100%|██████████| 5443/5443 [00:08<00:00, 633.37it/s]\n",
      "Evaluating MAP with target:   2%|▏         | 115/5443 [00:00<00:04, 1143.24it/s]"
     ]
    },
    {
     "name": "stdout",
     "output_type": "stream",
     "text": [
      "UserContentBasedRecommender -> MAP: 0.0014\tTOTAL MISS=5304\tRelevant=139\n"
     ]
    },
    {
     "name": "stderr",
     "output_type": "stream",
     "text": [
      "Evaluating MAP with target: 100%|██████████| 5443/5443 [00:04<00:00, 1136.09it/s]\n",
      "Evaluating MAP with target:   4%|▍         | 219/5443 [00:00<00:04, 1080.19it/s]"
     ]
    },
    {
     "name": "stdout",
     "output_type": "stream",
     "text": [
      "ItemContentBasedRecommender -> MAP: 0.0007\tTOTAL MISS=5384\tRelevant=59\n"
     ]
    },
    {
     "name": "stderr",
     "output_type": "stream",
     "text": [
      "Evaluating MAP with target: 100%|██████████| 5443/5443 [00:05<00:00, 1075.78it/s]\n",
      "Evaluating MAP with target:   2%|▏         | 117/5443 [00:00<00:04, 1161.90it/s]"
     ]
    },
    {
     "name": "stdout",
     "output_type": "stream",
     "text": [
      "UserBasedCollaborativeFiltering -> MAP: 0.0030\tTOTAL MISS=5260\tRelevant=183\n"
     ]
    },
    {
     "name": "stderr",
     "output_type": "stream",
     "text": [
      "Evaluating MAP with target: 100%|██████████| 5443/5443 [00:04<00:00, 1130.15it/s]\n",
      "Evaluating MAP with target:   1%|          | 34/5443 [00:00<00:16, 337.83it/s]"
     ]
    },
    {
     "name": "stdout",
     "output_type": "stream",
     "text": [
      "BaseRecommender -> MAP: 0.0080\tTOTAL MISS=4963\tRelevant=480\n"
     ]
    },
    {
     "name": "stderr",
     "output_type": "stream",
     "text": [
      "Evaluating MAP with target: 100%|██████████| 5443/5443 [00:13<00:00, 415.08it/s]\n",
      "Evaluating MAP with target:   7%|▋         | 186/2502 [00:00<00:02, 926.57it/s]"
     ]
    },
    {
     "name": "stdout",
     "output_type": "stream",
     "text": [
      "HYB -> MAP: 0.0096\tTOTAL MISS=4836\tRelevant=607\n"
     ]
    },
    {
     "name": "stderr",
     "output_type": "stream",
     "text": [
      "Evaluating MAP with target: 100%|██████████| 2502/2502 [00:02<00:00, 941.43it/s]\n",
      "Evaluating MAP with target:   2%|▏         | 57/2502 [00:00<00:04, 566.90it/s]"
     ]
    },
    {
     "name": "stdout",
     "output_type": "stream",
     "text": [
      "ItemBasedCollaborativeFiltering -> MAP: 0.0034\tTOTAL MISS=2275\tRelevant=227\n"
     ]
    },
    {
     "name": "stderr",
     "output_type": "stream",
     "text": [
      "Evaluating MAP with target: 100%|██████████| 2502/2502 [00:04<00:00, 582.91it/s]\n",
      "Evaluating MAP with target:   4%|▍         | 98/2502 [00:00<00:02, 971.49it/s]"
     ]
    },
    {
     "name": "stdout",
     "output_type": "stream",
     "text": [
      "UserContentBasedRecommender -> MAP: 0.0006\tTOTAL MISS=2447\tRelevant=55\n"
     ]
    },
    {
     "name": "stderr",
     "output_type": "stream",
     "text": [
      "Evaluating MAP with target: 100%|██████████| 2502/2502 [00:02<00:00, 977.71it/s] \n",
      "Evaluating MAP with target:   4%|▍         | 99/2502 [00:00<00:02, 986.23it/s]"
     ]
    },
    {
     "name": "stdout",
     "output_type": "stream",
     "text": [
      "ItemContentBasedRecommender -> MAP: 0.0003\tTOTAL MISS=2478\tRelevant=24\n"
     ]
    },
    {
     "name": "stderr",
     "output_type": "stream",
     "text": [
      "Evaluating MAP with target: 100%|██████████| 2502/2502 [00:02<00:00, 944.49it/s]\n",
      "Evaluating MAP with target:   4%|▍         | 98/2502 [00:00<00:02, 978.73it/s]"
     ]
    },
    {
     "name": "stdout",
     "output_type": "stream",
     "text": [
      "UserBasedCollaborativeFiltering -> MAP: 0.0006\tTOTAL MISS=2462\tRelevant=40\n"
     ]
    },
    {
     "name": "stderr",
     "output_type": "stream",
     "text": [
      "Evaluating MAP with target: 100%|██████████| 2502/2502 [00:02<00:00, 981.46it/s] \n",
      "Evaluating MAP with target:   2%|▏         | 38/2502 [00:00<00:06, 375.42it/s]"
     ]
    },
    {
     "name": "stdout",
     "output_type": "stream",
     "text": [
      "BaseRecommender -> MAP: 0.0026\tTOTAL MISS=2319\tRelevant=183\n"
     ]
    },
    {
     "name": "stderr",
     "output_type": "stream",
     "text": [
      "Evaluating MAP with target: 100%|██████████| 2502/2502 [00:06<00:00, 414.63it/s]\n",
      "Evaluating MAP with target:   6%|▌         | 70/1183 [00:00<00:01, 699.95it/s]"
     ]
    },
    {
     "name": "stdout",
     "output_type": "stream",
     "text": [
      "HYB -> MAP: 0.0033\tTOTAL MISS=2274\tRelevant=228\n"
     ]
    },
    {
     "name": "stderr",
     "output_type": "stream",
     "text": [
      "Evaluating MAP with target: 100%|██████████| 1183/1183 [00:01<00:00, 721.63it/s]\n",
      "Evaluating MAP with target:   4%|▎         | 42/1183 [00:00<00:02, 419.66it/s]"
     ]
    },
    {
     "name": "stdout",
     "output_type": "stream",
     "text": [
      "ItemBasedCollaborativeFiltering -> MAP: 0.0012\tTOTAL MISS=1084\tRelevant=99\n"
     ]
    },
    {
     "name": "stderr",
     "output_type": "stream",
     "text": [
      "Evaluating MAP with target: 100%|██████████| 1183/1183 [00:02<00:00, 407.72it/s]\n",
      "Evaluating MAP with target:   7%|▋         | 77/1183 [00:00<00:01, 767.28it/s]"
     ]
    },
    {
     "name": "stdout",
     "output_type": "stream",
     "text": [
      "UserContentBasedRecommender -> MAP: 0.0002\tTOTAL MISS=1160\tRelevant=23\n"
     ]
    },
    {
     "name": "stderr",
     "output_type": "stream",
     "text": [
      "Evaluating MAP with target: 100%|██████████| 1183/1183 [00:01<00:00, 753.31it/s]\n",
      "Evaluating MAP with target:  12%|█▏        | 144/1183 [00:00<00:01, 711.64it/s]"
     ]
    },
    {
     "name": "stdout",
     "output_type": "stream",
     "text": [
      "ItemContentBasedRecommender -> MAP: 0.0001\tTOTAL MISS=1172\tRelevant=11\n"
     ]
    },
    {
     "name": "stderr",
     "output_type": "stream",
     "text": [
      "Evaluating MAP with target: 100%|██████████| 1183/1183 [00:01<00:00, 721.48it/s]\n",
      "Evaluating MAP with target:  13%|█▎        | 157/1183 [00:00<00:01, 781.84it/s]"
     ]
    },
    {
     "name": "stdout",
     "output_type": "stream",
     "text": [
      "UserBasedCollaborativeFiltering -> MAP: 0.0001\tTOTAL MISS=1171\tRelevant=12\n"
     ]
    },
    {
     "name": "stderr",
     "output_type": "stream",
     "text": [
      "Evaluating MAP with target: 100%|██████████| 1183/1183 [00:01<00:00, 766.02it/s]\n",
      "Evaluating MAP with target:   3%|▎         | 41/1183 [00:00<00:02, 402.93it/s]"
     ]
    },
    {
     "name": "stdout",
     "output_type": "stream",
     "text": [
      "BaseRecommender -> MAP: 0.0009\tTOTAL MISS=1114\tRelevant=69\n"
     ]
    },
    {
     "name": "stderr",
     "output_type": "stream",
     "text": [
      "Evaluating MAP with target: 100%|██████████| 1183/1183 [00:02<00:00, 403.79it/s]\n",
      "Evaluating MAP with target:  12%|█▏        | 65/530 [00:00<00:00, 649.27it/s]"
     ]
    },
    {
     "name": "stdout",
     "output_type": "stream",
     "text": [
      "HYB -> MAP: 0.0012\tTOTAL MISS=1082\tRelevant=101\n"
     ]
    },
    {
     "name": "stderr",
     "output_type": "stream",
     "text": [
      "Evaluating MAP with target: 100%|██████████| 530/530 [00:00<00:00, 678.21it/s]\n",
      "Evaluating MAP with target:   8%|▊         | 40/530 [00:00<00:01, 389.84it/s]"
     ]
    },
    {
     "name": "stdout",
     "output_type": "stream",
     "text": [
      "ItemBasedCollaborativeFiltering -> MAP: 0.0005\tTOTAL MISS=500\tRelevant=30\n"
     ]
    },
    {
     "name": "stderr",
     "output_type": "stream",
     "text": [
      "Evaluating MAP with target: 100%|██████████| 530/530 [00:01<00:00, 375.71it/s]\n",
      "Evaluating MAP with target:  29%|██▉       | 153/530 [00:00<00:00, 744.81it/s]"
     ]
    },
    {
     "name": "stdout",
     "output_type": "stream",
     "text": [
      "UserContentBasedRecommender -> MAP: 0.0001\tTOTAL MISS=518\tRelevant=12\n"
     ]
    },
    {
     "name": "stderr",
     "output_type": "stream",
     "text": [
      "Evaluating MAP with target: 100%|██████████| 530/530 [00:00<00:00, 761.64it/s]\n",
      "Evaluating MAP with target:  13%|█▎        | 70/530 [00:00<00:00, 698.75it/s]"
     ]
    },
    {
     "name": "stdout",
     "output_type": "stream",
     "text": [
      "ItemContentBasedRecommender -> MAP: 0.0000\tTOTAL MISS=527\tRelevant=3\n"
     ]
    },
    {
     "name": "stderr",
     "output_type": "stream",
     "text": [
      "Evaluating MAP with target: 100%|██████████| 530/530 [00:00<00:00, 706.99it/s]\n",
      "Evaluating MAP with target:  13%|█▎        | 68/530 [00:00<00:00, 674.69it/s]"
     ]
    },
    {
     "name": "stdout",
     "output_type": "stream",
     "text": [
      "UserBasedCollaborativeFiltering -> MAP: 0.0000\tTOTAL MISS=528\tRelevant=2\n"
     ]
    },
    {
     "name": "stderr",
     "output_type": "stream",
     "text": [
      "Evaluating MAP with target: 100%|██████████| 530/530 [00:00<00:00, 692.04it/s]\n",
      "Evaluating MAP with target:   8%|▊         | 42/530 [00:00<00:01, 413.16it/s]"
     ]
    },
    {
     "name": "stdout",
     "output_type": "stream",
     "text": [
      "BaseRecommender -> MAP: 0.0004\tTOTAL MISS=503\tRelevant=27\n"
     ]
    },
    {
     "name": "stderr",
     "output_type": "stream",
     "text": [
      "Evaluating MAP with target: 100%|██████████| 530/530 [00:01<00:00, 411.89it/s]\n",
      "Evaluating MAP with target: 100%|██████████| 131/131 [00:00<00:00, 684.47it/s]\n",
      "Evaluating MAP with target:   0%|          | 0/131 [00:00<?, ?it/s]"
     ]
    },
    {
     "name": "stdout",
     "output_type": "stream",
     "text": [
      "HYB -> MAP: 0.0005\tTOTAL MISS=496\tRelevant=34\n",
      "ItemBasedCollaborativeFiltering -> MAP: 0.0001\tTOTAL MISS=124\tRelevant=7\n"
     ]
    },
    {
     "name": "stderr",
     "output_type": "stream",
     "text": [
      "Evaluating MAP with target: 100%|██████████| 131/131 [00:00<00:00, 419.13it/s]\n",
      "Evaluating MAP with target: 100%|██████████| 131/131 [00:00<00:00, 741.42it/s]\n",
      "Evaluating MAP with target:   0%|          | 0/131 [00:00<?, ?it/s]"
     ]
    },
    {
     "name": "stdout",
     "output_type": "stream",
     "text": [
      "UserContentBasedRecommender -> MAP: 0.0000\tTOTAL MISS=129\tRelevant=2\n",
      "ItemContentBasedRecommender -> MAP: 0.0000\tTOTAL MISS=130\tRelevant=1\n"
     ]
    },
    {
     "name": "stderr",
     "output_type": "stream",
     "text": [
      "Evaluating MAP with target: 100%|██████████| 131/131 [00:00<00:00, 724.16it/s]\n",
      "Evaluating MAP with target: 100%|██████████| 131/131 [00:00<00:00, 719.13it/s]\n",
      "Evaluating MAP with target:   0%|          | 0/131 [00:00<?, ?it/s]"
     ]
    },
    {
     "name": "stdout",
     "output_type": "stream",
     "text": [
      "UserBasedCollaborativeFiltering -> MAP: 0.0000\tTOTAL MISS=131\tRelevant=0\n",
      "BaseRecommender -> MAP: 0.0001\tTOTAL MISS=126\tRelevant=5\n"
     ]
    },
    {
     "name": "stderr",
     "output_type": "stream",
     "text": [
      "Evaluating MAP with target: 100%|██████████| 131/131 [00:00<00:00, 403.86it/s]\n",
      "Evaluating MAP with target: 100%|██████████| 5/5 [00:00<00:00, 484.92it/s]\n",
      "Evaluating MAP with target: 100%|██████████| 5/5 [00:00<00:00, 338.96it/s]\n",
      "Evaluating MAP with target: 100%|██████████| 5/5 [00:00<00:00, 512.46it/s]\n",
      "Evaluating MAP with target: 100%|██████████| 5/5 [00:00<00:00, 472.32it/s]\n",
      "Evaluating MAP with target: 100%|██████████| 5/5 [00:00<00:00, 439.79it/s]\n",
      "Evaluating MAP with target: 100%|██████████| 5/5 [00:00<00:00, 322.14it/s]"
     ]
    },
    {
     "name": "stdout",
     "output_type": "stream",
     "text": [
      "HYB -> MAP: 0.0001\tTOTAL MISS=124\tRelevant=7\n",
      "ItemBasedCollaborativeFiltering -> MAP: 0.0000\tTOTAL MISS=5\tRelevant=0\n",
      "UserContentBasedRecommender -> MAP: 0.0000\tTOTAL MISS=5\tRelevant=0\n",
      "ItemContentBasedRecommender -> MAP: 0.0000\tTOTAL MISS=5\tRelevant=0\n",
      "UserBasedCollaborativeFiltering -> MAP: 0.0000\tTOTAL MISS=5\tRelevant=0\n",
      "BaseRecommender -> MAP: 0.0000\tTOTAL MISS=5\tRelevant=0\n",
      "HYB -> MAP: 0.0000\tTOTAL MISS=5\tRelevant=0\n"
     ]
    },
    {
     "name": "stderr",
     "output_type": "stream",
     "text": [
      "\n"
     ]
    }
   ],
   "source": [
    "MAPs_ICF = []\n",
    "MAPs_UCBF = []\n",
    "MAPs_ICBF = []\n",
    "MAPs_UCF = []\n",
    "MAPs_slim = []\n",
    "MAPs_hyb = []\n",
    "\n",
    "for group_id in range(len(group)):\n",
    "    \n",
    "    result = itemCF.evaluate_MAP_target(data['test'], group[group_id])\n",
    "    MAPs_ICF.append(result['MAP'])\n",
    "    \n",
    "    result = userCBF.evaluate_MAP_target(data['test'], group[group_id])\n",
    "    MAPs_UCBF.append(result['MAP'])\n",
    "    \n",
    "    result = itemCBF.evaluate_MAP_target(data['test'], group[group_id])\n",
    "    MAPs_ICBF.append(result['MAP'])\n",
    "    \n",
    "    result = userCF.evaluate_MAP_target(data['test'], group[group_id])\n",
    "    MAPs_UCF.append(result['MAP'])\n",
    "    \n",
    "    result = slim.evaluate_MAP_target(data['test'], group[group_id])\n",
    "    MAPs_slim.append(result['MAP'])\n",
    "    \n",
    "    result = hyb.evaluate_MAP_target(data['test'], group[group_id])\n",
    "    MAPs_hyb.append(result['MAP'])"
   ]
  },
  {
   "cell_type": "code",
   "execution_count": 7,
   "metadata": {},
   "outputs": [
    {
     "data": {
      "image/png": "[encoded data removed]",
      "text/plain": [
       "<Figure size 1440x720 with 1 Axes>"
      ]
     },
     "metadata": {
      "needs_background": "light"
     },
     "output_type": "display_data"
    }
   ],
   "source": [
    "import matplotlib.pyplot as pyplot\n",
    "%matplotlib inline  \n",
    "\n",
    "pyplot.figure(figsize=(20,10))\n",
    "pyplot.plot(MAPs_ICF, label=\"ItemCF\")\n",
    "pyplot.plot(MAPs_UCBF, label=\"userCBF\")\n",
    "pyplot.plot(MAPs_hyb, label=\"HYBRID\")\n",
    "pyplot.plot(MAPs_slim, label=\"SLIM\")\n",
    "pyplot.ylabel('MAP')\n",
    "pyplot.xlabel('User Groups')\n",
    "pyplot.legend()\n",
    "pyplot.show()"
   ]
  },
  {
   "cell_type": "markdown",
   "metadata": {},
   "source": [
    "# UserCBF tuning for cold users"
   ]
  },
  {
   "cell_type": "code",
   "execution_count": null,
   "metadata": {},
   "outputs": [],
   "source": [
    "from Utils.Toolkit import get_URM_TFIDF\n",
    "\n",
    "MAP_topK = []\n",
    "MAP_shrink = []\n",
    "for shrink in [7950, 7960]:\n",
    "    userCBF = UserContentBasedRecommender(10300, shrink)\n",
    "    UCM = data['UCM']\n",
    "    UCM = get_URM_TFIDF(UCM)\n",
    "    userCBF.fit(URM.copy(), UCM)\n",
    "    result = userCBF.evaluate_MAP_target(data['test'], group[0])\n",
    "    MAP_topK.append(result['MAP'])\n",
    "\n",
    "pyplot.figure(figsize=(20,10))\n",
    "pyplot.plot(MAP_topK, label=\"UserCBF\")\n",
    "pyplot.ylabel('MAP')\n",
    "pyplot.legend()\n",
    "pyplot.show()"
   ]
  },
  {
   "cell_type": "markdown",
   "metadata": {},
   "source": [
    "# ItemCBF tuning"
   ]
  },
  {
   "cell_type": "code",
   "execution_count": null,
   "metadata": {},
   "outputs": [],
   "source": [
    "MAP_topK = []\n",
    "for topK in [5, 10, 30, 50, 100, 200, 400, 700, 1000]:\n",
    "    itemCBF = ItemContentBasedRecommender(topK, 5)\n",
    "    itemCBF.fit(URM.copy(), ICM)\n",
    "    result = userCBF.evaluate_MAP_target(data['test'], group[0])\n",
    "    MAP_topK.append(result['MAP'])\n",
    "\n",
    "pyplot.figure(figsize=(20,10))\n",
    "pyplot.plot(MAP_topK, label=\"UserCBF\")\n",
    "pyplot.ylabel('MAP')\n",
    "pyplot.legend()\n",
    "pyplot.show()"
   ]
  },
  {
   "cell_type": "code",
   "execution_count": null,
   "metadata": {},
   "outputs": [],
   "source": []
  }
 ],
 "metadata": {
  "kernelspec": {
   "display_name": "Python 3",
   "language": "python",
   "name": "python3"
  },
  "language_info": {
   "codemirror_mode": {
    "name": "ipython",
    "version": 3
   },
   "file_extension": ".py",
   "mimetype": "text/x-python",
   "name": "python",
   "nbconvert_exporter": "python",
   "pygments_lexer": "ipython3",
   "version": "3.7.4"
  }
 },
 "nbformat": 4,
 "nbformat_minor": 2
}
