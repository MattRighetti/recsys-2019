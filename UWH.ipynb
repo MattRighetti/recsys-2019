{
 "cells": [
  {
   "cell_type": "markdown",
   "metadata": {},
   "source": [
    "# User Wise Hybrid"
   ]
  },
  {
   "cell_type": "code",
   "execution_count": 1,
   "metadata": {},
   "outputs": [],
   "source": [
    "from Utils.Toolkit import get_data\n",
    "\n",
    "data = get_data()\n",
    "\n",
    "URM = data['train'].tocsr()\n",
    "ICM = data['ICM_subclass'].tocsr()"
   ]
  },
  {
   "cell_type": "markdown",
   "metadata": {},
   "source": [
    "## Let's divide users intro groups"
   ]
  },
  {
   "cell_type": "code",
   "execution_count": 2,
   "metadata": {},
   "outputs": [],
   "source": [
    "import numpy as np\n",
    "\n",
    "group0 = []\n",
    "group1 = []\n",
    "group2 = []\n",
    "group3 = []\n",
    "group4 = []\n",
    "group5 = []\n",
    "group6 = []\n",
    "group7 = []\n",
    "group8 = []\n",
    "group9 = []\n",
    "\n",
    "for user_id in range(URM.shape[0]):\n",
    "    start_pos = URM.indptr[user_id]\n",
    "    end_pos = URM.indptr[user_id + 1]\n",
    "    if len(URM.data[start_pos:end_pos]) == 0:\n",
    "        group0.append(user_id)\n",
    "    elif 0 < len(URM.data[start_pos:end_pos]) <= 2:\n",
    "        group1.append(user_id)\n",
    "    elif 2 < len(URM.data[start_pos:end_pos]) <= 5:\n",
    "        group2.append(user_id)\n",
    "    elif 5 < len(URM.data[start_pos:end_pos]) <= 10:\n",
    "        group3.append(user_id)\n",
    "    elif 10 < len(URM.data[start_pos:end_pos]) <= 20:\n",
    "        group4.append(user_id)\n",
    "    elif 20 < len(URM.data[start_pos:end_pos]) <= 30:\n",
    "        group5.append(user_id)\n",
    "    elif 40 < len(URM.data[start_pos:end_pos]) <= 60:\n",
    "        group6.append(user_id)\n",
    "    elif 60 < len(URM.data[start_pos:end_pos]) <= 100:\n",
    "        group7.append(user_id)\n",
    "    elif 100 < len(URM.data[start_pos:end_pos]) <= 300:\n",
    "        group8.append(user_id)\n",
    "    elif 300 < len(URM.data[start_pos:end_pos]) <= 10000:\n",
    "        group9.append(user_id)\n",
    "\n",
    "        \n",
    "group0 = np.array(group0)\n",
    "group1 = np.array(group1)\n",
    "group2 = np.array(group2)\n",
    "group3 = np.array(group3)\n",
    "group4 = np.array(group4)\n",
    "group5 = np.array(group5)\n",
    "group6 = np.array(group6)\n",
    "group7 = np.array(group7)\n",
    "group8 = np.array(group8)\n",
    "group9 = np.array(group9)\n",
    "\n",
    "group = np.array([group0, group1, group2, group3, group4, group5, group6, group7, group8, group9])"
   ]
  },
  {
   "cell_type": "code",
   "execution_count": 3,
   "metadata": {},
   "outputs": [
    {
     "name": "stdout",
     "output_type": "stream",
     "text": [
      "6473 Cold users\n",
      "3695\n",
      "4556\n",
      "5034\n",
      "5443\n",
      "2502\n",
      "1183\n",
      "530\n",
      "131\n",
      "5\n",
      "<class 'numpy.ndarray'>\n"
     ]
    }
   ],
   "source": [
    "print(str(len(group0)) + \" Cold users\")\n",
    "print(len(group1))\n",
    "print(len(group2))\n",
    "print(len(group3))\n",
    "print(len(group4))\n",
    "print(len(group5))\n",
    "print(len(group6))\n",
    "print(len(group7))\n",
    "print(len(group8))\n",
    "print(len(group9))\n",
    "\n",
    "print(type(group))"
   ]
  },
  {
   "cell_type": "code",
   "execution_count": 4,
   "metadata": {},
   "outputs": [
    {
     "name": "stderr",
     "output_type": "stream",
     "text": [
      "Evaluating SM_user_feature_matrix: 100%|██████████| 30911/30911 [00:09<00:00, 3346.12it/s]\n"
     ]
    },
    {
     "name": "stdout",
     "output_type": "stream",
     "text": [
      "Generated UFM with shape (30911, 2011)\n"
     ]
    },
    {
     "name": "stderr",
     "output_type": "stream",
     "text": [
      "Evaluating MAP with target: 100%|██████████| 6473/6473 [00:02<00:00, 3024.16it/s]\n",
      "Evaluating MAP with target:   5%|▍         | 318/6473 [00:00<00:01, 3175.94it/s]"
     ]
    },
    {
     "name": "stdout",
     "output_type": "stream",
     "text": [
      "FeatureBoostedItemCollaborativeFiltering -> MAP: 0.0000 with TopK = 0 & Shrink = 0\tTOTAL MISS=2813\tRelevant=4\n"
     ]
    },
    {
     "name": "stderr",
     "output_type": "stream",
     "text": [
      "Evaluating MAP with target: 100%|██████████| 6473/6473 [00:01<00:00, 3256.30it/s]\n",
      "Evaluating MAP with target:   6%|▋         | 412/6473 [00:00<00:01, 4103.42it/s]"
     ]
    },
    {
     "name": "stdout",
     "output_type": "stream",
     "text": [
      "ItemBasedCollaborativeFiltering -> MAP: 0.0000 with TopK = 0 & Shrink = 0\tTOTAL MISS=2813\tRelevant=4\n"
     ]
    },
    {
     "name": "stderr",
     "output_type": "stream",
     "text": [
      "Evaluating MAP with target: 100%|██████████| 6473/6473 [00:01<00:00, 3711.52it/s]\n",
      "Evaluating MAP with target:  11%|█         | 687/6473 [00:00<00:01, 3285.79it/s]"
     ]
    },
    {
     "name": "stdout",
     "output_type": "stream",
     "text": [
      "UserContentBasedRecommender -> MAP: 0.0000 with TopK = 0 & Shrink = 0\tTOTAL MISS=2816\tRelevant=1\n"
     ]
    },
    {
     "name": "stderr",
     "output_type": "stream",
     "text": [
      "Evaluating MAP with target: 100%|██████████| 6473/6473 [00:01<00:00, 3241.33it/s]\n",
      "Evaluating MAP with target:   6%|▌         | 383/6473 [00:00<00:03, 1928.20it/s]"
     ]
    },
    {
     "name": "stdout",
     "output_type": "stream",
     "text": [
      "UserBasedCollaborativeFiltering -> MAP: 0.0000 with TopK = 0 & Shrink = 0\tTOTAL MISS=2813\tRelevant=4\n"
     ]
    },
    {
     "name": "stderr",
     "output_type": "stream",
     "text": [
      "Evaluating MAP with target: 100%|██████████| 6473/6473 [00:04<00:00, 1595.21it/s]\n",
      "Evaluating MAP with target:   5%|▌         | 326/6473 [00:00<00:01, 3244.55it/s]"
     ]
    },
    {
     "name": "stdout",
     "output_type": "stream",
     "text": [
      "BaseRecommender -> MAP: 0.0010 with TopK = 0 & Shrink = 0\tTOTAL MISS=2727\tRelevant=90\n"
     ]
    },
    {
     "name": "stderr",
     "output_type": "stream",
     "text": [
      "Evaluating MAP with target: 100%|██████████| 6473/6473 [00:01<00:00, 3336.16it/s]\n",
      "Evaluating MAP with target:   7%|▋         | 262/3695 [00:00<00:02, 1308.70it/s]"
     ]
    },
    {
     "name": "stdout",
     "output_type": "stream",
     "text": [
      "BaseRecommender -> MAP: 0.0000 with TopK = 0 & Shrink = 0\tTOTAL MISS=2813\tRelevant=4\n"
     ]
    },
    {
     "name": "stderr",
     "output_type": "stream",
     "text": [
      "Evaluating MAP with target: 100%|██████████| 3695/3695 [00:02<00:00, 1309.96it/s]\n",
      "Evaluating MAP with target:   4%|▍         | 139/3695 [00:00<00:02, 1383.43it/s]"
     ]
    },
    {
     "name": "stdout",
     "output_type": "stream",
     "text": [
      "FeatureBoostedItemCollaborativeFiltering -> MAP: 0.0065 with TopK = 0 & Shrink = 0\tTOTAL MISS=3388\tRelevant=307\n"
     ]
    },
    {
     "name": "stderr",
     "output_type": "stream",
     "text": [
      "Evaluating MAP with target: 100%|██████████| 3695/3695 [00:02<00:00, 1391.77it/s]\n",
      "Evaluating MAP with target:  10%|▉         | 357/3695 [00:00<00:01, 1784.43it/s]"
     ]
    },
    {
     "name": "stdout",
     "output_type": "stream",
     "text": [
      "ItemBasedCollaborativeFiltering -> MAP: 0.0065 with TopK = 0 & Shrink = 0\tTOTAL MISS=3388\tRelevant=307\n"
     ]
    },
    {
     "name": "stderr",
     "output_type": "stream",
     "text": [
      "Evaluating MAP with target: 100%|██████████| 3695/3695 [00:02<00:00, 1639.07it/s]\n",
      "Evaluating MAP with target:   6%|▋         | 231/3695 [00:00<00:03, 1153.45it/s]"
     ]
    },
    {
     "name": "stdout",
     "output_type": "stream",
     "text": [
      "UserContentBasedRecommender -> MAP: 0.0000 with TopK = 0 & Shrink = 0\tTOTAL MISS=3693\tRelevant=2\n"
     ]
    },
    {
     "name": "stderr",
     "output_type": "stream",
     "text": [
      "Evaluating MAP with target: 100%|██████████| 3695/3695 [00:03<00:00, 1174.49it/s]\n",
      "Evaluating MAP with target:   2%|▏         | 82/3695 [00:00<00:04, 819.51it/s]"
     ]
    },
    {
     "name": "stdout",
     "output_type": "stream",
     "text": [
      "UserBasedCollaborativeFiltering -> MAP: 0.0063 with TopK = 0 & Shrink = 0\tTOTAL MISS=3341\tRelevant=354\n"
     ]
    },
    {
     "name": "stderr",
     "output_type": "stream",
     "text": [
      "Evaluating MAP with target: 100%|██████████| 3695/3695 [00:05<00:00, 691.54it/s]\n",
      "Evaluating MAP with target:   3%|▎         | 122/3695 [00:00<00:02, 1212.30it/s]"
     ]
    },
    {
     "name": "stdout",
     "output_type": "stream",
     "text": [
      "BaseRecommender -> MAP: 0.0009 with TopK = 0 & Shrink = 0\tTOTAL MISS=3597\tRelevant=98\n"
     ]
    },
    {
     "name": "stderr",
     "output_type": "stream",
     "text": [
      "Evaluating MAP with target: 100%|██████████| 3695/3695 [00:02<00:00, 1353.65it/s]\n",
      "Evaluating MAP with target:   0%|          | 3/4556 [00:00<03:05, 24.53it/s]"
     ]
    },
    {
     "name": "stdout",
     "output_type": "stream",
     "text": [
      "BaseRecommender -> MAP: 0.0060 with TopK = 0 & Shrink = 0\tTOTAL MISS=3374\tRelevant=321\n"
     ]
    },
    {
     "name": "stderr",
     "output_type": "stream",
     "text": [
      "Evaluating MAP with target: 100%|██████████| 4556/4556 [02:51<00:00, 26.58it/s]\n",
      "Evaluating MAP with target:   3%|▎         | 132/4556 [00:00<00:03, 1316.25it/s]"
     ]
    },
    {
     "name": "stdout",
     "output_type": "stream",
     "text": [
      "FeatureBoostedItemCollaborativeFiltering -> MAP: 0.0076 with TopK = 0 & Shrink = 0\tTOTAL MISS=4189\tRelevant=367\n"
     ]
    },
    {
     "name": "stderr",
     "output_type": "stream",
     "text": [
      "Evaluating MAP with target: 100%|██████████| 4556/4556 [00:03<00:00, 1310.28it/s]\n",
      "Evaluating MAP with target:   4%|▍         | 180/4556 [00:00<00:02, 1797.59it/s]"
     ]
    },
    {
     "name": "stdout",
     "output_type": "stream",
     "text": [
      "ItemBasedCollaborativeFiltering -> MAP: 0.0087 with TopK = 0 & Shrink = 0\tTOTAL MISS=4088\tRelevant=468\n"
     ]
    },
    {
     "name": "stderr",
     "output_type": "stream",
     "text": [
      "Evaluating MAP with target: 100%|██████████| 4556/4556 [00:02<00:00, 1567.86it/s]\n",
      "Evaluating MAP with target:   5%|▍         | 226/4556 [00:00<00:03, 1119.98it/s]"
     ]
    },
    {
     "name": "stdout",
     "output_type": "stream",
     "text": [
      "UserContentBasedRecommender -> MAP: 0.0000 with TopK = 0 & Shrink = 0\tTOTAL MISS=4552\tRelevant=4\n"
     ]
    },
    {
     "name": "stderr",
     "output_type": "stream",
     "text": [
      "Evaluating MAP with target: 100%|██████████| 4556/4556 [00:03<00:00, 1148.99it/s]\n",
      "Evaluating MAP with target:   2%|▏         | 76/4556 [00:00<00:05, 759.54it/s]"
     ]
    },
    {
     "name": "stdout",
     "output_type": "stream",
     "text": [
      "UserBasedCollaborativeFiltering -> MAP: 0.0063 with TopK = 0 & Shrink = 0\tTOTAL MISS=4188\tRelevant=368\n"
     ]
    },
    {
     "name": "stderr",
     "output_type": "stream",
     "text": [
      "Evaluating MAP with target: 100%|██████████| 4556/4556 [00:07<00:00, 634.34it/s]\n",
      "Evaluating MAP with target:   6%|▌         | 263/4556 [00:00<00:03, 1315.86it/s]"
     ]
    },
    {
     "name": "stdout",
     "output_type": "stream",
     "text": [
      "BaseRecommender -> MAP: 0.0011 with TopK = 0 & Shrink = 0\tTOTAL MISS=4448\tRelevant=108\n"
     ]
    },
    {
     "name": "stderr",
     "output_type": "stream",
     "text": [
      "Evaluating MAP with target: 100%|██████████| 4556/4556 [00:03<00:00, 1310.09it/s]\n",
      "Evaluating MAP with target:   0%|          | 3/5034 [00:00<03:31, 23.78it/s]"
     ]
    },
    {
     "name": "stdout",
     "output_type": "stream",
     "text": [
      "BaseRecommender -> MAP: 0.0075 with TopK = 0 & Shrink = 0\tTOTAL MISS=4133\tRelevant=423\n"
     ]
    },
    {
     "name": "stderr",
     "output_type": "stream",
     "text": [
      "Evaluating MAP with target: 100%|██████████| 5034/5034 [03:31<00:00, 23.75it/s]\n",
      "Evaluating MAP with target:   2%|▏         | 122/5034 [00:00<00:04, 1219.45it/s]"
     ]
    },
    {
     "name": "stdout",
     "output_type": "stream",
     "text": [
      "FeatureBoostedItemCollaborativeFiltering -> MAP: 0.0090 with TopK = 0 & Shrink = 0\tTOTAL MISS=4540\tRelevant=494\n"
     ]
    },
    {
     "name": "stderr",
     "output_type": "stream",
     "text": [
      "Evaluating MAP with target: 100%|██████████| 5034/5034 [00:04<00:00, 1246.80it/s]\n",
      "Evaluating MAP with target:   4%|▎         | 178/5034 [00:00<00:02, 1779.57it/s]"
     ]
    },
    {
     "name": "stdout",
     "output_type": "stream",
     "text": [
      "ItemBasedCollaborativeFiltering -> MAP: 0.0098 with TopK = 0 & Shrink = 0\tTOTAL MISS=4459\tRelevant=575\n"
     ]
    },
    {
     "name": "stderr",
     "output_type": "stream",
     "text": [
      "Evaluating MAP with target: 100%|██████████| 5034/5034 [00:03<00:00, 1565.29it/s]\n",
      "Evaluating MAP with target:   4%|▍         | 220/5034 [00:00<00:04, 1090.02it/s]"
     ]
    },
    {
     "name": "stdout",
     "output_type": "stream",
     "text": [
      "UserContentBasedRecommender -> MAP: 0.0000 with TopK = 0 & Shrink = 0\tTOTAL MISS=5034\tRelevant=0\n"
     ]
    },
    {
     "name": "stderr",
     "output_type": "stream",
     "text": [
      "Evaluating MAP with target: 100%|██████████| 5034/5034 [00:04<00:00, 1160.24it/s]\n",
      "Evaluating MAP with target:   2%|▏         | 78/5034 [00:00<00:06, 772.36it/s]"
     ]
    },
    {
     "name": "stdout",
     "output_type": "stream",
     "text": [
      "UserBasedCollaborativeFiltering -> MAP: 0.0051 with TopK = 0 & Shrink = 0\tTOTAL MISS=4749\tRelevant=285\n"
     ]
    },
    {
     "name": "stderr",
     "output_type": "stream",
     "text": [
      "Evaluating MAP with target: 100%|██████████| 5034/5034 [00:08<00:00, 623.18it/s]\n",
      "Evaluating MAP with target:   2%|▏         | 118/5034 [00:00<00:04, 1172.99it/s]"
     ]
    },
    {
     "name": "stdout",
     "output_type": "stream",
     "text": [
      "BaseRecommender -> MAP: 0.0012 with TopK = 0 & Shrink = 0\tTOTAL MISS=4903\tRelevant=131\n"
     ]
    },
    {
     "name": "stderr",
     "output_type": "stream",
     "text": [
      "Evaluating MAP with target: 100%|██████████| 5034/5034 [00:04<00:00, 1202.75it/s]\n",
      "Evaluating MAP with target:   0%|          | 3/5443 [00:00<04:01, 22.50it/s]"
     ]
    },
    {
     "name": "stdout",
     "output_type": "stream",
     "text": [
      "BaseRecommender -> MAP: 0.0086 with TopK = 0 & Shrink = 0\tTOTAL MISS=4543\tRelevant=491\n"
     ]
    },
    {
     "name": "stderr",
     "output_type": "stream",
     "text": [
      "Evaluating MAP with target: 100%|██████████| 5443/5443 [03:42<00:00, 24.51it/s]\n",
      "Evaluating MAP with target:   2%|▏         | 110/5443 [00:00<00:04, 1098.58it/s]"
     ]
    },
    {
     "name": "stdout",
     "output_type": "stream",
     "text": [
      "FeatureBoostedItemCollaborativeFiltering -> MAP: 0.0092 with TopK = 0 & Shrink = 0\tTOTAL MISS=4901\tRelevant=542\n"
     ]
    },
    {
     "name": "stderr",
     "output_type": "stream",
     "text": [
      "Evaluating MAP with target: 100%|██████████| 5443/5443 [00:05<00:00, 1068.27it/s]\n",
      "Evaluating MAP with target:   7%|▋         | 365/5443 [00:00<00:02, 1819.41it/s]"
     ]
    },
    {
     "name": "stdout",
     "output_type": "stream",
     "text": [
      "ItemBasedCollaborativeFiltering -> MAP: 0.0094 with TopK = 0 & Shrink = 0\tTOTAL MISS=4857\tRelevant=586\n"
     ]
    },
    {
     "name": "stderr",
     "output_type": "stream",
     "text": [
      "Evaluating MAP with target: 100%|██████████| 5443/5443 [00:03<00:00, 1633.31it/s]\n",
      "Evaluating MAP with target:   2%|▏         | 106/5443 [00:00<00:05, 1057.92it/s]"
     ]
    },
    {
     "name": "stdout",
     "output_type": "stream",
     "text": [
      "UserContentBasedRecommender -> MAP: 0.0000 with TopK = 0 & Shrink = 0\tTOTAL MISS=5443\tRelevant=0\n"
     ]
    },
    {
     "name": "stderr",
     "output_type": "stream",
     "text": [
      "Evaluating MAP with target: 100%|██████████| 5443/5443 [00:05<00:00, 1065.57it/s]\n",
      "Evaluating MAP with target:   1%|          | 68/5443 [00:00<00:07, 672.16it/s]"
     ]
    },
    {
     "name": "stdout",
     "output_type": "stream",
     "text": [
      "UserBasedCollaborativeFiltering -> MAP: 0.0026 with TopK = 0 & Shrink = 0\tTOTAL MISS=5296\tRelevant=147\n"
     ]
    },
    {
     "name": "stderr",
     "output_type": "stream",
     "text": [
      "Evaluating MAP with target: 100%|██████████| 5443/5443 [00:09<00:00, 590.46it/s]\n",
      "Evaluating MAP with target:   2%|▏         | 113/5443 [00:00<00:04, 1120.90it/s]"
     ]
    },
    {
     "name": "stdout",
     "output_type": "stream",
     "text": [
      "BaseRecommender -> MAP: 0.0009 with TopK = 0 & Shrink = 0\tTOTAL MISS=5335\tRelevant=108\n"
     ]
    },
    {
     "name": "stderr",
     "output_type": "stream",
     "text": [
      "Evaluating MAP with target: 100%|██████████| 5443/5443 [00:04<00:00, 1133.79it/s]\n",
      "Evaluating MAP with target:   0%|          | 3/2502 [00:00<01:39, 25.07it/s]"
     ]
    },
    {
     "name": "stdout",
     "output_type": "stream",
     "text": [
      "BaseRecommender -> MAP: 0.0078 with TopK = 0 & Shrink = 0\tTOTAL MISS=4985\tRelevant=458\n"
     ]
    },
    {
     "name": "stderr",
     "output_type": "stream",
     "text": [
      "Evaluating MAP with target: 100%|██████████| 2502/2502 [01:41<00:00, 24.58it/s]\n",
      "Evaluating MAP with target:   4%|▎         | 93/2502 [00:00<00:02, 929.40it/s]"
     ]
    },
    {
     "name": "stdout",
     "output_type": "stream",
     "text": [
      "FeatureBoostedItemCollaborativeFiltering -> MAP: 0.0034 with TopK = 0 & Shrink = 0\tTOTAL MISS=2275\tRelevant=227\n"
     ]
    },
    {
     "name": "stderr",
     "output_type": "stream",
     "text": [
      "Evaluating MAP with target: 100%|██████████| 2502/2502 [00:02<00:00, 931.22it/s]\n",
      "Evaluating MAP with target:   7%|▋         | 172/2502 [00:00<00:01, 1718.08it/s]"
     ]
    },
    {
     "name": "stdout",
     "output_type": "stream",
     "text": [
      "ItemBasedCollaborativeFiltering -> MAP: 0.0034 with TopK = 0 & Shrink = 0\tTOTAL MISS=2265\tRelevant=237\n"
     ]
    },
    {
     "name": "stderr",
     "output_type": "stream",
     "text": [
      "Evaluating MAP with target: 100%|██████████| 2502/2502 [00:01<00:00, 1525.66it/s]\n",
      "Evaluating MAP with target:   4%|▍         | 98/2502 [00:00<00:02, 975.81it/s]"
     ]
    },
    {
     "name": "stdout",
     "output_type": "stream",
     "text": [
      "UserContentBasedRecommender -> MAP: 0.0000 with TopK = 0 & Shrink = 0\tTOTAL MISS=2502\tRelevant=0\n"
     ]
    },
    {
     "name": "stderr",
     "output_type": "stream",
     "text": [
      "Evaluating MAP with target: 100%|██████████| 2502/2502 [00:02<00:00, 927.92it/s]\n",
      "Evaluating MAP with target:   5%|▌         | 127/2502 [00:00<00:03, 636.34it/s]"
     ]
    },
    {
     "name": "stdout",
     "output_type": "stream",
     "text": [
      "UserBasedCollaborativeFiltering -> MAP: 0.0005 with TopK = 0 & Shrink = 0\tTOTAL MISS=2466\tRelevant=36\n"
     ]
    },
    {
     "name": "stderr",
     "output_type": "stream",
     "text": [
      "Evaluating MAP with target: 100%|██████████| 2502/2502 [00:04<00:00, 536.72it/s]\n",
      "Evaluating MAP with target:   4%|▍         | 94/2502 [00:00<00:02, 936.99it/s]"
     ]
    },
    {
     "name": "stdout",
     "output_type": "stream",
     "text": [
      "BaseRecommender -> MAP: 0.0004 with TopK = 0 & Shrink = 0\tTOTAL MISS=2461\tRelevant=41\n"
     ]
    },
    {
     "name": "stderr",
     "output_type": "stream",
     "text": [
      "Evaluating MAP with target: 100%|██████████| 2502/2502 [00:02<00:00, 936.41it/s]\n",
      "Evaluating MAP with target:   0%|          | 3/1183 [00:00<00:45, 26.05it/s]"
     ]
    },
    {
     "name": "stdout",
     "output_type": "stream",
     "text": [
      "BaseRecommender -> MAP: 0.0028 with TopK = 0 & Shrink = 0\tTOTAL MISS=2307\tRelevant=195\n"
     ]
    },
    {
     "name": "stderr",
     "output_type": "stream",
     "text": [
      "Evaluating MAP with target: 100%|██████████| 1183/1183 [00:43<00:00, 27.31it/s]\n",
      "Evaluating MAP with target:   7%|▋         | 77/1183 [00:00<00:01, 768.89it/s]"
     ]
    },
    {
     "name": "stdout",
     "output_type": "stream",
     "text": [
      "FeatureBoostedItemCollaborativeFiltering -> MAP: 0.0012 with TopK = 0 & Shrink = 0\tTOTAL MISS=1103\tRelevant=80\n"
     ]
    },
    {
     "name": "stderr",
     "output_type": "stream",
     "text": [
      "Evaluating MAP with target: 100%|██████████| 1183/1183 [00:01<00:00, 737.32it/s]\n",
      "Evaluating MAP with target:  15%|█▍        | 175/1183 [00:00<00:00, 1747.87it/s]"
     ]
    },
    {
     "name": "stdout",
     "output_type": "stream",
     "text": [
      "ItemBasedCollaborativeFiltering -> MAP: 0.0012 with TopK = 0 & Shrink = 0\tTOTAL MISS=1102\tRelevant=81\n"
     ]
    },
    {
     "name": "stderr",
     "output_type": "stream",
     "text": [
      "Evaluating MAP with target: 100%|██████████| 1183/1183 [00:00<00:00, 1526.54it/s]\n",
      "Evaluating MAP with target:  12%|█▏        | 139/1183 [00:00<00:01, 691.99it/s]"
     ]
    },
    {
     "name": "stdout",
     "output_type": "stream",
     "text": [
      "UserContentBasedRecommender -> MAP: 0.0000 with TopK = 0 & Shrink = 0\tTOTAL MISS=1183\tRelevant=0\n"
     ]
    },
    {
     "name": "stderr",
     "output_type": "stream",
     "text": [
      "Evaluating MAP with target: 100%|██████████| 1183/1183 [00:01<00:00, 717.86it/s]\n",
      "Evaluating MAP with target:   4%|▎         | 42/1183 [00:00<00:02, 410.40it/s]"
     ]
    },
    {
     "name": "stdout",
     "output_type": "stream",
     "text": [
      "UserBasedCollaborativeFiltering -> MAP: 0.0001 with TopK = 0 & Shrink = 0\tTOTAL MISS=1171\tRelevant=12\n"
     ]
    },
    {
     "name": "stderr",
     "output_type": "stream",
     "text": [
      "Evaluating MAP with target: 100%|██████████| 1183/1183 [00:03<00:00, 370.01it/s]\n",
      "Evaluating MAP with target:   5%|▌         | 64/1183 [00:00<00:01, 632.55it/s]"
     ]
    },
    {
     "name": "stdout",
     "output_type": "stream",
     "text": [
      "BaseRecommender -> MAP: 0.0003 with TopK = 0 & Shrink = 0\tTOTAL MISS=1161\tRelevant=22\n"
     ]
    },
    {
     "name": "stderr",
     "output_type": "stream",
     "text": [
      "Evaluating MAP with target: 100%|██████████| 1183/1183 [00:01<00:00, 671.76it/s]\n",
      "Evaluating MAP with target:   1%|          | 3/530 [00:00<00:18, 28.91it/s]"
     ]
    },
    {
     "name": "stdout",
     "output_type": "stream",
     "text": [
      "BaseRecommender -> MAP: 0.0010 with TopK = 0 & Shrink = 0\tTOTAL MISS=1111\tRelevant=72\n"
     ]
    },
    {
     "name": "stderr",
     "output_type": "stream",
     "text": [
      "Evaluating MAP with target: 100%|██████████| 530/530 [00:17<00:00, 29.47it/s]\n",
      "Evaluating MAP with target:  15%|█▍        | 77/530 [00:00<00:00, 761.37it/s]"
     ]
    },
    {
     "name": "stdout",
     "output_type": "stream",
     "text": [
      "FeatureBoostedItemCollaborativeFiltering -> MAP: 0.0006 with TopK = 0 & Shrink = 0\tTOTAL MISS=488\tRelevant=42\n"
     ]
    },
    {
     "name": "stderr",
     "output_type": "stream",
     "text": [
      "Evaluating MAP with target: 100%|██████████| 530/530 [00:00<00:00, 755.84it/s]\n",
      "Evaluating MAP with target:  31%|███▏      | 166/530 [00:00<00:00, 1647.97it/s]"
     ]
    },
    {
     "name": "stdout",
     "output_type": "stream",
     "text": [
      "ItemBasedCollaborativeFiltering -> MAP: 0.0006 with TopK = 0 & Shrink = 0\tTOTAL MISS=490\tRelevant=40\n"
     ]
    },
    {
     "name": "stderr",
     "output_type": "stream",
     "text": [
      "Evaluating MAP with target: 100%|██████████| 530/530 [00:00<00:00, 1503.78it/s]\n",
      "Evaluating MAP with target:  28%|██▊       | 146/530 [00:00<00:00, 722.36it/s]"
     ]
    },
    {
     "name": "stdout",
     "output_type": "stream",
     "text": [
      "UserContentBasedRecommender -> MAP: 0.0000 with TopK = 0 & Shrink = 0\tTOTAL MISS=530\tRelevant=0\n"
     ]
    },
    {
     "name": "stderr",
     "output_type": "stream",
     "text": [
      "Evaluating MAP with target: 100%|██████████| 530/530 [00:00<00:00, 730.37it/s]\n",
      "Evaluating MAP with target:  16%|█▌        | 84/530 [00:00<00:01, 420.98it/s]"
     ]
    },
    {
     "name": "stdout",
     "output_type": "stream",
     "text": [
      "UserBasedCollaborativeFiltering -> MAP: 0.0001 with TopK = 0 & Shrink = 0\tTOTAL MISS=526\tRelevant=4\n"
     ]
    },
    {
     "name": "stderr",
     "output_type": "stream",
     "text": [
      "Evaluating MAP with target: 100%|██████████| 530/530 [00:01<00:00, 373.81it/s]\n",
      "Evaluating MAP with target:  24%|██▍       | 128/530 [00:00<00:00, 640.42it/s]"
     ]
    },
    {
     "name": "stdout",
     "output_type": "stream",
     "text": [
      "BaseRecommender -> MAP: 0.0001 with TopK = 0 & Shrink = 0\tTOTAL MISS=524\tRelevant=6\n"
     ]
    },
    {
     "name": "stderr",
     "output_type": "stream",
     "text": [
      "Evaluating MAP with target: 100%|██████████| 530/530 [00:00<00:00, 656.35it/s]\n",
      "Evaluating MAP with target:   3%|▎         | 4/131 [00:00<00:04, 31.07it/s]"
     ]
    },
    {
     "name": "stdout",
     "output_type": "stream",
     "text": [
      "BaseRecommender -> MAP: 0.0003 with TopK = 0 & Shrink = 0\tTOTAL MISS=508\tRelevant=22\n"
     ]
    },
    {
     "name": "stderr",
     "output_type": "stream",
     "text": [
      "Evaluating MAP with target: 100%|██████████| 131/131 [00:03<00:00, 34.27it/s]\n",
      "Evaluating MAP with target: 100%|██████████| 131/131 [00:00<00:00, 716.86it/s]\n",
      "Evaluating MAP with target:   0%|          | 0/131 [00:00<?, ?it/s]"
     ]
    },
    {
     "name": "stdout",
     "output_type": "stream",
     "text": [
      "FeatureBoostedItemCollaborativeFiltering -> MAP: 0.0000 with TopK = 0 & Shrink = 0\tTOTAL MISS=124\tRelevant=7\n",
      "ItemBasedCollaborativeFiltering -> MAP: 0.0000 with TopK = 0 & Shrink = 0\tTOTAL MISS=124\tRelevant=7\n"
     ]
    },
    {
     "name": "stderr",
     "output_type": "stream",
     "text": [
      "Evaluating MAP with target: 100%|██████████| 131/131 [00:00<00:00, 1564.29it/s]\n",
      "Evaluating MAP with target: 100%|██████████| 131/131 [00:00<00:00, 736.01it/s]\n",
      "Evaluating MAP with target:   0%|          | 0/131 [00:00<?, ?it/s]"
     ]
    },
    {
     "name": "stdout",
     "output_type": "stream",
     "text": [
      "UserContentBasedRecommender -> MAP: 0.0000 with TopK = 0 & Shrink = 0\tTOTAL MISS=131\tRelevant=0\n",
      "UserBasedCollaborativeFiltering -> MAP: 0.0000 with TopK = 0 & Shrink = 0\tTOTAL MISS=130\tRelevant=1\n"
     ]
    },
    {
     "name": "stderr",
     "output_type": "stream",
     "text": [
      "Evaluating MAP with target: 100%|██████████| 131/131 [00:00<00:00, 378.16it/s]\n",
      "Evaluating MAP with target:  45%|████▌     | 59/131 [00:00<00:00, 583.10it/s]"
     ]
    },
    {
     "name": "stdout",
     "output_type": "stream",
     "text": [
      "BaseRecommender -> MAP: 0.0000 with TopK = 0 & Shrink = 0\tTOTAL MISS=130\tRelevant=1\n"
     ]
    },
    {
     "name": "stderr",
     "output_type": "stream",
     "text": [
      "Evaluating MAP with target: 100%|██████████| 131/131 [00:00<00:00, 573.88it/s]\n",
      "Evaluating MAP with target: 100%|██████████| 5/5 [00:00<00:00, 51.63it/s]\n",
      "Evaluating MAP with target: 100%|██████████| 5/5 [00:00<00:00, 573.12it/s]\n",
      "Evaluating MAP with target: 100%|██████████| 5/5 [00:00<00:00, 1143.42it/s]\n",
      "Evaluating MAP with target: 100%|██████████| 5/5 [00:00<00:00, 503.42it/s]\n",
      "Evaluating MAP with target: 100%|██████████| 5/5 [00:00<00:00, 363.74it/s]\n",
      "Evaluating MAP with target: 100%|██████████| 5/5 [00:00<00:00, 440.88it/s]"
     ]
    },
    {
     "name": "stdout",
     "output_type": "stream",
     "text": [
      "BaseRecommender -> MAP: 0.0000 with TopK = 0 & Shrink = 0\tTOTAL MISS=128\tRelevant=3\n",
      "FeatureBoostedItemCollaborativeFiltering -> MAP: 0.0000 with TopK = 0 & Shrink = 0\tTOTAL MISS=5\tRelevant=0\n",
      "ItemBasedCollaborativeFiltering -> MAP: 0.0000 with TopK = 0 & Shrink = 0\tTOTAL MISS=5\tRelevant=0\n",
      "UserContentBasedRecommender -> MAP: 0.0000 with TopK = 0 & Shrink = 0\tTOTAL MISS=5\tRelevant=0\n",
      "UserBasedCollaborativeFiltering -> MAP: 0.0000 with TopK = 0 & Shrink = 0\tTOTAL MISS=5\tRelevant=0\n",
      "BaseRecommender -> MAP: 0.0000 with TopK = 0 & Shrink = 0\tTOTAL MISS=5\tRelevant=0\n",
      "BaseRecommender -> MAP: 0.0000 with TopK = 0 & Shrink = 0\tTOTAL MISS=5\tRelevant=0\n"
     ]
    },
    {
     "name": "stderr",
     "output_type": "stream",
     "text": [
      "\n"
     ]
    }
   ],
   "source": [
    "from Recommenders.CF.FeatureBoostedItemCollaborative import FeatureBoostedItemCollaborativeFiltering\n",
    "from Recommenders.CF.item_cf import ItemBasedCollaborativeFiltering\n",
    "from Recommenders.CF.user_cf import UserBasedCollaborativeFiltering\n",
    "from Recommenders.NonPersonalized.top_pop import TopPop\n",
    "from Recommenders.CBF.user_CBF import UserContentBasedRecommender\n",
    "from Recommenders.SLIM.SLIM_BPR_Cython import SLIM_BPR_Cython\n",
    "\n",
    "MAPs_FBICF = []\n",
    "MAPs_ICF = []\n",
    "MAPs_UCBF = []\n",
    "MAPs_UCF = []\n",
    "MAPs_top = []\n",
    "MAPs_slim = []\n",
    "\n",
    "FBICF = FeatureBoostedItemCollaborativeFiltering(31, 5)\n",
    "FBICF.fit(URM.copy(), ICM)\n",
    "\n",
    "itemCF = ItemBasedCollaborativeFiltering(29, 5)\n",
    "itemCF.fit(URM.copy())\n",
    "\n",
    "userCBF = UserContentBasedRecommender(1000, 500)\n",
    "userCBF.fit(URM.copy(), data['UCM'])\n",
    "\n",
    "userCF = UserBasedCollaborativeFiltering(94, 19)\n",
    "userCF.fit(URM.copy())\n",
    "\n",
    "topPop = TopPop()\n",
    "topPop.fit(URM.copy())\n",
    "\n",
    "slim = SLIM_BPR_Cython(epochs=4000,\n",
    "                               topK=55,\n",
    "                               lambda_i=0.1,\n",
    "                               lambda_j=1,\n",
    "                               positive_threshold=1,\n",
    "                               sgd_mode=\"adam\",\n",
    "                               symmetric=True,\n",
    "                               learning_rate=1e-4)\n",
    "slim.fit(URM.copy())\n",
    "\n",
    "for group_id in range(len(group)):\n",
    "    result = FBICF.evaluate_MAP_target(data['test'], group[group_id])\n",
    "    MAPs_FBICF.append(result['MAP'])\n",
    "    \n",
    "    result = itemCF.evaluate_MAP_target(data['test'], group[group_id])\n",
    "    MAPs_ICF.append(result['MAP'])\n",
    "    \n",
    "    result = userCBF.evaluate_MAP_target(data['test'], group[group_id])\n",
    "    MAPs_UCBF.append(result['MAP'])\n",
    "    \n",
    "    result = userCF.evaluate_MAP_target(data['test'], group[group_id])\n",
    "    MAPs_UCF.append(result['MAP'])\n",
    "    \n",
    "    result = topPop.evaluate_MAP_target(data['test'], group[group_id])\n",
    "    MAPs_top.append(result['MAP'])\n",
    "    \n",
    "    result = slim.evaluate_MAP_target(data['test'], group[group_id])\n",
    "    MAPs_slim.append(result['MAP'])"
   ]
  },
  {
   "cell_type": "code",
   "execution_count": 7,
   "metadata": {},
   "outputs": [
    {
     "data": {
      "image/png": "[encoded data removed]",
      "text/plain": [
       "<Figure size 1440x720 with 1 Axes>"
      ]
     },
     "metadata": {
      "needs_background": "light"
     },
     "output_type": "display_data"
    }
   ],
   "source": [
    "import matplotlib.pyplot as pyplot\n",
    "%matplotlib inline  \n",
    "\n",
    "pyplot.figure(figsize=(20,10))\n",
    "pyplot.plot(MAPs_FBICF, label=\"FBICF\")\n",
    "pyplot.plot(MAPs_ICF, label=\"ItemCF\")\n",
    "pyplot.plot(MAPs_UCBF, label=\"userCBF\")\n",
    "pyplot.plot(MAPs_UCF, label=\"userCF\")\n",
    "pyplot.plot(MAPs_top, label=\"TopPop\")\n",
    "pyplot.plot(MAPs_top, label=\"SLIM\")\n",
    "pyplot.ylabel('MAP')\n",
    "pyplot.xlabel('User Groups')\n",
    "pyplot.legend()\n",
    "pyplot.show()"
   ]
  },
  {
   "cell_type": "code",
   "execution_count": null,
   "metadata": {},
   "outputs": [],
   "source": []
  },
  {
   "cell_type": "code",
   "execution_count": null,
   "metadata": {},
   "outputs": [],
   "source": []
  }
 ],
 "metadata": {
  "kernelspec": {
   "display_name": "Python 3",
   "language": "python",
   "name": "python3"
  },
  "language_info": {
   "codemirror_mode": {
    "name": "ipython",
    "version": 3
   },
   "file_extension": ".py",
   "mimetype": "text/x-python",
   "name": "python",
   "nbconvert_exporter": "python",
   "pygments_lexer": "ipython3",
   "version": "3.7.4"
  }
 },
 "nbformat": 4,
 "nbformat_minor": 2
}
