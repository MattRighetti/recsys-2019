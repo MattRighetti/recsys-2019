{
 "cells": [
  {
   "cell_type": "markdown",
   "metadata": {},
   "source": [
    "# User Wise Hybrid"
   ]
  },
  {
   "cell_type": "code",
   "execution_count": 1,
   "metadata": {},
   "outputs": [],
   "source": [
    "from Utils.Toolkit import get_data\n",
    "\n",
    "data = get_data()\n",
    "\n",
    "URM = data['train'].tocsr()\n",
    "ICM = data['ICM_subclass'].tocsr()"
   ]
  },
  {
   "cell_type": "markdown",
   "metadata": {},
   "source": [
    "## Let's divide users intro groups"
   ]
  },
  {
   "cell_type": "code",
   "execution_count": 2,
   "metadata": {},
   "outputs": [],
   "source": [
    "import numpy as np\n",
    "\n",
    "group0 = []\n",
    "group1 = []\n",
    "group2 = []\n",
    "group3 = []\n",
    "group4 = []\n",
    "group5 = []\n",
    "group6 = []\n",
    "group7 = []\n",
    "group8 = []\n",
    "group9 = []\n",
    "\n",
    "for user_id in range(URM.shape[0]):\n",
    "    start_pos = URM.indptr[user_id]\n",
    "    end_pos = URM.indptr[user_id + 1]\n",
    "    if len(URM.data[start_pos:end_pos]) == 0:\n",
    "        group0.append(user_id)\n",
    "    elif 0 < len(URM.data[start_pos:end_pos]) <= 2:\n",
    "        group1.append(user_id)\n",
    "    elif 2 < len(URM.data[start_pos:end_pos]) <= 5:\n",
    "        group2.append(user_id)\n",
    "    elif 5 < len(URM.data[start_pos:end_pos]) <= 10:\n",
    "        group3.append(user_id)\n",
    "    elif 10 < len(URM.data[start_pos:end_pos]) <= 20:\n",
    "        group4.append(user_id)\n",
    "    elif 20 < len(URM.data[start_pos:end_pos]) <= 30:\n",
    "        group5.append(user_id)\n",
    "    elif 40 < len(URM.data[start_pos:end_pos]) <= 60:\n",
    "        group6.append(user_id)\n",
    "    elif 60 < len(URM.data[start_pos:end_pos]) <= 100:\n",
    "        group7.append(user_id)\n",
    "    elif 100 < len(URM.data[start_pos:end_pos]) <= 300:\n",
    "        group8.append(user_id)\n",
    "    elif 300 < len(URM.data[start_pos:end_pos]) <= 10000:\n",
    "        group9.append(user_id)\n",
    "\n",
    "        \n",
    "group0 = np.array(group0)\n",
    "group1 = np.array(group1)\n",
    "group2 = np.array(group2)\n",
    "group3 = np.array(group3)\n",
    "group4 = np.array(group4)\n",
    "group5 = np.array(group5)\n",
    "group6 = np.array(group6)\n",
    "group7 = np.array(group7)\n",
    "group8 = np.array(group8)\n",
    "group9 = np.array(group9)\n",
    "\n",
    "group = np.array([group0, group1, group2, group3, group4, group5, group6, group7, group8, group9])"
   ]
  },
  {
   "cell_type": "code",
   "execution_count": 3,
   "metadata": {},
   "outputs": [
    {
     "name": "stdout",
     "output_type": "stream",
     "text": [
      "6473 Cold users\n",
      "3695\n",
      "4556\n",
      "5034\n",
      "5443\n",
      "2502\n",
      "1183\n",
      "530\n",
      "131\n",
      "5\n"
     ]
    }
   ],
   "source": [
    "print(str(len(group0)) + \" Cold users\")\n",
    "print(len(group1))\n",
    "print(len(group2))\n",
    "print(len(group3))\n",
    "print(len(group4))\n",
    "print(len(group5))\n",
    "print(len(group6))\n",
    "print(len(group7))\n",
    "print(len(group8))\n",
    "print(len(group9))"
   ]
  },
  {
   "cell_type": "code",
   "execution_count": 4,
   "metadata": {
    "scrolled": true
   },
   "outputs": [
    {
     "ename": "ModuleNotFoundError",
     "evalue": "No module named 'implicit'",
     "output_type": "error",
     "traceback": [
      "\u001b[0;31m---------------------------------------------------------------------------\u001b[0m",
      "\u001b[0;31mModuleNotFoundError\u001b[0m                       Traceback (most recent call last)",
      "\u001b[0;32m<ipython-input-4-cc3b462a6dd4>\u001b[0m in \u001b[0;36m<module>\u001b[0;34m\u001b[0m\n\u001b[1;32m      4\u001b[0m \u001b[0;32mfrom\u001b[0m \u001b[0mRecommenders\u001b[0m\u001b[0;34m.\u001b[0m\u001b[0mCBF\u001b[0m\u001b[0;34m.\u001b[0m\u001b[0muser_CBF\u001b[0m \u001b[0;32mimport\u001b[0m \u001b[0mUserContentBasedRecommender\u001b[0m\u001b[0;34m\u001b[0m\u001b[0;34m\u001b[0m\u001b[0m\n\u001b[1;32m      5\u001b[0m \u001b[0;32mfrom\u001b[0m \u001b[0mRecommenders\u001b[0m\u001b[0;34m.\u001b[0m\u001b[0mCBF\u001b[0m\u001b[0;34m.\u001b[0m\u001b[0mitem_CBF\u001b[0m \u001b[0;32mimport\u001b[0m \u001b[0mItemContentBasedRecommender\u001b[0m\u001b[0;34m\u001b[0m\u001b[0;34m\u001b[0m\u001b[0m\n\u001b[0;32m----> 6\u001b[0;31m \u001b[0;32mfrom\u001b[0m \u001b[0mRecommenders\u001b[0m\u001b[0;34m.\u001b[0m\u001b[0mMF\u001b[0m\u001b[0;34m.\u001b[0m\u001b[0mALS\u001b[0m \u001b[0;32mimport\u001b[0m \u001b[0mAlternatingLeastSquare\u001b[0m\u001b[0;34m\u001b[0m\u001b[0;34m\u001b[0m\u001b[0m\n\u001b[0m\u001b[1;32m      7\u001b[0m \u001b[0;32mfrom\u001b[0m \u001b[0mRecommenders\u001b[0m\u001b[0;34m.\u001b[0m\u001b[0mHYB\u001b[0m\u001b[0;34m.\u001b[0m\u001b[0mhybrid\u001b[0m \u001b[0;32mimport\u001b[0m \u001b[0mHybridRecommender\u001b[0m\u001b[0;34m\u001b[0m\u001b[0;34m\u001b[0m\u001b[0m\n\u001b[1;32m      8\u001b[0m \u001b[0;32mfrom\u001b[0m \u001b[0mRecommenders\u001b[0m\u001b[0;34m.\u001b[0m\u001b[0mSLIM\u001b[0m\u001b[0;34m.\u001b[0m\u001b[0mSLIM_BPR_Cython\u001b[0m \u001b[0;32mimport\u001b[0m \u001b[0mSLIM_BPR_Cython\u001b[0m\u001b[0;34m\u001b[0m\u001b[0;34m\u001b[0m\u001b[0m\n",
      "\u001b[0;32m~/Developer/PycharmProjects/recsys/Recommenders/MF/ALS.py\u001b[0m in \u001b[0;36m<module>\u001b[0;34m\u001b[0m\n\u001b[1;32m      1\u001b[0m \u001b[0;32mimport\u001b[0m \u001b[0mnumpy\u001b[0m \u001b[0;32mas\u001b[0m \u001b[0mnp\u001b[0m\u001b[0;34m\u001b[0m\u001b[0;34m\u001b[0m\u001b[0m\n\u001b[0;32m----> 2\u001b[0;31m \u001b[0;32mimport\u001b[0m \u001b[0mimplicit\u001b[0m\u001b[0;34m\u001b[0m\u001b[0;34m\u001b[0m\u001b[0m\n\u001b[0m\u001b[1;32m      3\u001b[0m \u001b[0;32mfrom\u001b[0m \u001b[0mtqdm\u001b[0m \u001b[0;32mimport\u001b[0m \u001b[0mtqdm\u001b[0m\u001b[0;34m\u001b[0m\u001b[0;34m\u001b[0m\u001b[0m\n\u001b[1;32m      4\u001b[0m \u001b[0;32mfrom\u001b[0m \u001b[0mRecommenders\u001b[0m\u001b[0;34m.\u001b[0m\u001b[0mBaseRecommender\u001b[0m \u001b[0;32mimport\u001b[0m \u001b[0mBaseRecommender\u001b[0m\u001b[0;34m\u001b[0m\u001b[0;34m\u001b[0m\u001b[0m\n\u001b[1;32m      5\u001b[0m \u001b[0;32mfrom\u001b[0m \u001b[0mUtils\u001b[0m\u001b[0;34m.\u001b[0m\u001b[0mToolkit\u001b[0m \u001b[0;32mimport\u001b[0m \u001b[0mget_data\u001b[0m\u001b[0;34m\u001b[0m\u001b[0;34m\u001b[0m\u001b[0m\n",
      "\u001b[0;31mModuleNotFoundError\u001b[0m: No module named 'implicit'"
     ]
    }
   ],
   "source": [
    "from Recommenders.CF.FeatureBoostedItemCollaborative import FeatureBoostedItemCollaborativeFiltering\n",
    "from Recommenders.CF.item_cf import ItemBasedCollaborativeFiltering\n",
    "from Recommenders.CF.user_cf import UserBasedCollaborativeFiltering\n",
    "from Recommenders.CBF.user_CBF import UserContentBasedRecommender\n",
    "from Recommenders.CBF.item_CBF import ItemContentBasedRecommender\n",
    "from Recommenders.MF.ALS import AlternatingLeastSquare\n",
    "from Recommenders.HYB.hybrid import HybridRecommender\n",
    "from Recommenders.SLIM.SLIM_BPR_Cython import SLIM_BPR_Cython\n",
    "\n",
    "itemCF = ItemBasedCollaborativeFiltering(29, 5)\n",
    "itemCF.fit(URM.copy())\n",
    "\n",
    "userCBF = UserContentBasedRecommender(1000, 8500)\n",
    "userCBF.fit(URM.copy(), data['UCM'])\n",
    "\n",
    "userCF = UserBasedCollaborativeFiltering(94, 19)\n",
    "userCF.fit(URM.copy())\n",
    "\n",
    "itemCBF = ItemContentBasedRecommender(100, 5)\n",
    "itemCBF.fit(URM.copy(), ICM)\n",
    "\n",
    "ALS = AlternatingLeastSquare()\n",
    "ALS.fit(URM.copy())\n",
    "\n",
    "slim = SLIM_BPR_Cython(epochs=5000,\n",
    "                               topK=55,\n",
    "                               lambda_i=1.0,\n",
    "                               lambda_j=10.0,\n",
    "                               positive_threshold=1,\n",
    "                               sgd_mode=\"adagrad\",\n",
    "                               symmetric=True,\n",
    "                               learning_rate=1e-4)"
   ]
  },
  {
   "cell_type": "code",
   "execution_count": null,
   "metadata": {
    "scrolled": true
   },
   "outputs": [],
   "source": [
    "MAPs_ICF = []\n",
    "MAPs_UCBF = []\n",
    "MAPs_ICBF = []\n",
    "MAPs_UCF = []\n",
    "MAPs_slim = []\n",
    "MAPs_hyb = []\n",
    "MAPs_als = []\n",
    "\n",
    "slim.fit(URM.copy())\n",
    "\n",
    "for group_id in range(len(group)):\n",
    "    \n",
    "    result = itemCF.evaluate_MAP_target(data['test'], group[group_id])\n",
    "    MAPs_ICF.append(result['MAP'])\n",
    "    \n",
    "    result = userCBF.evaluate_MAP_target(data['test'], group[group_id])\n",
    "    MAPs_UCBF.append(result['MAP'])\n",
    "    \n",
    "    result = itemCBF.evaluate_MAP_target(data['test'], group[group_id])\n",
    "    MAPs_ICBF.append(result['MAP'])\n",
    "    \n",
    "    result = userCF.evaluate_MAP_target(data['test'], group[group_id])\n",
    "    MAPs_UCF.append(result['MAP'])\n",
    "    \n",
    "    result = slim.evaluate_MAP_target(data['test'], group[group_id])\n",
    "    MAPs_slim.append(result['MAP'])\n",
    "    \n",
    "    result = ALS.evaluate_MAP_target(data['test'], group[group_id])\n",
    "    MAPs_als.append(result['MAP'])"
   ]
  },
  {
   "cell_type": "code",
   "execution_count": null,
   "metadata": {},
   "outputs": [],
   "source": [
    "import matplotlib.pyplot as pyplot\n",
    "%matplotlib inline  \n",
    "\n",
    "pyplot.figure(figsize=(20,10))\n",
    "pyplot.plot(MAPs_ICF, label=\"ItemCF\")\n",
    "pyplot.plot(MAPs_UCBF, label=\"userCBF\")\n",
    "pyplot.plot(MAPs_CBF, label=\"userCBF\")\n",
    "pyplot.plot(MAPs_UCF, label=\"userCF\")\n",
    "pyplot.plot(MAPs_als, label=\"ALS\")\n",
    "pyplot.plot(MAPs_slim, label=\"SLIM\")\n",
    "pyplot.ylabel('MAP')\n",
    "pyplot.xlabel('User Groups')\n",
    "pyplot.legend()\n",
    "pyplot.show()"
   ]
  },
  {
   "cell_type": "markdown",
   "metadata": {},
   "source": [
    "# UserCBF tuning for cold users"
   ]
  },
  {
   "cell_type": "code",
   "execution_count": null,
   "metadata": {},
   "outputs": [],
   "source": [
    "MAP_topK = []\n",
    "MAP_shrink = []\n",
    "for shrink in range(7700, 8200, 100):\n",
    "    userCBF = UserContentBasedRecommender(1000, shrink)\n",
    "    userCBF.fit(URM.copy(), data['UCM'])\n",
    "    result = userCBF.evaluate_MAP_target(data['test'], group[0])\n",
    "    MAP_topK.append(result['MAP'])\n",
    "\n",
    "pyplot.figure(figsize=(20,10))\n",
    "pyplot.plot(MAP_topK, label=\"UserCBF\")\n",
    "pyplot.ylabel('MAP')\n",
    "pyplot.legend()\n",
    "pyplot.show()"
   ]
  },
  {
   "cell_type": "markdown",
   "metadata": {},
   "source": [
    "# ItemCBF tuning"
   ]
  },
  {
   "cell_type": "code",
   "execution_count": null,
   "metadata": {},
   "outputs": [],
   "source": [
    "MAP_topK = []\n",
    "for topK in [5, 10, 30, 50, 100, 200, 400, 700, 1000]:\n",
    "    itemCBF = ItemContentBasedRecommender(topK, 5)\n",
    "    itemCBF.fit(URM.copy(), ICM)\n",
    "    result = userCBF.evaluate_MAP_target(data['test'], group[0])\n",
    "    MAP_topK.append(result['MAP'])\n",
    "\n",
    "pyplot.figure(figsize=(20,10))\n",
    "pyplot.plot(MAP_topK, label=\"UserCBF\")\n",
    "pyplot.ylabel('MAP')\n",
    "pyplot.legend()\n",
    "pyplot.show()"
   ]
  },
  {
   "cell_type": "code",
   "execution_count": null,
   "metadata": {},
   "outputs": [],
   "source": []
  }
 ],
 "metadata": {
  "kernelspec": {
   "display_name": "Python 3",
   "language": "python",
   "name": "python3"
  },
  "language_info": {
   "codemirror_mode": {
    "name": "ipython",
    "version": 3
   },
   "file_extension": ".py",
   "mimetype": "text/x-python",
   "name": "python",
   "nbconvert_exporter": "python",
   "pygments_lexer": "ipython3",
   "version": "3.7.4"
  }
 },
 "nbformat": 4,
 "nbformat_minor": 2
}
