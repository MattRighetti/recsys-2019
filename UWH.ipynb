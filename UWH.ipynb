{
 "cells": [
  {
   "cell_type": "markdown",
   "metadata": {},
   "source": [
    "# User Wise Hybrid"
   ]
  },
  {
   "cell_type": "code",
   "execution_count": 1,
   "metadata": {},
   "outputs": [],
   "source": [
    "from Utils.Toolkit import get_data\n",
    "\n",
    "data = get_data()\n",
    "\n",
    "URM = data['train'].tocsr()\n",
    "ICM = data['ICM_subclass'].tocsr()"
   ]
  },
  {
   "cell_type": "markdown",
   "metadata": {},
   "source": [
    "## Let's divide users intro groups"
   ]
  },
  {
   "cell_type": "code",
   "execution_count": 2,
   "metadata": {},
   "outputs": [],
   "source": [
    "import numpy as np\n",
    "\n",
    "group0 = []\n",
    "group1 = []\n",
    "group2 = []\n",
    "group3 = []\n",
    "group4 = []\n",
    "group5 = []\n",
    "group6 = []\n",
    "group7 = []\n",
    "group8 = []\n",
    "group9 = []\n",
    "\n",
    "for user_id in range(URM.shape[0]):\n",
    "    start_pos = URM.indptr[user_id]\n",
    "    end_pos = URM.indptr[user_id + 1]\n",
    "    if len(URM.data[start_pos:end_pos]) == 0:\n",
    "        group0.append(user_id)\n",
    "    elif 0 < len(URM.data[start_pos:end_pos]) <= 2:\n",
    "        group1.append(user_id)\n",
    "    elif 2 < len(URM.data[start_pos:end_pos]) <= 5:\n",
    "        group2.append(user_id)\n",
    "    elif 5 < len(URM.data[start_pos:end_pos]) <= 10:\n",
    "        group3.append(user_id)\n",
    "    elif 10 < len(URM.data[start_pos:end_pos]) <= 20:\n",
    "        group4.append(user_id)\n",
    "    elif 20 < len(URM.data[start_pos:end_pos]) <= 30:\n",
    "        group5.append(user_id)\n",
    "    elif 40 < len(URM.data[start_pos:end_pos]) <= 60:\n",
    "        group6.append(user_id)\n",
    "    elif 60 < len(URM.data[start_pos:end_pos]) <= 100:\n",
    "        group7.append(user_id)\n",
    "    elif 100 < len(URM.data[start_pos:end_pos]) <= 300:\n",
    "        group8.append(user_id)\n",
    "    elif 300 < len(URM.data[start_pos:end_pos]) <= 10000:\n",
    "        group9.append(user_id)\n",
    "\n",
    "        \n",
    "group0 = np.array(group0)\n",
    "group1 = np.array(group1)\n",
    "group2 = np.array(group2)\n",
    "group3 = np.array(group3)\n",
    "group4 = np.array(group4)\n",
    "group5 = np.array(group5)\n",
    "group6 = np.array(group6)\n",
    "group7 = np.array(group7)\n",
    "group8 = np.array(group8)\n",
    "group9 = np.array(group9)\n",
    "\n",
    "group = np.array([group0, group1, group2, group3, group4, group5, group6, group7, group8, group9])"
   ]
  },
  {
   "cell_type": "code",
   "execution_count": 3,
   "metadata": {},
   "outputs": [
    {
     "name": "stdout",
     "output_type": "stream",
     "text": [
      "6473 Cold users\n",
      "3695\n",
      "4556\n",
      "5034\n",
      "5443\n",
      "2502\n",
      "1183\n",
      "530\n",
      "131\n",
      "5\n"
     ]
    }
   ],
   "source": [
    "print(str(len(group0)) + \" Cold users\")\n",
    "print(len(group1))\n",
    "print(len(group2))\n",
    "print(len(group3))\n",
    "print(len(group4))\n",
    "print(len(group5))\n",
    "print(len(group6))\n",
    "print(len(group7))\n",
    "print(len(group8))\n",
    "print(len(group9))"
   ]
  },
  {
   "cell_type": "code",
   "execution_count": 4,
   "metadata": {
    "scrolled": true
   },
   "outputs": [],
   "source": [
    "from Recommenders.CF.FeatureBoostedItemCollaborative import FeatureBoostedItemCollaborativeFiltering\n",
    "from Recommenders.CF.item_cf import ItemBasedCollaborativeFiltering\n",
    "from Recommenders.CF.user_cf import UserBasedCollaborativeFiltering\n",
    "from Recommenders.CBF.user_CBF import UserContentBasedRecommender\n",
    "from Recommenders.CBF.item_CBF import ItemContentBasedRecommender\n",
    "from Recommenders.SLIM.SLIM_BPR_Cython import SLIM_BPR_Cython\n",
    "\n",
    "itemCF = ItemBasedCollaborativeFiltering(29, 5)\n",
    "itemCF.fit(URM.copy(), ICM)\n",
    "\n",
    "userCBF = UserContentBasedRecommender(1000, 7900)\n",
    "userCBF.fit(URM.copy(), data['UCM'])\n",
    "\n",
    "userCF = UserBasedCollaborativeFiltering(94, 19)\n",
    "userCF.fit(URM.copy())\n",
    "\n",
    "itemCBF = ItemContentBasedRecommender(100, 5)\n",
    "itemCBF.fit(URM.copy(), ICM)\n",
    "\n",
    "slim = SLIM_BPR_Cython(epochs=5000,\n",
    "                               topK=20,\n",
    "                               lambda_i=1.0,\n",
    "                               lambda_j=7.0,\n",
    "                               positive_threshold=1,\n",
    "                               sgd_mode=\"adam\",\n",
    "                               symmetric=False,\n",
    "                               learning_rate=1e-4)"
   ]
  },
  {
   "cell_type": "code",
   "execution_count": 5,
   "metadata": {
    "scrolled": true
   },
   "outputs": [
    {
     "name": "stderr",
     "output_type": "stream",
     "text": [
      "Evaluating MAP with target: 100%|██████████| 6473/6473 [00:02<00:00, 2800.01it/s]\n",
      "Evaluating MAP with target:   3%|▎         | 202/6473 [00:00<00:03, 2013.67it/s]"
     ]
    },
    {
     "name": "stdout",
     "output_type": "stream",
     "text": [
      "ItemBasedCollaborativeFiltering -> MAP: 0.0000\tTOTAL MISS=2813\tRelevant=4\n"
     ]
    },
    {
     "name": "stderr",
     "output_type": "stream",
     "text": [
      "Evaluating MAP with target: 100%|██████████| 6473/6473 [00:03<00:00, 1699.07it/s]\n",
      "Evaluating MAP with target:  10%|▉         | 630/6473 [00:00<00:01, 3042.81it/s]"
     ]
    },
    {
     "name": "stdout",
     "output_type": "stream",
     "text": [
      "UserContentBasedRecommender -> MAP: 0.0015\tTOTAL MISS=2699\tRelevant=118\n"
     ]
    },
    {
     "name": "stderr",
     "output_type": "stream",
     "text": [
      "Evaluating MAP with target: 100%|██████████| 6473/6473 [00:02<00:00, 2910.92it/s]\n",
      "Evaluating MAP with target:   9%|▉         | 602/6473 [00:00<00:02, 2884.96it/s]"
     ]
    },
    {
     "name": "stdout",
     "output_type": "stream",
     "text": [
      "ItemContentBasedRecommender -> MAP: 0.0000\tTOTAL MISS=2813\tRelevant=4\n"
     ]
    },
    {
     "name": "stderr",
     "output_type": "stream",
     "text": [
      "Evaluating MAP with target: 100%|██████████| 6473/6473 [00:02<00:00, 2927.71it/s]\n",
      "Evaluating MAP with target:   4%|▍         | 286/6473 [00:00<00:02, 2858.44it/s]"
     ]
    },
    {
     "name": "stdout",
     "output_type": "stream",
     "text": [
      "UserBasedCollaborativeFiltering -> MAP: 0.0000\tTOTAL MISS=2813\tRelevant=4\n"
     ]
    },
    {
     "name": "stderr",
     "output_type": "stream",
     "text": [
      "Evaluating MAP with target: 100%|██████████| 6473/6473 [00:02<00:00, 2961.23it/s]\n",
      "Evaluating MAP with target:   3%|▎         | 127/3695 [00:00<00:02, 1262.75it/s]"
     ]
    },
    {
     "name": "stdout",
     "output_type": "stream",
     "text": [
      "BaseRecommender -> MAP: 0.0000\tTOTAL MISS=2813\tRelevant=4\n"
     ]
    },
    {
     "name": "stderr",
     "output_type": "stream",
     "text": [
      "Evaluating MAP with target: 100%|██████████| 3695/3695 [00:03<00:00, 1209.42it/s]\n",
      "Evaluating MAP with target:   5%|▍         | 169/3695 [00:00<00:04, 831.39it/s]"
     ]
    },
    {
     "name": "stdout",
     "output_type": "stream",
     "text": [
      "ItemBasedCollaborativeFiltering -> MAP: 0.0068\tTOTAL MISS=3378\tRelevant=317\n"
     ]
    },
    {
     "name": "stderr",
     "output_type": "stream",
     "text": [
      "Evaluating MAP with target: 100%|██████████| 3695/3695 [00:04<00:00, 773.23it/s]\n",
      "Evaluating MAP with target:   4%|▎         | 135/3695 [00:00<00:02, 1345.53it/s]"
     ]
    },
    {
     "name": "stdout",
     "output_type": "stream",
     "text": [
      "UserContentBasedRecommender -> MAP: 0.0011\tTOTAL MISS=3581\tRelevant=114\n"
     ]
    },
    {
     "name": "stderr",
     "output_type": "stream",
     "text": [
      "Evaluating MAP with target: 100%|██████████| 3695/3695 [00:02<00:00, 1344.03it/s]\n",
      "Evaluating MAP with target:   3%|▎         | 109/3695 [00:00<00:03, 1082.38it/s]"
     ]
    },
    {
     "name": "stdout",
     "output_type": "stream",
     "text": [
      "ItemContentBasedRecommender -> MAP: 0.0007\tTOTAL MISS=3643\tRelevant=52\n"
     ]
    },
    {
     "name": "stderr",
     "output_type": "stream",
     "text": [
      "Evaluating MAP with target: 100%|██████████| 3695/3695 [00:03<00:00, 1031.29it/s]\n",
      "Evaluating MAP with target:   7%|▋         | 277/3695 [00:00<00:02, 1369.67it/s]"
     ]
    },
    {
     "name": "stdout",
     "output_type": "stream",
     "text": [
      "UserBasedCollaborativeFiltering -> MAP: 0.0065\tTOTAL MISS=3343\tRelevant=352\n"
     ]
    },
    {
     "name": "stderr",
     "output_type": "stream",
     "text": [
      "Evaluating MAP with target: 100%|██████████| 3695/3695 [00:02<00:00, 1338.00it/s]\n",
      "Evaluating MAP with target:   3%|▎         | 122/4556 [00:00<00:03, 1217.57it/s]"
     ]
    },
    {
     "name": "stdout",
     "output_type": "stream",
     "text": [
      "BaseRecommender -> MAP: 0.0062\tTOTAL MISS=3366\tRelevant=329\n"
     ]
    },
    {
     "name": "stderr",
     "output_type": "stream",
     "text": [
      "Evaluating MAP with target: 100%|██████████| 4556/4556 [00:03<00:00, 1246.65it/s]\n",
      "Evaluating MAP with target:   2%|▏         | 84/4556 [00:00<00:05, 837.05it/s]"
     ]
    },
    {
     "name": "stdout",
     "output_type": "stream",
     "text": [
      "ItemBasedCollaborativeFiltering -> MAP: 0.0092\tTOTAL MISS=4056\tRelevant=500\n"
     ]
    },
    {
     "name": "stderr",
     "output_type": "stream",
     "text": [
      "Evaluating MAP with target: 100%|██████████| 4556/4556 [00:06<00:00, 716.69it/s]\n",
      "Evaluating MAP with target:   2%|▏         | 97/4556 [00:00<00:04, 965.13it/s]"
     ]
    },
    {
     "name": "stdout",
     "output_type": "stream",
     "text": [
      "UserContentBasedRecommender -> MAP: 0.0016\tTOTAL MISS=4403\tRelevant=153\n"
     ]
    },
    {
     "name": "stderr",
     "output_type": "stream",
     "text": [
      "Evaluating MAP with target: 100%|██████████| 4556/4556 [00:03<00:00, 1174.12it/s]\n",
      "Evaluating MAP with target:   2%|▏         | 108/4556 [00:00<00:04, 1076.47it/s]"
     ]
    },
    {
     "name": "stdout",
     "output_type": "stream",
     "text": [
      "ItemContentBasedRecommender -> MAP: 0.0010\tTOTAL MISS=4486\tRelevant=70\n"
     ]
    },
    {
     "name": "stderr",
     "output_type": "stream",
     "text": [
      "Evaluating MAP with target: 100%|██████████| 4556/4556 [00:04<00:00, 1070.34it/s]\n",
      "Evaluating MAP with target:   6%|▌         | 263/4556 [00:00<00:03, 1310.29it/s]"
     ]
    },
    {
     "name": "stdout",
     "output_type": "stream",
     "text": [
      "UserBasedCollaborativeFiltering -> MAP: 0.0061\tTOTAL MISS=4208\tRelevant=348\n"
     ]
    },
    {
     "name": "stderr",
     "output_type": "stream",
     "text": [
      "Evaluating MAP with target: 100%|██████████| 4556/4556 [00:03<00:00, 1274.09it/s]\n",
      "Evaluating MAP with target:   2%|▏         | 111/5034 [00:00<00:04, 1104.05it/s]"
     ]
    },
    {
     "name": "stdout",
     "output_type": "stream",
     "text": [
      "BaseRecommender -> MAP: 0.0079\tTOTAL MISS=4100\tRelevant=456\n"
     ]
    },
    {
     "name": "stderr",
     "output_type": "stream",
     "text": [
      "Evaluating MAP with target: 100%|██████████| 5034/5034 [00:04<00:00, 1116.54it/s]\n",
      "Evaluating MAP with target:   2%|▏         | 80/5034 [00:00<00:06, 791.35it/s]"
     ]
    },
    {
     "name": "stdout",
     "output_type": "stream",
     "text": [
      "ItemBasedCollaborativeFiltering -> MAP: 0.0094\tTOTAL MISS=4476\tRelevant=558\n"
     ]
    },
    {
     "name": "stderr",
     "output_type": "stream",
     "text": [
      "Evaluating MAP with target: 100%|██████████| 5034/5034 [00:07<00:00, 693.34it/s]\n",
      "Evaluating MAP with target:   2%|▏         | 113/5034 [00:00<00:04, 1123.87it/s]"
     ]
    },
    {
     "name": "stdout",
     "output_type": "stream",
     "text": [
      "UserContentBasedRecommender -> MAP: 0.0012\tTOTAL MISS=4911\tRelevant=123\n"
     ]
    },
    {
     "name": "stderr",
     "output_type": "stream",
     "text": [
      "Evaluating MAP with target: 100%|██████████| 5034/5034 [00:04<00:00, 1134.05it/s]\n",
      "Evaluating MAP with target:   2%|▏         | 106/5034 [00:00<00:04, 1052.24it/s]"
     ]
    },
    {
     "name": "stdout",
     "output_type": "stream",
     "text": [
      "ItemContentBasedRecommender -> MAP: 0.0010\tTOTAL MISS=4964\tRelevant=70\n"
     ]
    },
    {
     "name": "stderr",
     "output_type": "stream",
     "text": [
      "Evaluating MAP with target: 100%|██████████| 5034/5034 [00:04<00:00, 1040.13it/s]\n",
      "Evaluating MAP with target:   2%|▏         | 109/5034 [00:00<00:04, 1085.79it/s]"
     ]
    },
    {
     "name": "stdout",
     "output_type": "stream",
     "text": [
      "UserBasedCollaborativeFiltering -> MAP: 0.0046\tTOTAL MISS=4755\tRelevant=279\n"
     ]
    },
    {
     "name": "stderr",
     "output_type": "stream",
     "text": [
      "Evaluating MAP with target: 100%|██████████| 5034/5034 [00:04<00:00, 1163.81it/s]\n",
      "Evaluating MAP with target:   2%|▏         | 94/5443 [00:00<00:05, 937.65it/s]"
     ]
    },
    {
     "name": "stdout",
     "output_type": "stream",
     "text": [
      "BaseRecommender -> MAP: 0.0085\tTOTAL MISS=4550\tRelevant=484\n"
     ]
    },
    {
     "name": "stderr",
     "output_type": "stream",
     "text": [
      "Evaluating MAP with target: 100%|██████████| 5443/5443 [00:05<00:00, 1023.81it/s]\n",
      "Evaluating MAP with target:   3%|▎         | 147/5443 [00:00<00:07, 725.88it/s]"
     ]
    },
    {
     "name": "stdout",
     "output_type": "stream",
     "text": [
      "ItemBasedCollaborativeFiltering -> MAP: 0.0097\tTOTAL MISS=4835\tRelevant=608\n"
     ]
    },
    {
     "name": "stderr",
     "output_type": "stream",
     "text": [
      "Evaluating MAP with target: 100%|██████████| 5443/5443 [00:08<00:00, 669.94it/s]\n",
      "Evaluating MAP with target:   2%|▏         | 103/5443 [00:00<00:05, 1024.39it/s]"
     ]
    },
    {
     "name": "stdout",
     "output_type": "stream",
     "text": [
      "UserContentBasedRecommender -> MAP: 0.0014\tTOTAL MISS=5305\tRelevant=138\n"
     ]
    },
    {
     "name": "stderr",
     "output_type": "stream",
     "text": [
      "Evaluating MAP with target: 100%|██████████| 5443/5443 [00:05<00:00, 950.79it/s] \n",
      "Evaluating MAP with target:   1%|▏         | 78/5443 [00:00<00:06, 778.22it/s]"
     ]
    },
    {
     "name": "stdout",
     "output_type": "stream",
     "text": [
      "ItemContentBasedRecommender -> MAP: 0.0009\tTOTAL MISS=5371\tRelevant=72\n"
     ]
    },
    {
     "name": "stderr",
     "output_type": "stream",
     "text": [
      "Evaluating MAP with target: 100%|██████████| 5443/5443 [00:05<00:00, 910.72it/s]\n",
      "Evaluating MAP with target:   4%|▎         | 203/5443 [00:00<00:05, 1013.50it/s]"
     ]
    },
    {
     "name": "stdout",
     "output_type": "stream",
     "text": [
      "UserBasedCollaborativeFiltering -> MAP: 0.0027\tTOTAL MISS=5279\tRelevant=164\n"
     ]
    },
    {
     "name": "stderr",
     "output_type": "stream",
     "text": [
      "Evaluating MAP with target: 100%|██████████| 5443/5443 [00:05<00:00, 1085.02it/s]\n",
      "Evaluating MAP with target:   8%|▊         | 192/2502 [00:00<00:02, 948.74it/s]"
     ]
    },
    {
     "name": "stdout",
     "output_type": "stream",
     "text": [
      "BaseRecommender -> MAP: 0.0081\tTOTAL MISS=4946\tRelevant=497\n"
     ]
    },
    {
     "name": "stderr",
     "output_type": "stream",
     "text": [
      "Evaluating MAP with target: 100%|██████████| 2502/2502 [00:02<00:00, 964.24it/s]\n",
      "Evaluating MAP with target:   3%|▎         | 68/2502 [00:00<00:03, 678.35it/s]"
     ]
    },
    {
     "name": "stdout",
     "output_type": "stream",
     "text": [
      "ItemBasedCollaborativeFiltering -> MAP: 0.0037\tTOTAL MISS=2252\tRelevant=250\n"
     ]
    },
    {
     "name": "stderr",
     "output_type": "stream",
     "text": [
      "Evaluating MAP with target: 100%|██████████| 2502/2502 [00:03<00:00, 656.28it/s]\n",
      "Evaluating MAP with target:   4%|▍         | 98/2502 [00:00<00:02, 976.83it/s]"
     ]
    },
    {
     "name": "stdout",
     "output_type": "stream",
     "text": [
      "UserContentBasedRecommender -> MAP: 0.0005\tTOTAL MISS=2449\tRelevant=53\n"
     ]
    },
    {
     "name": "stderr",
     "output_type": "stream",
     "text": [
      "Evaluating MAP with target: 100%|██████████| 2502/2502 [00:02<00:00, 996.25it/s] \n",
      "Evaluating MAP with target:   8%|▊         | 195/2502 [00:00<00:02, 960.87it/s]"
     ]
    },
    {
     "name": "stdout",
     "output_type": "stream",
     "text": [
      "ItemContentBasedRecommender -> MAP: 0.0001\tTOTAL MISS=2488\tRelevant=14\n"
     ]
    },
    {
     "name": "stderr",
     "output_type": "stream",
     "text": [
      "Evaluating MAP with target: 100%|██████████| 2502/2502 [00:02<00:00, 903.33it/s]\n",
      "Evaluating MAP with target:   7%|▋         | 185/2502 [00:00<00:02, 897.27it/s]"
     ]
    },
    {
     "name": "stdout",
     "output_type": "stream",
     "text": [
      "UserBasedCollaborativeFiltering -> MAP: 0.0006\tTOTAL MISS=2459\tRelevant=43\n"
     ]
    },
    {
     "name": "stderr",
     "output_type": "stream",
     "text": [
      "Evaluating MAP with target: 100%|██████████| 2502/2502 [00:02<00:00, 928.03it/s]\n",
      "Evaluating MAP with target:  12%|█▏        | 146/1183 [00:00<00:01, 729.23it/s]"
     ]
    },
    {
     "name": "stdout",
     "output_type": "stream",
     "text": [
      "BaseRecommender -> MAP: 0.0028\tTOTAL MISS=2304\tRelevant=198\n"
     ]
    },
    {
     "name": "stderr",
     "output_type": "stream",
     "text": [
      "Evaluating MAP with target: 100%|██████████| 1183/1183 [00:01<00:00, 709.35it/s]\n",
      "Evaluating MAP with target:   8%|▊         | 91/1183 [00:00<00:02, 446.77it/s]"
     ]
    },
    {
     "name": "stdout",
     "output_type": "stream",
     "text": [
      "ItemBasedCollaborativeFiltering -> MAP: 0.0012\tTOTAL MISS=1093\tRelevant=90\n"
     ]
    },
    {
     "name": "stderr",
     "output_type": "stream",
     "text": [
      "Evaluating MAP with target: 100%|██████████| 1183/1183 [00:02<00:00, 443.41it/s]\n",
      "Evaluating MAP with target:   6%|▋         | 74/1183 [00:00<00:01, 731.15it/s]"
     ]
    },
    {
     "name": "stdout",
     "output_type": "stream",
     "text": [
      "UserContentBasedRecommender -> MAP: 0.0002\tTOTAL MISS=1157\tRelevant=26\n"
     ]
    },
    {
     "name": "stderr",
     "output_type": "stream",
     "text": [
      "Evaluating MAP with target: 100%|██████████| 1183/1183 [00:01<00:00, 756.54it/s]\n",
      "Evaluating MAP with target:   6%|▋         | 75/1183 [00:00<00:01, 745.82it/s]"
     ]
    },
    {
     "name": "stdout",
     "output_type": "stream",
     "text": [
      "ItemContentBasedRecommender -> MAP: 0.0001\tTOTAL MISS=1172\tRelevant=11\n"
     ]
    },
    {
     "name": "stderr",
     "output_type": "stream",
     "text": [
      "Evaluating MAP with target: 100%|██████████| 1183/1183 [00:01<00:00, 740.58it/s]\n",
      "Evaluating MAP with target:  13%|█▎        | 151/1183 [00:00<00:01, 743.65it/s]"
     ]
    },
    {
     "name": "stdout",
     "output_type": "stream",
     "text": [
      "UserBasedCollaborativeFiltering -> MAP: 0.0002\tTOTAL MISS=1171\tRelevant=12\n"
     ]
    },
    {
     "name": "stderr",
     "output_type": "stream",
     "text": [
      "Evaluating MAP with target: 100%|██████████| 1183/1183 [00:01<00:00, 723.88it/s]\n",
      "Evaluating MAP with target:  13%|█▎        | 70/530 [00:00<00:00, 696.21it/s]"
     ]
    },
    {
     "name": "stdout",
     "output_type": "stream",
     "text": [
      "BaseRecommender -> MAP: 0.0009\tTOTAL MISS=1115\tRelevant=68\n"
     ]
    },
    {
     "name": "stderr",
     "output_type": "stream",
     "text": [
      "Evaluating MAP with target: 100%|██████████| 530/530 [00:00<00:00, 712.74it/s]\n",
      "Evaluating MAP with target:   9%|▉         | 47/530 [00:00<00:01, 469.17it/s]"
     ]
    },
    {
     "name": "stdout",
     "output_type": "stream",
     "text": [
      "ItemBasedCollaborativeFiltering -> MAP: 0.0004\tTOTAL MISS=488\tRelevant=42\n"
     ]
    },
    {
     "name": "stderr",
     "output_type": "stream",
     "text": [
      "Evaluating MAP with target: 100%|██████████| 530/530 [00:01<00:00, 432.70it/s]\n",
      "Evaluating MAP with target:  14%|█▍        | 76/530 [00:00<00:00, 752.68it/s]"
     ]
    },
    {
     "name": "stdout",
     "output_type": "stream",
     "text": [
      "UserContentBasedRecommender -> MAP: 0.0001\tTOTAL MISS=522\tRelevant=8\n"
     ]
    },
    {
     "name": "stderr",
     "output_type": "stream",
     "text": [
      "Evaluating MAP with target: 100%|██████████| 530/530 [00:00<00:00, 724.26it/s]\n",
      "Evaluating MAP with target:  14%|█▍        | 74/530 [00:00<00:00, 733.11it/s]"
     ]
    },
    {
     "name": "stdout",
     "output_type": "stream",
     "text": [
      "ItemContentBasedRecommender -> MAP: 0.0000\tTOTAL MISS=523\tRelevant=7\n"
     ]
    },
    {
     "name": "stderr",
     "output_type": "stream",
     "text": [
      "Evaluating MAP with target: 100%|██████████| 530/530 [00:00<00:00, 725.61it/s]\n",
      "Evaluating MAP with target:  14%|█▍        | 74/530 [00:00<00:00, 732.17it/s]"
     ]
    },
    {
     "name": "stdout",
     "output_type": "stream",
     "text": [
      "UserBasedCollaborativeFiltering -> MAP: 0.0000\tTOTAL MISS=528\tRelevant=2\n"
     ]
    },
    {
     "name": "stderr",
     "output_type": "stream",
     "text": [
      "Evaluating MAP with target: 100%|██████████| 530/530 [00:00<00:00, 719.46it/s]\n",
      "Evaluating MAP with target: 100%|██████████| 131/131 [00:00<00:00, 667.01it/s]\n",
      "Evaluating MAP with target:   0%|          | 0/131 [00:00<?, ?it/s]"
     ]
    },
    {
     "name": "stdout",
     "output_type": "stream",
     "text": [
      "BaseRecommender -> MAP: 0.0002\tTOTAL MISS=503\tRelevant=27\n",
      "ItemBasedCollaborativeFiltering -> MAP: 0.0001\tTOTAL MISS=125\tRelevant=6\n"
     ]
    },
    {
     "name": "stderr",
     "output_type": "stream",
     "text": [
      "Evaluating MAP with target: 100%|██████████| 131/131 [00:00<00:00, 443.67it/s]\n",
      "Evaluating MAP with target: 100%|██████████| 131/131 [00:00<00:00, 738.46it/s]\n",
      "Evaluating MAP with target:   0%|          | 0/131 [00:00<?, ?it/s]"
     ]
    },
    {
     "name": "stdout",
     "output_type": "stream",
     "text": [
      "UserContentBasedRecommender -> MAP: 0.0000\tTOTAL MISS=126\tRelevant=5\n",
      "ItemContentBasedRecommender -> MAP: 0.0000\tTOTAL MISS=131\tRelevant=0\n"
     ]
    },
    {
     "name": "stderr",
     "output_type": "stream",
     "text": [
      "Evaluating MAP with target: 100%|██████████| 131/131 [00:00<00:00, 667.34it/s]\n",
      "Evaluating MAP with target: 100%|██████████| 131/131 [00:00<00:00, 687.83it/s]\n",
      "Evaluating MAP with target:   0%|          | 0/5 [00:00<?, ?it/s]"
     ]
    },
    {
     "name": "stdout",
     "output_type": "stream",
     "text": [
      "UserBasedCollaborativeFiltering -> MAP: 0.0000\tTOTAL MISS=131\tRelevant=0\n",
      "BaseRecommender -> MAP: 0.0001\tTOTAL MISS=123\tRelevant=8\n"
     ]
    },
    {
     "name": "stderr",
     "output_type": "stream",
     "text": [
      "Evaluating MAP with target: 100%|██████████| 5/5 [00:00<00:00, 548.68it/s]\n",
      "Evaluating MAP with target: 100%|██████████| 5/5 [00:00<00:00, 364.91it/s]\n",
      "Evaluating MAP with target: 100%|██████████| 5/5 [00:00<00:00, 573.92it/s]\n",
      "Evaluating MAP with target: 100%|██████████| 5/5 [00:00<00:00, 521.11it/s]\n",
      "Evaluating MAP with target: 100%|██████████| 5/5 [00:00<00:00, 541.35it/s]"
     ]
    },
    {
     "name": "stdout",
     "output_type": "stream",
     "text": [
      "ItemBasedCollaborativeFiltering -> MAP: 0.0000\tTOTAL MISS=5\tRelevant=0\n",
      "UserContentBasedRecommender -> MAP: 0.0000\tTOTAL MISS=5\tRelevant=0\n",
      "ItemContentBasedRecommender -> MAP: 0.0000\tTOTAL MISS=5\tRelevant=0\n",
      "UserBasedCollaborativeFiltering -> MAP: 0.0000\tTOTAL MISS=5\tRelevant=0\n",
      "BaseRecommender -> MAP: 0.0000\tTOTAL MISS=5\tRelevant=0\n"
     ]
    },
    {
     "name": "stderr",
     "output_type": "stream",
     "text": [
      "\n"
     ]
    }
   ],
   "source": [
    "MAPs_ICF = []\n",
    "MAPs_UCBF = []\n",
    "MAPs_ICBF = []\n",
    "MAPs_UCF = []\n",
    "MAPs_slim = []\n",
    "\n",
    "slim.fit(URM.copy())\n",
    "\n",
    "for group_id in range(len(group)):\n",
    "    \n",
    "    result = itemCF.evaluate_MAP_target(data['test'], group[group_id])\n",
    "    MAPs_ICF.append(result['MAP'])\n",
    "    \n",
    "    result = userCBF.evaluate_MAP_target(data['test'], group[group_id])\n",
    "    MAPs_UCBF.append(result['MAP'])\n",
    "    \n",
    "    result = itemCBF.evaluate_MAP_target(data['test'], group[group_id])\n",
    "    MAPs_ICBF.append(result['MAP'])\n",
    "    \n",
    "    result = userCF.evaluate_MAP_target(data['test'], group[group_id])\n",
    "    MAPs_UCF.append(result['MAP'])\n",
    "    \n",
    "    result = slim.evaluate_MAP_target(data['test'], group[group_id])\n",
    "    MAPs_slim.append(result['MAP'])"
   ]
  },
  {
   "cell_type": "code",
   "execution_count": 6,
   "metadata": {},
   "outputs": [
    {
     "data": {
      "image/png": "[encoded data removed]",
      "text/plain": [
       "<Figure size 1440x720 with 1 Axes>"
      ]
     },
     "metadata": {
      "needs_background": "light"
     },
     "output_type": "display_data"
    }
   ],
   "source": [
    "import matplotlib.pyplot as pyplot\n",
    "%matplotlib inline  \n",
    "\n",
    "pyplot.figure(figsize=(20,10))\n",
    "pyplot.plot(MAPs_ICF, label=\"ItemCF\")\n",
    "pyplot.plot(MAPs_UCBF, label=\"userCBF\")\n",
    "pyplot.plot(MAPs_UCF, label=\"userCF\")\n",
    "pyplot.plot(MAPs_slim, label=\"SLIM\")\n",
    "pyplot.ylabel('MAP')\n",
    "pyplot.xlabel('User Groups')\n",
    "pyplot.legend()\n",
    "pyplot.show()"
   ]
  },
  {
   "cell_type": "markdown",
   "metadata": {},
   "source": [
    "# UserCBF tuning for cold users"
   ]
  },
  {
   "cell_type": "code",
   "execution_count": 18,
   "metadata": {},
   "outputs": [
    {
     "name": "stderr",
     "output_type": "stream",
     "text": [
      "Evaluating MAP with target: 100%|██████████| 6473/6473 [00:06<00:00, 1039.33it/s]\n"
     ]
    },
    {
     "name": "stdout",
     "output_type": "stream",
     "text": [
      "UserContentBasedRecommender -> MAP: 0.0015\tTOTAL MISS=2696\tRelevant=121\n"
     ]
    },
    {
     "name": "stderr",
     "output_type": "stream",
     "text": [
      "Evaluating MAP with target: 100%|██████████| 6473/6473 [00:07<00:00, 873.10it/s] \n"
     ]
    },
    {
     "name": "stdout",
     "output_type": "stream",
     "text": [
      "UserContentBasedRecommender -> MAP: 0.0015\tTOTAL MISS=2696\tRelevant=121\n"
     ]
    },
    {
     "data": {
      "image/png": "[encoded data removed]",
      "text/plain": [
       "<Figure size 1440x720 with 1 Axes>"
      ]
     },
     "metadata": {
      "needs_background": "light"
     },
     "output_type": "display_data"
    }
   ],
   "source": [
    "from Utils.Toolkit import get_URM_TFIDF\n",
    "\n",
    "MAP_topK = []\n",
    "MAP_shrink = []\n",
    "for shrink in [7950, 7960]:\n",
    "    userCBF = UserContentBasedRecommender(10300, shrink)\n",
    "    UCM = data['UCM']\n",
    "    UCM = get_URM_TFIDF(UCM)\n",
    "    userCBF.fit(URM.copy(), UCM)\n",
    "    result = userCBF.evaluate_MAP_target(data['test'], group[0])\n",
    "    MAP_topK.append(result['MAP'])\n",
    "\n",
    "pyplot.figure(figsize=(20,10))\n",
    "pyplot.plot(MAP_topK, label=\"UserCBF\")\n",
    "pyplot.ylabel('MAP')\n",
    "pyplot.legend()\n",
    "pyplot.show()"
   ]
  },
  {
   "cell_type": "markdown",
   "metadata": {},
   "source": [
    "# ItemCBF tuning"
   ]
  },
  {
   "cell_type": "code",
   "execution_count": null,
   "metadata": {},
   "outputs": [],
   "source": [
    "MAP_topK = []\n",
    "for topK in [5, 10, 30, 50, 100, 200, 400, 700, 1000]:\n",
    "    itemCBF = ItemContentBasedRecommender(topK, 5)\n",
    "    itemCBF.fit(URM.copy(), ICM)\n",
    "    result = userCBF.evaluate_MAP_target(data['test'], group[0])\n",
    "    MAP_topK.append(result['MAP'])\n",
    "\n",
    "pyplot.figure(figsize=(20,10))\n",
    "pyplot.plot(MAP_topK, label=\"UserCBF\")\n",
    "pyplot.ylabel('MAP')\n",
    "pyplot.legend()\n",
    "pyplot.show()"
   ]
  },
  {
   "cell_type": "code",
   "execution_count": null,
   "metadata": {},
   "outputs": [],
   "source": []
  }
 ],
 "metadata": {
  "kernelspec": {
   "display_name": "Python 3",
   "language": "python",
   "name": "python3"
  },
  "language_info": {
   "codemirror_mode": {
    "name": "ipython",
    "version": 3
   },
   "file_extension": ".py",
   "mimetype": "text/x-python",
   "name": "python",
   "nbconvert_exporter": "python",
   "pygments_lexer": "ipython3",
   "version": "3.7.4"
  }
 },
 "nbformat": 4,
 "nbformat_minor": 2
}
