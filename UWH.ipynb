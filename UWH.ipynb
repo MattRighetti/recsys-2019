{
 "cells": [
  {
   "cell_type": "markdown",
   "metadata": {},
   "source": [
    "# User Wise Hybrid"
   ]
  },
  {
   "cell_type": "code",
   "execution_count": 1,
   "metadata": {},
   "outputs": [],
   "source": [
    "from Utils.Toolkit import get_data\n",
    "\n",
    "data = get_data()\n",
    "\n",
    "URM = data['train'].tocsr()\n",
    "ICM = data['ICM_subclass'].tocsr()"
   ]
  },
  {
   "cell_type": "markdown",
   "metadata": {},
   "source": [
    "## Let's divide users intro groups"
   ]
  },
  {
   "cell_type": "code",
   "execution_count": 2,
   "metadata": {},
   "outputs": [],
   "source": [
    "import numpy as np\n",
    "\n",
    "group0 = []\n",
    "group1 = []\n",
    "group2 = []\n",
    "group3 = []\n",
    "group4 = []\n",
    "group5 = []\n",
    "group6 = []\n",
    "group7 = []\n",
    "group8 = []\n",
    "group9 = []\n",
    "\n",
    "for user_id in range(URM.shape[0]):\n",
    "    start_pos = URM.indptr[user_id]\n",
    "    end_pos = URM.indptr[user_id + 1]\n",
    "    if len(URM.data[start_pos:end_pos]) == 0:\n",
    "        group0.append(user_id)\n",
    "    elif 0 < len(URM.data[start_pos:end_pos]) <= 2:\n",
    "        group1.append(user_id)\n",
    "    elif 2 < len(URM.data[start_pos:end_pos]) <= 5:\n",
    "        group2.append(user_id)\n",
    "    elif 5 < len(URM.data[start_pos:end_pos]) <= 10:\n",
    "        group3.append(user_id)\n",
    "    elif 10 < len(URM.data[start_pos:end_pos]) <= 20:\n",
    "        group4.append(user_id)\n",
    "    elif 20 < len(URM.data[start_pos:end_pos]) <= 30:\n",
    "        group5.append(user_id)\n",
    "    elif 40 < len(URM.data[start_pos:end_pos]) <= 60:\n",
    "        group6.append(user_id)\n",
    "    elif 60 < len(URM.data[start_pos:end_pos]) <= 100:\n",
    "        group7.append(user_id)\n",
    "    elif 100 < len(URM.data[start_pos:end_pos]) <= 300:\n",
    "        group8.append(user_id)\n",
    "    elif 300 < len(URM.data[start_pos:end_pos]) <= 10000:\n",
    "        group9.append(user_id)\n",
    "\n",
    "        \n",
    "group0 = np.array(group0)\n",
    "group1 = np.array(group1)\n",
    "group2 = np.array(group2)\n",
    "group3 = np.array(group3)\n",
    "group4 = np.array(group4)\n",
    "group5 = np.array(group5)\n",
    "group6 = np.array(group6)\n",
    "group7 = np.array(group7)\n",
    "group8 = np.array(group8)\n",
    "group9 = np.array(group9)\n",
    "\n",
    "group = np.array([group0, group1, group2, group3, group4, group5, group6, group7, group8, group9])"
   ]
  },
  {
   "cell_type": "code",
   "execution_count": 3,
   "metadata": {},
   "outputs": [
    {
     "name": "stdout",
     "output_type": "stream",
     "text": [
      "6473 Cold users\n",
      "3695\n",
      "4556\n",
      "5034\n",
      "5443\n",
      "2502\n",
      "1183\n",
      "530\n",
      "131\n",
      "5\n"
     ]
    }
   ],
   "source": [
    "print(str(len(group0)) + \" Cold users\")\n",
    "print(len(group1))\n",
    "print(len(group2))\n",
    "print(len(group3))\n",
    "print(len(group4))\n",
    "print(len(group5))\n",
    "print(len(group6))\n",
    "print(len(group7))\n",
    "print(len(group8))\n",
    "print(len(group9))"
   ]
  },
  {
   "cell_type": "code",
   "execution_count": 16,
   "metadata": {},
   "outputs": [
    {
     "name": "stdout",
     "output_type": "stream",
     "text": [
      "Fitting ItemCF...\n",
      "Fitting UserCBF...\n",
      "Fitting SLIM...\n",
      "Fitting ALS...\n"
     ]
    },
    {
     "data": {
      "application/vnd.jupyter.widget-view+json": {
       "model_id": "9c5de338b1224eb098041becc36c5dbe",
       "version_major": 2,
       "version_minor": 0
      },
      "text/plain": [
       "HBox(children=(IntProgress(value=0, max=30), HTML(value='')))"
      ]
     },
     "metadata": {},
     "output_type": "display_data"
    },
    {
     "name": "stdout",
     "output_type": "stream",
     "text": [
      "\n",
      "Done fitting models...\n"
     ]
    }
   ],
   "source": [
    "from Recommenders.HYB.hybrid import HybridRecommender\n",
    "\n",
    "userCF_args = {\n",
    "        'topK' : 102,\n",
    "        'shrink' : 7\n",
    "}\n",
    "\n",
    "userCBF_args = {\n",
    "    'topK' : 1000,\n",
    "    'shrink' : 7950\n",
    "}\n",
    "\n",
    "itemCF_args = {\n",
    "    'topK' : 29,\n",
    "    'shrink' : 5\n",
    "}\n",
    "itemCBF_args = {\n",
    "    'topK' : 29,\n",
    "    'shrink' : 5\n",
    "}\n",
    "\n",
    "SLIM_BPR_args = {\n",
    "    'topK': 20,\n",
    "    'lambda_i': 5.0,\n",
    "    'lambda_j': 7.0,\n",
    "    'epochs': 5000,\n",
    "    'learning_rate' : 1e-4,\n",
    "    'symmetric' : True,\n",
    "    'sgd_mode' : 'adam'\n",
    "}\n",
    "\n",
    "weights = {\n",
    "    'user_cf' : 0,\n",
    "    'item_cf' : 1.55,\n",
    "    'SLIM_BPR' : 1.72,\n",
    "    'item_cbf' : 0,\n",
    "    'ALS' : 0.75\n",
    "}\n",
    "\n",
    "hyb = HybridRecommender(weights=weights,\n",
    "                            userCF_args=userCF_args,\n",
    "                            SLIM_BPR_args=SLIM_BPR_args,\n",
    "                            itemCF_args=itemCF_args,\n",
    "                            itemCBF_args=itemCBF_args,\n",
    "                            userCBF_args=userCBF_args)\n",
    "\n",
    "hyb.fit(URM, ICM, data['UCM'].tocsr())"
   ]
  },
  {
   "cell_type": "code",
   "execution_count": 11,
   "metadata": {
    "scrolled": true
   },
   "outputs": [],
   "source": [
    "from Recommenders.CF.FeatureBoostedItemCollaborative import FeatureBoostedItemCollaborativeFiltering\n",
    "from Recommenders.CF.item_cf import ItemBasedCollaborativeFiltering\n",
    "from Recommenders.CF.user_cf import UserBasedCollaborativeFiltering\n",
    "from Recommenders.CBF.user_CBF import UserContentBasedRecommender\n",
    "from Recommenders.CBF.item_CBF import ItemContentBasedRecommender\n",
    "from Recommenders.SLIM.SLIM_BPR_Cython import SLIM_BPR_Cython\n",
    "\n",
    "itemCF = ItemBasedCollaborativeFiltering(29, 5)\n",
    "itemCF.fit(URM.copy())\n",
    "\n",
    "userCBF = UserContentBasedRecommender(1000, 7900)\n",
    "userCBF.fit(URM.copy(), data['UCM'])\n",
    "\n",
    "userCF = UserBasedCollaborativeFiltering(94, 19)\n",
    "userCF.fit(URM.copy())\n",
    "\n",
    "itemCBF = ItemContentBasedRecommender(100, 5)\n",
    "itemCBF.fit(URM.copy(), ICM)\n",
    "\n",
    "\n",
    "\n",
    "slim = SLIM_BPR_Cython(epochs=5000,\n",
    "                               topK=20,\n",
    "                               lambda_i=1.0,\n",
    "                               lambda_j=7.0,\n",
    "                               positive_threshold=1,\n",
    "                               sgd_mode=\"adam\",\n",
    "                               symmetric=False,\n",
    "                               learning_rate=1e-4)\n",
    "\n",
    "slim.fit(URM.copy())"
   ]
  },
  {
   "cell_type": "code",
   "execution_count": 17,
   "metadata": {
    "scrolled": true
   },
   "outputs": [
    {
     "name": "stderr",
     "output_type": "stream",
     "text": [
      "Evaluating MAP with target: 100%|██████████| 6473/6473 [00:02<00:00, 2960.40it/s]\n",
      "Evaluating MAP with target:   4%|▍         | 261/6473 [00:00<00:05, 1233.41it/s]"
     ]
    },
    {
     "name": "stdout",
     "output_type": "stream",
     "text": [
      "ItemBasedCollaborativeFiltering -> MAP: 0.0000\tTOTAL MISS=2813\tRelevant=4\n"
     ]
    },
    {
     "name": "stderr",
     "output_type": "stream",
     "text": [
      "Evaluating MAP with target: 100%|██████████| 6473/6473 [00:05<00:00, 1221.27it/s]\n",
      "Evaluating MAP with target:   4%|▍         | 286/6473 [00:00<00:02, 2844.58it/s]"
     ]
    },
    {
     "name": "stdout",
     "output_type": "stream",
     "text": [
      "UserContentBasedRecommender -> MAP: 0.0014\tTOTAL MISS=2696\tRelevant=121\n"
     ]
    },
    {
     "name": "stderr",
     "output_type": "stream",
     "text": [
      "Evaluating MAP with target: 100%|██████████| 6473/6473 [00:02<00:00, 2964.15it/s]\n",
      "Evaluating MAP with target:   5%|▍         | 305/6473 [00:00<00:02, 3036.67it/s]"
     ]
    },
    {
     "name": "stdout",
     "output_type": "stream",
     "text": [
      "ItemContentBasedRecommender -> MAP: 0.0000\tTOTAL MISS=2813\tRelevant=4\n"
     ]
    },
    {
     "name": "stderr",
     "output_type": "stream",
     "text": [
      "Evaluating MAP with target: 100%|██████████| 6473/6473 [00:01<00:00, 3257.76it/s]\n",
      "Evaluating MAP with target:   5%|▌         | 346/6473 [00:00<00:01, 3446.52it/s]"
     ]
    },
    {
     "name": "stdout",
     "output_type": "stream",
     "text": [
      "UserBasedCollaborativeFiltering -> MAP: 0.0000\tTOTAL MISS=2813\tRelevant=4\n"
     ]
    },
    {
     "name": "stderr",
     "output_type": "stream",
     "text": [
      "Evaluating MAP with target: 100%|██████████| 6473/6473 [00:01<00:00, 3401.15it/s]\n",
      "Evaluating MAP with target:   2%|▏         | 113/6473 [00:00<00:05, 1110.07it/s]"
     ]
    },
    {
     "name": "stdout",
     "output_type": "stream",
     "text": [
      "BaseRecommender -> MAP: 0.0000\tTOTAL MISS=2813\tRelevant=4\n"
     ]
    },
    {
     "name": "stderr",
     "output_type": "stream",
     "text": [
      "Evaluating MAP with target: 100%|██████████| 6473/6473 [00:06<00:00, 950.16it/s] \n",
      "Evaluating MAP with target:   3%|▎         | 122/3695 [00:00<00:02, 1218.62it/s]"
     ]
    },
    {
     "name": "stdout",
     "output_type": "stream",
     "text": [
      "HYB -> MAP: 0.0014\tTOTAL MISS=2696\tRelevant=121\n"
     ]
    },
    {
     "name": "stderr",
     "output_type": "stream",
     "text": [
      "Evaluating MAP with target: 100%|██████████| 3695/3695 [00:02<00:00, 1248.29it/s]\n",
      "Evaluating MAP with target:   2%|▏         | 74/3695 [00:00<00:04, 732.81it/s]"
     ]
    },
    {
     "name": "stdout",
     "output_type": "stream",
     "text": [
      "ItemBasedCollaborativeFiltering -> MAP: 0.0067\tTOTAL MISS=3388\tRelevant=307\n"
     ]
    },
    {
     "name": "stderr",
     "output_type": "stream",
     "text": [
      "Evaluating MAP with target: 100%|██████████| 3695/3695 [00:05<00:00, 689.07it/s]\n",
      "Evaluating MAP with target:   4%|▎         | 138/3695 [00:00<00:02, 1373.75it/s]"
     ]
    },
    {
     "name": "stdout",
     "output_type": "stream",
     "text": [
      "UserContentBasedRecommender -> MAP: 0.0011\tTOTAL MISS=3584\tRelevant=111\n"
     ]
    },
    {
     "name": "stderr",
     "output_type": "stream",
     "text": [
      "Evaluating MAP with target: 100%|██████████| 3695/3695 [00:02<00:00, 1295.68it/s]\n",
      "Evaluating MAP with target:   3%|▎         | 110/3695 [00:00<00:03, 1099.96it/s]"
     ]
    },
    {
     "name": "stdout",
     "output_type": "stream",
     "text": [
      "ItemContentBasedRecommender -> MAP: 0.0006\tTOTAL MISS=3644\tRelevant=51\n"
     ]
    },
    {
     "name": "stderr",
     "output_type": "stream",
     "text": [
      "Evaluating MAP with target: 100%|██████████| 3695/3695 [00:03<00:00, 1047.74it/s]\n",
      "Evaluating MAP with target:   4%|▍         | 141/3695 [00:00<00:02, 1406.13it/s]"
     ]
    },
    {
     "name": "stdout",
     "output_type": "stream",
     "text": [
      "UserBasedCollaborativeFiltering -> MAP: 0.0067\tTOTAL MISS=3336\tRelevant=359\n"
     ]
    },
    {
     "name": "stderr",
     "output_type": "stream",
     "text": [
      "Evaluating MAP with target: 100%|██████████| 3695/3695 [00:02<00:00, 1375.96it/s]\n",
      "Evaluating MAP with target:   2%|▏         | 82/3695 [00:00<00:09, 401.34it/s]"
     ]
    },
    {
     "name": "stdout",
     "output_type": "stream",
     "text": [
      "BaseRecommender -> MAP: 0.0065\tTOTAL MISS=3386\tRelevant=309\n"
     ]
    },
    {
     "name": "stderr",
     "output_type": "stream",
     "text": [
      "Evaluating MAP with target: 100%|██████████| 3695/3695 [00:09<00:00, 396.92it/s]\n",
      "Evaluating MAP with target:   5%|▍         | 226/4556 [00:00<00:03, 1106.67it/s]"
     ]
    },
    {
     "name": "stdout",
     "output_type": "stream",
     "text": [
      "HYB -> MAP: 0.0074\tTOTAL MISS=3310\tRelevant=385\n"
     ]
    },
    {
     "name": "stderr",
     "output_type": "stream",
     "text": [
      "Evaluating MAP with target: 100%|██████████| 4556/4556 [00:04<00:00, 1133.77it/s]\n",
      "Evaluating MAP with target:   2%|▏         | 70/4556 [00:00<00:06, 691.39it/s]"
     ]
    },
    {
     "name": "stdout",
     "output_type": "stream",
     "text": [
      "ItemBasedCollaborativeFiltering -> MAP: 0.0101\tTOTAL MISS=4039\tRelevant=517\n"
     ]
    },
    {
     "name": "stderr",
     "output_type": "stream",
     "text": [
      "Evaluating MAP with target: 100%|██████████| 4556/4556 [00:06<00:00, 685.34it/s]\n",
      "Evaluating MAP with target:   6%|▌         | 268/4556 [00:00<00:03, 1337.68it/s]"
     ]
    },
    {
     "name": "stdout",
     "output_type": "stream",
     "text": [
      "UserContentBasedRecommender -> MAP: 0.0015\tTOTAL MISS=4416\tRelevant=140\n"
     ]
    },
    {
     "name": "stderr",
     "output_type": "stream",
     "text": [
      "Evaluating MAP with target: 100%|██████████| 4556/4556 [00:03<00:00, 1178.15it/s]\n",
      "Evaluating MAP with target:   4%|▍         | 174/4556 [00:00<00:05, 865.54it/s]"
     ]
    },
    {
     "name": "stdout",
     "output_type": "stream",
     "text": [
      "ItemContentBasedRecommender -> MAP: 0.0010\tTOTAL MISS=4470\tRelevant=86\n"
     ]
    },
    {
     "name": "stderr",
     "output_type": "stream",
     "text": [
      "Evaluating MAP with target: 100%|██████████| 4556/4556 [00:04<00:00, 975.98it/s] \n",
      "Evaluating MAP with target:   3%|▎         | 115/4556 [00:00<00:03, 1145.32it/s]"
     ]
    },
    {
     "name": "stdout",
     "output_type": "stream",
     "text": [
      "UserBasedCollaborativeFiltering -> MAP: 0.0067\tTOTAL MISS=4178\tRelevant=378\n"
     ]
    },
    {
     "name": "stderr",
     "output_type": "stream",
     "text": [
      "Evaluating MAP with target: 100%|██████████| 4556/4556 [00:03<00:00, 1143.47it/s]\n",
      "Evaluating MAP with target:   1%|          | 30/4556 [00:00<00:15, 299.02it/s]"
     ]
    },
    {
     "name": "stdout",
     "output_type": "stream",
     "text": [
      "BaseRecommender -> MAP: 0.0085\tTOTAL MISS=4111\tRelevant=445\n"
     ]
    },
    {
     "name": "stderr",
     "output_type": "stream",
     "text": [
      "Evaluating MAP with target: 100%|██████████| 4556/4556 [00:12<00:00, 370.21it/s]\n",
      "Evaluating MAP with target:   2%|▏         | 100/5034 [00:00<00:04, 997.15it/s]"
     ]
    },
    {
     "name": "stdout",
     "output_type": "stream",
     "text": [
      "HYB -> MAP: 0.0101\tTOTAL MISS=4016\tRelevant=540\n"
     ]
    },
    {
     "name": "stderr",
     "output_type": "stream",
     "text": [
      "Evaluating MAP with target: 100%|██████████| 5034/5034 [00:04<00:00, 1128.94it/s]\n",
      "Evaluating MAP with target:   1%|▏         | 63/5034 [00:00<00:07, 629.91it/s]"
     ]
    },
    {
     "name": "stdout",
     "output_type": "stream",
     "text": [
      "ItemBasedCollaborativeFiltering -> MAP: 0.0097\tTOTAL MISS=4459\tRelevant=575\n"
     ]
    },
    {
     "name": "stderr",
     "output_type": "stream",
     "text": [
      "Evaluating MAP with target: 100%|██████████| 5034/5034 [00:08<00:00, 623.15it/s]\n",
      "Evaluating MAP with target:   2%|▏         | 107/5034 [00:00<00:04, 1063.12it/s]"
     ]
    },
    {
     "name": "stdout",
     "output_type": "stream",
     "text": [
      "UserContentBasedRecommender -> MAP: 0.0012\tTOTAL MISS=4897\tRelevant=137\n"
     ]
    },
    {
     "name": "stderr",
     "output_type": "stream",
     "text": [
      "Evaluating MAP with target: 100%|██████████| 5034/5034 [00:04<00:00, 1190.96it/s]\n",
      "Evaluating MAP with target:   2%|▏         | 110/5034 [00:00<00:04, 1096.22it/s]"
     ]
    },
    {
     "name": "stdout",
     "output_type": "stream",
     "text": [
      "ItemContentBasedRecommender -> MAP: 0.0009\tTOTAL MISS=4970\tRelevant=64\n"
     ]
    },
    {
     "name": "stderr",
     "output_type": "stream",
     "text": [
      "Evaluating MAP with target: 100%|██████████| 5034/5034 [00:04<00:00, 1093.03it/s]\n",
      "Evaluating MAP with target:   3%|▎         | 130/5034 [00:00<00:03, 1296.50it/s]"
     ]
    },
    {
     "name": "stdout",
     "output_type": "stream",
     "text": [
      "UserBasedCollaborativeFiltering -> MAP: 0.0044\tTOTAL MISS=4751\tRelevant=283\n"
     ]
    },
    {
     "name": "stderr",
     "output_type": "stream",
     "text": [
      "Evaluating MAP with target: 100%|██████████| 5034/5034 [00:03<00:00, 1268.91it/s]\n",
      "Evaluating MAP with target:   1%|          | 40/5034 [00:00<00:12, 392.56it/s]"
     ]
    },
    {
     "name": "stdout",
     "output_type": "stream",
     "text": [
      "BaseRecommender -> MAP: 0.0081\tTOTAL MISS=4549\tRelevant=485\n"
     ]
    },
    {
     "name": "stderr",
     "output_type": "stream",
     "text": [
      "Evaluating MAP with target: 100%|██████████| 5034/5034 [00:13<00:00, 361.40it/s]\n",
      "Evaluating MAP with target:   1%|▏         | 72/5443 [00:00<00:07, 719.89it/s]"
     ]
    },
    {
     "name": "stdout",
     "output_type": "stream",
     "text": [
      "HYB -> MAP: 0.0097\tTOTAL MISS=4432\tRelevant=602\n"
     ]
    },
    {
     "name": "stderr",
     "output_type": "stream",
     "text": [
      "Evaluating MAP with target: 100%|██████████| 5443/5443 [00:05<00:00, 926.81it/s] \n",
      "Evaluating MAP with target:   1%|          | 66/5443 [00:00<00:08, 651.85it/s]"
     ]
    },
    {
     "name": "stdout",
     "output_type": "stream",
     "text": [
      "ItemBasedCollaborativeFiltering -> MAP: 0.0093\tTOTAL MISS=4853\tRelevant=590\n"
     ]
    },
    {
     "name": "stderr",
     "output_type": "stream",
     "text": [
      "Evaluating MAP with target: 100%|██████████| 5443/5443 [00:08<00:00, 659.56it/s]\n",
      "Evaluating MAP with target:   2%|▏         | 108/5443 [00:00<00:04, 1076.63it/s]"
     ]
    },
    {
     "name": "stdout",
     "output_type": "stream",
     "text": [
      "UserContentBasedRecommender -> MAP: 0.0018\tTOTAL MISS=5287\tRelevant=156\n"
     ]
    },
    {
     "name": "stderr",
     "output_type": "stream",
     "text": [
      "Evaluating MAP with target: 100%|██████████| 5443/5443 [00:05<00:00, 1080.85it/s]\n",
      "Evaluating MAP with target:   2%|▏         | 102/5443 [00:00<00:05, 1016.32it/s]"
     ]
    },
    {
     "name": "stdout",
     "output_type": "stream",
     "text": [
      "ItemContentBasedRecommender -> MAP: 0.0008\tTOTAL MISS=5380\tRelevant=63\n"
     ]
    },
    {
     "name": "stderr",
     "output_type": "stream",
     "text": [
      "Evaluating MAP with target: 100%|██████████| 5443/5443 [00:05<00:00, 1014.92it/s]\n",
      "Evaluating MAP with target:   2%|▏         | 110/5443 [00:00<00:04, 1098.11it/s]"
     ]
    },
    {
     "name": "stdout",
     "output_type": "stream",
     "text": [
      "UserBasedCollaborativeFiltering -> MAP: 0.0031\tTOTAL MISS=5259\tRelevant=184\n"
     ]
    },
    {
     "name": "stderr",
     "output_type": "stream",
     "text": [
      "Evaluating MAP with target: 100%|██████████| 5443/5443 [00:05<00:00, 1029.60it/s]\n",
      "Evaluating MAP with target:   1%|          | 38/5443 [00:00<00:14, 376.43it/s]"
     ]
    },
    {
     "name": "stdout",
     "output_type": "stream",
     "text": [
      "BaseRecommender -> MAP: 0.0077\tTOTAL MISS=4951\tRelevant=492\n"
     ]
    },
    {
     "name": "stderr",
     "output_type": "stream",
     "text": [
      "Evaluating MAP with target: 100%|██████████| 5443/5443 [00:14<00:00, 385.46it/s]\n",
      "Evaluating MAP with target:   8%|▊         | 189/2502 [00:00<00:02, 937.68it/s]"
     ]
    },
    {
     "name": "stdout",
     "output_type": "stream",
     "text": [
      "HYB -> MAP: 0.0091\tTOTAL MISS=4883\tRelevant=560\n"
     ]
    },
    {
     "name": "stderr",
     "output_type": "stream",
     "text": [
      "Evaluating MAP with target: 100%|██████████| 2502/2502 [00:02<00:00, 972.12it/s]\n",
      "Evaluating MAP with target:   3%|▎         | 65/2502 [00:00<00:03, 649.33it/s]"
     ]
    },
    {
     "name": "stdout",
     "output_type": "stream",
     "text": [
      "ItemBasedCollaborativeFiltering -> MAP: 0.0033\tTOTAL MISS=2274\tRelevant=228\n"
     ]
    },
    {
     "name": "stderr",
     "output_type": "stream",
     "text": [
      "Evaluating MAP with target: 100%|██████████| 2502/2502 [00:03<00:00, 661.63it/s]\n",
      "Evaluating MAP with target:   4%|▍         | 103/2502 [00:00<00:02, 1023.42it/s]"
     ]
    },
    {
     "name": "stdout",
     "output_type": "stream",
     "text": [
      "UserContentBasedRecommender -> MAP: 0.0008\tTOTAL MISS=2437\tRelevant=65\n"
     ]
    },
    {
     "name": "stderr",
     "output_type": "stream",
     "text": [
      "Evaluating MAP with target: 100%|██████████| 2502/2502 [00:02<00:00, 1029.19it/s]\n",
      "Evaluating MAP with target:   4%|▍         | 98/2502 [00:00<00:02, 977.04it/s]"
     ]
    },
    {
     "name": "stdout",
     "output_type": "stream",
     "text": [
      "ItemContentBasedRecommender -> MAP: 0.0002\tTOTAL MISS=2481\tRelevant=21\n"
     ]
    },
    {
     "name": "stderr",
     "output_type": "stream",
     "text": [
      "Evaluating MAP with target: 100%|██████████| 2502/2502 [00:02<00:00, 1004.76it/s]\n",
      "Evaluating MAP with target:   4%|▍         | 104/2502 [00:00<00:02, 1032.91it/s]"
     ]
    },
    {
     "name": "stdout",
     "output_type": "stream",
     "text": [
      "UserBasedCollaborativeFiltering -> MAP: 0.0005\tTOTAL MISS=2463\tRelevant=39\n"
     ]
    },
    {
     "name": "stderr",
     "output_type": "stream",
     "text": [
      "Evaluating MAP with target: 100%|██████████| 2502/2502 [00:02<00:00, 1007.41it/s]\n",
      "Evaluating MAP with target:   2%|▏         | 38/2502 [00:00<00:06, 371.42it/s]"
     ]
    },
    {
     "name": "stdout",
     "output_type": "stream",
     "text": [
      "BaseRecommender -> MAP: 0.0027\tTOTAL MISS=2307\tRelevant=195\n"
     ]
    },
    {
     "name": "stderr",
     "output_type": "stream",
     "text": [
      "Evaluating MAP with target: 100%|██████████| 2502/2502 [00:06<00:00, 393.11it/s]\n",
      "Evaluating MAP with target:  12%|█▏        | 144/1183 [00:00<00:01, 710.82it/s]"
     ]
    },
    {
     "name": "stdout",
     "output_type": "stream",
     "text": [
      "HYB -> MAP: 0.0032\tTOTAL MISS=2280\tRelevant=222\n"
     ]
    },
    {
     "name": "stderr",
     "output_type": "stream",
     "text": [
      "Evaluating MAP with target: 100%|██████████| 1183/1183 [00:01<00:00, 744.44it/s]\n",
      "Evaluating MAP with target:   4%|▍         | 45/1183 [00:00<00:02, 449.38it/s]"
     ]
    },
    {
     "name": "stdout",
     "output_type": "stream",
     "text": [
      "ItemBasedCollaborativeFiltering -> MAP: 0.0012\tTOTAL MISS=1085\tRelevant=98\n"
     ]
    },
    {
     "name": "stderr",
     "output_type": "stream",
     "text": [
      "Evaluating MAP with target: 100%|██████████| 1183/1183 [00:02<00:00, 447.14it/s]\n",
      "Evaluating MAP with target:   7%|▋         | 79/1183 [00:00<00:01, 787.93it/s]"
     ]
    },
    {
     "name": "stdout",
     "output_type": "stream",
     "text": [
      "UserContentBasedRecommender -> MAP: 0.0002\tTOTAL MISS=1160\tRelevant=23\n"
     ]
    },
    {
     "name": "stderr",
     "output_type": "stream",
     "text": [
      "Evaluating MAP with target: 100%|██████████| 1183/1183 [00:01<00:00, 786.60it/s]\n",
      "Evaluating MAP with target:  13%|█▎        | 155/1183 [00:00<00:01, 771.77it/s]"
     ]
    },
    {
     "name": "stdout",
     "output_type": "stream",
     "text": [
      "ItemContentBasedRecommender -> MAP: 0.0001\tTOTAL MISS=1175\tRelevant=8\n"
     ]
    },
    {
     "name": "stderr",
     "output_type": "stream",
     "text": [
      "Evaluating MAP with target: 100%|██████████| 1183/1183 [00:01<00:00, 724.12it/s]\n",
      "Evaluating MAP with target:   6%|▌         | 71/1183 [00:00<00:01, 704.84it/s]"
     ]
    },
    {
     "name": "stdout",
     "output_type": "stream",
     "text": [
      "UserBasedCollaborativeFiltering -> MAP: 0.0001\tTOTAL MISS=1169\tRelevant=14\n"
     ]
    },
    {
     "name": "stderr",
     "output_type": "stream",
     "text": [
      "Evaluating MAP with target: 100%|██████████| 1183/1183 [00:01<00:00, 731.38it/s]\n",
      "Evaluating MAP with target:   3%|▎         | 38/1183 [00:00<00:03, 373.01it/s]"
     ]
    },
    {
     "name": "stdout",
     "output_type": "stream",
     "text": [
      "BaseRecommender -> MAP: 0.0009\tTOTAL MISS=1107\tRelevant=76\n"
     ]
    },
    {
     "name": "stderr",
     "output_type": "stream",
     "text": [
      "Evaluating MAP with target: 100%|██████████| 1183/1183 [00:02<00:00, 395.69it/s]\n",
      "Evaluating MAP with target:  13%|█▎        | 70/530 [00:00<00:00, 690.53it/s]"
     ]
    },
    {
     "name": "stdout",
     "output_type": "stream",
     "text": [
      "HYB -> MAP: 0.0011\tTOTAL MISS=1103\tRelevant=80\n"
     ]
    },
    {
     "name": "stderr",
     "output_type": "stream",
     "text": [
      "Evaluating MAP with target: 100%|██████████| 530/530 [00:00<00:00, 720.88it/s]\n",
      "Evaluating MAP with target:   8%|▊         | 45/530 [00:00<00:01, 443.75it/s]"
     ]
    },
    {
     "name": "stdout",
     "output_type": "stream",
     "text": [
      "ItemBasedCollaborativeFiltering -> MAP: 0.0004\tTOTAL MISS=490\tRelevant=40\n"
     ]
    },
    {
     "name": "stderr",
     "output_type": "stream",
     "text": [
      "Evaluating MAP with target: 100%|██████████| 530/530 [00:01<00:00, 432.99it/s]\n",
      "Evaluating MAP with target:  14%|█▍        | 76/530 [00:00<00:00, 759.32it/s]"
     ]
    },
    {
     "name": "stdout",
     "output_type": "stream",
     "text": [
      "UserContentBasedRecommender -> MAP: 0.0001\tTOTAL MISS=518\tRelevant=12\n"
     ]
    },
    {
     "name": "stderr",
     "output_type": "stream",
     "text": [
      "Evaluating MAP with target: 100%|██████████| 530/530 [00:00<00:00, 767.25it/s]\n",
      "Evaluating MAP with target:  29%|██▉       | 154/530 [00:00<00:00, 769.39it/s]"
     ]
    },
    {
     "name": "stdout",
     "output_type": "stream",
     "text": [
      "ItemContentBasedRecommender -> MAP: 0.0001\tTOTAL MISS=524\tRelevant=6\n"
     ]
    },
    {
     "name": "stderr",
     "output_type": "stream",
     "text": [
      "Evaluating MAP with target: 100%|██████████| 530/530 [00:00<00:00, 762.55it/s]\n",
      "Evaluating MAP with target:  14%|█▍        | 75/530 [00:00<00:00, 747.59it/s]"
     ]
    },
    {
     "name": "stdout",
     "output_type": "stream",
     "text": [
      "UserBasedCollaborativeFiltering -> MAP: 0.0001\tTOTAL MISS=527\tRelevant=3\n"
     ]
    },
    {
     "name": "stderr",
     "output_type": "stream",
     "text": [
      "Evaluating MAP with target: 100%|██████████| 530/530 [00:00<00:00, 741.92it/s]\n",
      "Evaluating MAP with target:   8%|▊         | 41/530 [00:00<00:01, 401.65it/s]"
     ]
    },
    {
     "name": "stdout",
     "output_type": "stream",
     "text": [
      "BaseRecommender -> MAP: 0.0004\tTOTAL MISS=502\tRelevant=28\n"
     ]
    },
    {
     "name": "stderr",
     "output_type": "stream",
     "text": [
      "Evaluating MAP with target: 100%|██████████| 530/530 [00:01<00:00, 409.30it/s]\n",
      "Evaluating MAP with target: 100%|██████████| 131/131 [00:00<00:00, 681.79it/s]\n",
      "Evaluating MAP with target:   0%|          | 0/131 [00:00<?, ?it/s]"
     ]
    },
    {
     "name": "stdout",
     "output_type": "stream",
     "text": [
      "HYB -> MAP: 0.0004\tTOTAL MISS=493\tRelevant=37\n",
      "ItemBasedCollaborativeFiltering -> MAP: 0.0002\tTOTAL MISS=123\tRelevant=8\n"
     ]
    },
    {
     "name": "stderr",
     "output_type": "stream",
     "text": [
      "Evaluating MAP with target: 100%|██████████| 131/131 [00:00<00:00, 439.49it/s]\n",
      "Evaluating MAP with target: 100%|██████████| 131/131 [00:00<00:00, 756.12it/s]\n",
      "Evaluating MAP with target:   0%|          | 0/131 [00:00<?, ?it/s]"
     ]
    },
    {
     "name": "stdout",
     "output_type": "stream",
     "text": [
      "UserContentBasedRecommender -> MAP: 0.0000\tTOTAL MISS=128\tRelevant=3\n",
      "ItemContentBasedRecommender -> MAP: 0.0000\tTOTAL MISS=130\tRelevant=1\n"
     ]
    },
    {
     "name": "stderr",
     "output_type": "stream",
     "text": [
      "Evaluating MAP with target: 100%|██████████| 131/131 [00:00<00:00, 718.76it/s]\n",
      "Evaluating MAP with target: 100%|██████████| 131/131 [00:00<00:00, 720.44it/s]\n",
      "Evaluating MAP with target:   0%|          | 0/131 [00:00<?, ?it/s]"
     ]
    },
    {
     "name": "stdout",
     "output_type": "stream",
     "text": [
      "UserBasedCollaborativeFiltering -> MAP: 0.0000\tTOTAL MISS=130\tRelevant=1\n",
      "BaseRecommender -> MAP: 0.0001\tTOTAL MISS=125\tRelevant=6\n"
     ]
    },
    {
     "name": "stderr",
     "output_type": "stream",
     "text": [
      "Evaluating MAP with target: 100%|██████████| 131/131 [00:00<00:00, 398.38it/s]\n",
      "Evaluating MAP with target: 100%|██████████| 5/5 [00:00<00:00, 478.33it/s]\n",
      "Evaluating MAP with target: 100%|██████████| 5/5 [00:00<00:00, 340.78it/s]\n",
      "Evaluating MAP with target: 100%|██████████| 5/5 [00:00<00:00, 505.30it/s]\n",
      "Evaluating MAP with target: 100%|██████████| 5/5 [00:00<00:00, 496.53it/s]\n",
      "Evaluating MAP with target: 100%|██████████| 5/5 [00:00<00:00, 489.95it/s]\n",
      "Evaluating MAP with target: 100%|██████████| 5/5 [00:00<00:00, 329.75it/s]"
     ]
    },
    {
     "name": "stdout",
     "output_type": "stream",
     "text": [
      "HYB -> MAP: 0.0002\tTOTAL MISS=123\tRelevant=8\n",
      "ItemBasedCollaborativeFiltering -> MAP: 0.0000\tTOTAL MISS=4\tRelevant=1\n",
      "UserContentBasedRecommender -> MAP: 0.0000\tTOTAL MISS=4\tRelevant=1\n",
      "ItemContentBasedRecommender -> MAP: 0.0000\tTOTAL MISS=5\tRelevant=0\n",
      "UserBasedCollaborativeFiltering -> MAP: 0.0000\tTOTAL MISS=5\tRelevant=0\n",
      "BaseRecommender -> MAP: 0.0000\tTOTAL MISS=4\tRelevant=1\n",
      "HYB -> MAP: 0.0000\tTOTAL MISS=5\tRelevant=0\n"
     ]
    },
    {
     "name": "stderr",
     "output_type": "stream",
     "text": [
      "\n"
     ]
    }
   ],
   "source": [
    "MAPs_ICF = []\n",
    "MAPs_UCBF = []\n",
    "MAPs_ICBF = []\n",
    "MAPs_UCF = []\n",
    "MAPs_slim = []\n",
    "MAPs_hyb = []\n",
    "\n",
    "for group_id in range(len(group)):\n",
    "    \n",
    "    result = itemCF.evaluate_MAP_target(data['test'], group[group_id])\n",
    "    MAPs_ICF.append(result['MAP'])\n",
    "    \n",
    "    result = userCBF.evaluate_MAP_target(data['test'], group[group_id])\n",
    "    MAPs_UCBF.append(result['MAP'])\n",
    "    \n",
    "    result = itemCBF.evaluate_MAP_target(data['test'], group[group_id])\n",
    "    MAPs_ICBF.append(result['MAP'])\n",
    "    \n",
    "    result = userCF.evaluate_MAP_target(data['test'], group[group_id])\n",
    "    MAPs_UCF.append(result['MAP'])\n",
    "    \n",
    "    result = slim.evaluate_MAP_target(data['test'], group[group_id])\n",
    "    MAPs_slim.append(result['MAP'])\n",
    "    \n",
    "    result = hyb.evaluate_MAP_target(data['test'], group[group_id])\n",
    "    MAPs_hyb.append(result['MAP'])"
   ]
  },
  {
   "cell_type": "code",
   "execution_count": 18,
   "metadata": {},
   "outputs": [
    {
     "data": {
      "image/png": "[encoded data removed]",
      "text/plain": [
       "<Figure size 1440x720 with 1 Axes>"
      ]
     },
     "metadata": {
      "needs_background": "light"
     },
     "output_type": "display_data"
    }
   ],
   "source": [
    "import matplotlib.pyplot as pyplot\n",
    "%matplotlib inline  \n",
    "\n",
    "pyplot.figure(figsize=(20,10))\n",
    "pyplot.plot(MAPs_ICF, label=\"ItemCF\")\n",
    "pyplot.plot(MAPs_UCBF, label=\"userCBF\")\n",
    "pyplot.plot(MAPs_hyb, label=\"HYBRID\")\n",
    "pyplot.plot(MAPs_slim, label=\"SLIM\")\n",
    "pyplot.ylabel('MAP')\n",
    "pyplot.xlabel('User Groups')\n",
    "pyplot.legend()\n",
    "pyplot.show()"
   ]
  },
  {
   "cell_type": "markdown",
   "metadata": {},
   "source": [
    "# UserCBF tuning for cold users"
   ]
  },
  {
   "cell_type": "code",
   "execution_count": 8,
   "metadata": {},
   "outputs": [
    {
     "name": "stderr",
     "output_type": "stream",
     "text": [
      "Evaluating MAP with target: 100%|██████████| 6473/6473 [00:03<00:00, 1714.30it/s]\n"
     ]
    },
    {
     "name": "stdout",
     "output_type": "stream",
     "text": [
      "UserContentBasedRecommender -> MAP: 0.0014\tTOTAL MISS=2697\tRelevant=120\n"
     ]
    },
    {
     "ename": "KeyboardInterrupt",
     "evalue": "",
     "output_type": "error",
     "traceback": [
      "\u001b[0;31m---------------------------------------------------------------------------\u001b[0m",
      "\u001b[0;31mKeyboardInterrupt\u001b[0m                         Traceback (most recent call last)",
      "\u001b[0;32m<ipython-input-8-869a4f3065f3>\u001b[0m in \u001b[0;36m<module>\u001b[0;34m\u001b[0m\n\u001b[1;32m      7\u001b[0m     \u001b[0mUCM\u001b[0m \u001b[0;34m=\u001b[0m \u001b[0mdata\u001b[0m\u001b[0;34m[\u001b[0m\u001b[0;34m'UCM'\u001b[0m\u001b[0;34m]\u001b[0m\u001b[0;34m\u001b[0m\u001b[0;34m\u001b[0m\u001b[0m\n\u001b[1;32m      8\u001b[0m     \u001b[0mUCM\u001b[0m \u001b[0;34m=\u001b[0m \u001b[0mget_URM_TFIDF\u001b[0m\u001b[0;34m(\u001b[0m\u001b[0mUCM\u001b[0m\u001b[0;34m)\u001b[0m\u001b[0;34m\u001b[0m\u001b[0;34m\u001b[0m\u001b[0m\n\u001b[0;32m----> 9\u001b[0;31m     \u001b[0muserCBF\u001b[0m\u001b[0;34m.\u001b[0m\u001b[0mfit\u001b[0m\u001b[0;34m(\u001b[0m\u001b[0mURM\u001b[0m\u001b[0;34m.\u001b[0m\u001b[0mcopy\u001b[0m\u001b[0;34m(\u001b[0m\u001b[0;34m)\u001b[0m\u001b[0;34m,\u001b[0m \u001b[0mUCM\u001b[0m\u001b[0;34m)\u001b[0m\u001b[0;34m\u001b[0m\u001b[0;34m\u001b[0m\u001b[0m\n\u001b[0m\u001b[1;32m     10\u001b[0m     \u001b[0mresult\u001b[0m \u001b[0;34m=\u001b[0m \u001b[0muserCBF\u001b[0m\u001b[0;34m.\u001b[0m\u001b[0mevaluate_MAP_target\u001b[0m\u001b[0;34m(\u001b[0m\u001b[0mdata\u001b[0m\u001b[0;34m[\u001b[0m\u001b[0;34m'test'\u001b[0m\u001b[0;34m]\u001b[0m\u001b[0;34m,\u001b[0m \u001b[0mgroup\u001b[0m\u001b[0;34m[\u001b[0m\u001b[0;36m0\u001b[0m\u001b[0;34m]\u001b[0m\u001b[0;34m)\u001b[0m\u001b[0;34m\u001b[0m\u001b[0;34m\u001b[0m\u001b[0m\n\u001b[1;32m     11\u001b[0m     \u001b[0mMAP_topK\u001b[0m\u001b[0;34m.\u001b[0m\u001b[0mappend\u001b[0m\u001b[0;34m(\u001b[0m\u001b[0mresult\u001b[0m\u001b[0;34m[\u001b[0m\u001b[0;34m'MAP'\u001b[0m\u001b[0;34m]\u001b[0m\u001b[0;34m)\u001b[0m\u001b[0;34m\u001b[0m\u001b[0;34m\u001b[0m\u001b[0m\n",
      "\u001b[0;32m~/Developer/PycharmProjects/recsys/Recommenders/CBF/user_CBF.py\u001b[0m in \u001b[0;36mfit\u001b[0;34m(self, URM_train, UCM)\u001b[0m\n\u001b[1;32m     40\u001b[0m         \u001b[0mself\u001b[0m\u001b[0;34m.\u001b[0m\u001b[0mUCM\u001b[0m \u001b[0;34m=\u001b[0m \u001b[0mUCM\u001b[0m\u001b[0;34m.\u001b[0m\u001b[0mcopy\u001b[0m\u001b[0;34m(\u001b[0m\u001b[0;34m)\u001b[0m\u001b[0;34m\u001b[0m\u001b[0;34m\u001b[0m\u001b[0m\n\u001b[1;32m     41\u001b[0m         \u001b[0mself\u001b[0m\u001b[0;34m.\u001b[0m\u001b[0mUCM\u001b[0m \u001b[0;34m=\u001b[0m \u001b[0mget_URM_TFIDF\u001b[0m\u001b[0;34m(\u001b[0m\u001b[0mself\u001b[0m\u001b[0;34m.\u001b[0m\u001b[0mUCM\u001b[0m\u001b[0;34m)\u001b[0m\u001b[0;34m\u001b[0m\u001b[0;34m\u001b[0m\u001b[0m\n\u001b[0;32m---> 42\u001b[0;31m         \u001b[0mself\u001b[0m\u001b[0;34m.\u001b[0m\u001b[0mSM\u001b[0m \u001b[0;34m=\u001b[0m \u001b[0mself\u001b[0m\u001b[0;34m.\u001b[0m\u001b[0mcompute_similarity\u001b[0m\u001b[0;34m(\u001b[0m\u001b[0mself\u001b[0m\u001b[0;34m.\u001b[0m\u001b[0mUCM\u001b[0m\u001b[0;34m.\u001b[0m\u001b[0mT\u001b[0m\u001b[0;34m,\u001b[0m \u001b[0mself\u001b[0m\u001b[0;34m.\u001b[0m\u001b[0mtopK\u001b[0m\u001b[0;34m,\u001b[0m \u001b[0mself\u001b[0m\u001b[0;34m.\u001b[0m\u001b[0mshrink\u001b[0m\u001b[0;34m)\u001b[0m\u001b[0;34m\u001b[0m\u001b[0;34m\u001b[0m\u001b[0m\n\u001b[0m\u001b[1;32m     43\u001b[0m         \u001b[0mself\u001b[0m\u001b[0;34m.\u001b[0m\u001b[0mRM\u001b[0m \u001b[0;34m=\u001b[0m \u001b[0mself\u001b[0m\u001b[0;34m.\u001b[0m\u001b[0mSM\u001b[0m\u001b[0;34m.\u001b[0m\u001b[0mdot\u001b[0m\u001b[0;34m(\u001b[0m\u001b[0mself\u001b[0m\u001b[0;34m.\u001b[0m\u001b[0mURM_train\u001b[0m\u001b[0;34m)\u001b[0m\u001b[0;34m\u001b[0m\u001b[0;34m\u001b[0m\u001b[0m\n\u001b[1;32m     44\u001b[0m         \u001b[0mself\u001b[0m\u001b[0;34m.\u001b[0m\u001b[0mRM\u001b[0m \u001b[0;34m=\u001b[0m \u001b[0mself\u001b[0m\u001b[0;34m.\u001b[0m\u001b[0mRM\u001b[0m\u001b[0;34m.\u001b[0m\u001b[0mtocsr\u001b[0m\u001b[0;34m(\u001b[0m\u001b[0;34m)\u001b[0m\u001b[0;34m\u001b[0m\u001b[0;34m\u001b[0m\u001b[0m\n",
      "\u001b[0;32m~/Developer/PycharmProjects/recsys/Recommenders/CBF/user_CBF.py\u001b[0m in \u001b[0;36mcompute_similarity\u001b[0;34m(self, UCM, topK, shrink)\u001b[0m\n\u001b[1;32m     23\u001b[0m     \u001b[0;32mdef\u001b[0m \u001b[0mcompute_similarity\u001b[0m\u001b[0;34m(\u001b[0m\u001b[0mself\u001b[0m\u001b[0;34m,\u001b[0m \u001b[0mUCM\u001b[0m\u001b[0;34m,\u001b[0m \u001b[0mtopK\u001b[0m\u001b[0;34m,\u001b[0m \u001b[0mshrink\u001b[0m\u001b[0;34m)\u001b[0m\u001b[0;34m:\u001b[0m\u001b[0;34m\u001b[0m\u001b[0;34m\u001b[0m\u001b[0m\n\u001b[1;32m     24\u001b[0m         \u001b[0msimilarity_object\u001b[0m \u001b[0;34m=\u001b[0m \u001b[0mCompute_Similarity_Cython\u001b[0m\u001b[0;34m(\u001b[0m\u001b[0mUCM\u001b[0m\u001b[0;34m,\u001b[0m \u001b[0mshrink\u001b[0m\u001b[0;34m,\u001b[0m \u001b[0mtopK\u001b[0m\u001b[0;34m,\u001b[0m \u001b[0;32mTrue\u001b[0m\u001b[0;34m,\u001b[0m \u001b[0msimilarity\u001b[0m\u001b[0;34m=\u001b[0m\u001b[0;34m'cosine'\u001b[0m\u001b[0;34m)\u001b[0m\u001b[0;34m\u001b[0m\u001b[0;34m\u001b[0m\u001b[0m\n\u001b[0;32m---> 25\u001b[0;31m         \u001b[0;32mreturn\u001b[0m \u001b[0msps\u001b[0m\u001b[0;34m.\u001b[0m\u001b[0mcsr_matrix\u001b[0m\u001b[0;34m(\u001b[0m\u001b[0msimilarity_object\u001b[0m\u001b[0;34m.\u001b[0m\u001b[0mcompute_similarity\u001b[0m\u001b[0;34m(\u001b[0m\u001b[0;34m)\u001b[0m\u001b[0;34m)\u001b[0m\u001b[0;34m\u001b[0m\u001b[0;34m\u001b[0m\u001b[0m\n\u001b[0m\u001b[1;32m     26\u001b[0m \u001b[0;34m\u001b[0m\u001b[0m\n\u001b[1;32m     27\u001b[0m     \u001b[0;32mdef\u001b[0m \u001b[0mrecommend\u001b[0m\u001b[0;34m(\u001b[0m\u001b[0mself\u001b[0m\u001b[0;34m,\u001b[0m \u001b[0muser_id\u001b[0m\u001b[0;34m,\u001b[0m \u001b[0mat\u001b[0m\u001b[0;34m=\u001b[0m\u001b[0;36m10\u001b[0m\u001b[0;34m,\u001b[0m \u001b[0mexclude_seen\u001b[0m\u001b[0;34m=\u001b[0m\u001b[0;32mTrue\u001b[0m\u001b[0;34m)\u001b[0m\u001b[0;34m:\u001b[0m\u001b[0;34m\u001b[0m\u001b[0;34m\u001b[0m\u001b[0m\n",
      "\u001b[0;32mCompute_Similarity_Cython.pyx\u001b[0m in \u001b[0;36mCompute_Similarity_Cython.Compute_Similarity_Cython.compute_similarity\u001b[0;34m()\u001b[0m\n",
      "\u001b[0;32m~/opt/anaconda3/lib/python3.7/site-packages/scipy/sparse/compressed.py\u001b[0m in \u001b[0;36m__init__\u001b[0;34m(self, arg1, shape, dtype, copy)\u001b[0m\n\u001b[1;32m     55\u001b[0m                     \u001b[0;31m# (data, ij) format\u001b[0m\u001b[0;34m\u001b[0m\u001b[0;34m\u001b[0m\u001b[0;34m\u001b[0m\u001b[0m\n\u001b[1;32m     56\u001b[0m                     \u001b[0;32mfrom\u001b[0m \u001b[0;34m.\u001b[0m\u001b[0mcoo\u001b[0m \u001b[0;32mimport\u001b[0m \u001b[0mcoo_matrix\u001b[0m\u001b[0;34m\u001b[0m\u001b[0;34m\u001b[0m\u001b[0m\n\u001b[0;32m---> 57\u001b[0;31m                     \u001b[0mother\u001b[0m \u001b[0;34m=\u001b[0m \u001b[0mself\u001b[0m\u001b[0;34m.\u001b[0m\u001b[0m__class__\u001b[0m\u001b[0;34m(\u001b[0m\u001b[0mcoo_matrix\u001b[0m\u001b[0;34m(\u001b[0m\u001b[0marg1\u001b[0m\u001b[0;34m,\u001b[0m \u001b[0mshape\u001b[0m\u001b[0;34m=\u001b[0m\u001b[0mshape\u001b[0m\u001b[0;34m)\u001b[0m\u001b[0;34m)\u001b[0m\u001b[0;34m\u001b[0m\u001b[0;34m\u001b[0m\u001b[0m\n\u001b[0m\u001b[1;32m     58\u001b[0m                     \u001b[0mself\u001b[0m\u001b[0;34m.\u001b[0m\u001b[0m_set_self\u001b[0m\u001b[0;34m(\u001b[0m\u001b[0mother\u001b[0m\u001b[0;34m)\u001b[0m\u001b[0;34m\u001b[0m\u001b[0;34m\u001b[0m\u001b[0m\n\u001b[1;32m     59\u001b[0m                 \u001b[0;32melif\u001b[0m \u001b[0mlen\u001b[0m\u001b[0;34m(\u001b[0m\u001b[0marg1\u001b[0m\u001b[0;34m)\u001b[0m \u001b[0;34m==\u001b[0m \u001b[0;36m3\u001b[0m\u001b[0;34m:\u001b[0m\u001b[0;34m\u001b[0m\u001b[0;34m\u001b[0m\u001b[0m\n",
      "\u001b[0;32m~/opt/anaconda3/lib/python3.7/site-packages/scipy/sparse/compressed.py\u001b[0m in \u001b[0;36m__init__\u001b[0;34m(self, arg1, shape, dtype, copy)\u001b[0m\n\u001b[1;32m     35\u001b[0m                 \u001b[0marg1\u001b[0m \u001b[0;34m=\u001b[0m \u001b[0marg1\u001b[0m\u001b[0;34m.\u001b[0m\u001b[0mcopy\u001b[0m\u001b[0;34m(\u001b[0m\u001b[0;34m)\u001b[0m\u001b[0;34m\u001b[0m\u001b[0;34m\u001b[0m\u001b[0m\n\u001b[1;32m     36\u001b[0m             \u001b[0;32melse\u001b[0m\u001b[0;34m:\u001b[0m\u001b[0;34m\u001b[0m\u001b[0;34m\u001b[0m\u001b[0m\n\u001b[0;32m---> 37\u001b[0;31m                 \u001b[0marg1\u001b[0m \u001b[0;34m=\u001b[0m \u001b[0marg1\u001b[0m\u001b[0;34m.\u001b[0m\u001b[0masformat\u001b[0m\u001b[0;34m(\u001b[0m\u001b[0mself\u001b[0m\u001b[0;34m.\u001b[0m\u001b[0mformat\u001b[0m\u001b[0;34m)\u001b[0m\u001b[0;34m\u001b[0m\u001b[0;34m\u001b[0m\u001b[0m\n\u001b[0m\u001b[1;32m     38\u001b[0m             \u001b[0mself\u001b[0m\u001b[0;34m.\u001b[0m\u001b[0m_set_self\u001b[0m\u001b[0;34m(\u001b[0m\u001b[0marg1\u001b[0m\u001b[0;34m)\u001b[0m\u001b[0;34m\u001b[0m\u001b[0;34m\u001b[0m\u001b[0m\n\u001b[1;32m     39\u001b[0m \u001b[0;34m\u001b[0m\u001b[0m\n",
      "\u001b[0;32m~/opt/anaconda3/lib/python3.7/site-packages/scipy/sparse/base.py\u001b[0m in \u001b[0;36masformat\u001b[0;34m(self, format, copy)\u001b[0m\n\u001b[1;32m    324\u001b[0m             \u001b[0;31m# Forward the copy kwarg, if it's accepted.\u001b[0m\u001b[0;34m\u001b[0m\u001b[0;34m\u001b[0m\u001b[0;34m\u001b[0m\u001b[0m\n\u001b[1;32m    325\u001b[0m             \u001b[0;32mtry\u001b[0m\u001b[0;34m:\u001b[0m\u001b[0;34m\u001b[0m\u001b[0;34m\u001b[0m\u001b[0m\n\u001b[0;32m--> 326\u001b[0;31m                 \u001b[0;32mreturn\u001b[0m \u001b[0mconvert_method\u001b[0m\u001b[0;34m(\u001b[0m\u001b[0mcopy\u001b[0m\u001b[0;34m=\u001b[0m\u001b[0mcopy\u001b[0m\u001b[0;34m)\u001b[0m\u001b[0;34m\u001b[0m\u001b[0;34m\u001b[0m\u001b[0m\n\u001b[0m\u001b[1;32m    327\u001b[0m             \u001b[0;32mexcept\u001b[0m \u001b[0mTypeError\u001b[0m\u001b[0;34m:\u001b[0m\u001b[0;34m\u001b[0m\u001b[0;34m\u001b[0m\u001b[0m\n\u001b[1;32m    328\u001b[0m                 \u001b[0;32mreturn\u001b[0m \u001b[0mconvert_method\u001b[0m\u001b[0;34m(\u001b[0m\u001b[0;34m)\u001b[0m\u001b[0;34m\u001b[0m\u001b[0;34m\u001b[0m\u001b[0m\n",
      "\u001b[0;32m~/opt/anaconda3/lib/python3.7/site-packages/scipy/sparse/coo.py\u001b[0m in \u001b[0;36mtocsr\u001b[0;34m(self, copy)\u001b[0m\n\u001b[1;32m    407\u001b[0m \u001b[0;34m\u001b[0m\u001b[0m\n\u001b[1;32m    408\u001b[0m             coo_tocsr(M, N, self.nnz, row, col, self.data,\n\u001b[0;32m--> 409\u001b[0;31m                       indptr, indices, data)\n\u001b[0m\u001b[1;32m    410\u001b[0m \u001b[0;34m\u001b[0m\u001b[0m\n\u001b[1;32m    411\u001b[0m             \u001b[0mx\u001b[0m \u001b[0;34m=\u001b[0m \u001b[0mcsr_matrix\u001b[0m\u001b[0;34m(\u001b[0m\u001b[0;34m(\u001b[0m\u001b[0mdata\u001b[0m\u001b[0;34m,\u001b[0m \u001b[0mindices\u001b[0m\u001b[0;34m,\u001b[0m \u001b[0mindptr\u001b[0m\u001b[0;34m)\u001b[0m\u001b[0;34m,\u001b[0m \u001b[0mshape\u001b[0m\u001b[0;34m=\u001b[0m\u001b[0mself\u001b[0m\u001b[0;34m.\u001b[0m\u001b[0mshape\u001b[0m\u001b[0;34m)\u001b[0m\u001b[0;34m\u001b[0m\u001b[0;34m\u001b[0m\u001b[0m\n",
      "\u001b[0;31mKeyboardInterrupt\u001b[0m: "
     ]
    }
   ],
   "source": [
    "from Utils.Toolkit import get_URM_TFIDF\n",
    "\n",
    "MAP_topK = []\n",
    "MAP_shrink = []\n",
    "for shrink in [7950, 7960]:\n",
    "    userCBF = UserContentBasedRecommender(10300, shrink)\n",
    "    UCM = data['UCM']\n",
    "    UCM = get_URM_TFIDF(UCM)\n",
    "    userCBF.fit(URM.copy(), UCM)\n",
    "    result = userCBF.evaluate_MAP_target(data['test'], group[0])\n",
    "    MAP_topK.append(result['MAP'])\n",
    "\n",
    "pyplot.figure(figsize=(20,10))\n",
    "pyplot.plot(MAP_topK, label=\"UserCBF\")\n",
    "pyplot.ylabel('MAP')\n",
    "pyplot.legend()\n",
    "pyplot.show()"
   ]
  },
  {
   "cell_type": "markdown",
   "metadata": {},
   "source": [
    "# ItemCBF tuning"
   ]
  },
  {
   "cell_type": "code",
   "execution_count": null,
   "metadata": {},
   "outputs": [],
   "source": [
    "MAP_topK = []\n",
    "for topK in [5, 10, 30, 50, 100, 200, 400, 700, 1000]:\n",
    "    itemCBF = ItemContentBasedRecommender(topK, 5)\n",
    "    itemCBF.fit(URM.copy(), ICM)\n",
    "    result = userCBF.evaluate_MAP_target(data['test'], group[0])\n",
    "    MAP_topK.append(result['MAP'])\n",
    "\n",
    "pyplot.figure(figsize=(20,10))\n",
    "pyplot.plot(MAP_topK, label=\"UserCBF\")\n",
    "pyplot.ylabel('MAP')\n",
    "pyplot.legend()\n",
    "pyplot.show()"
   ]
  },
  {
   "cell_type": "code",
   "execution_count": null,
   "metadata": {},
   "outputs": [],
   "source": []
  }
 ],
 "metadata": {
  "kernelspec": {
   "display_name": "Python 3",
   "language": "python",
   "name": "python3"
  },
  "language_info": {
   "codemirror_mode": {
    "name": "ipython",
    "version": 3
   },
   "file_extension": ".py",
   "mimetype": "text/x-python",
   "name": "python",
   "nbconvert_exporter": "python",
   "pygments_lexer": "ipython3",
   "version": "3.7.4"
  }
 },
 "nbformat": 4,
 "nbformat_minor": 2
}
