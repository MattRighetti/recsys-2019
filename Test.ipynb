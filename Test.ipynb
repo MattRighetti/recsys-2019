{
 "cells": [
  {
   "cell_type": "markdown",
   "metadata": {},
   "source": [
    "# Import data"
   ]
  },
  {
   "cell_type": "code",
   "execution_count": 2,
   "metadata": {},
   "outputs": [],
   "source": [
    "from Utils.Toolkit import TestGen, get_data\n",
    "from Utils.Toolkit import TestSplit\n",
    "import numpy as np\n",
    "\n",
    "data = get_data(dir_path='./')"
   ]
  },
  {
   "cell_type": "markdown",
   "metadata": {},
   "source": [
    "# Very high sparsity"
   ]
  },
  {
   "cell_type": "code",
   "execution_count": 3,
   "metadata": {},
   "outputs": [
    {
     "data": {
      "text/plain": [
       "0.0006972830778968816"
      ]
     },
     "execution_count": 3,
     "metadata": {},
     "output_type": "execute_result"
    }
   ],
   "source": [
    "URM = data['URM_all'].tocsr()\n",
    "sparsity = URM.getnnz() / (URM.shape[0] * URM.shape[1])\n",
    "sparsity"
   ]
  },
  {
   "cell_type": "markdown",
   "metadata": {},
   "source": [
    "# Cold users"
   ]
  },
  {
   "cell_type": "code",
   "execution_count": 4,
   "metadata": {},
   "outputs": [
    {
     "name": "stdout",
     "output_type": "stream",
     "text": [
      "Total users: 30912\n",
      "Cold users: 3656\n",
      "Percentage of cold users: 11.83%\t \n",
      "First 10 cold users: [20, 23, 24, 26, 41, 42, 46, 48, 67, 68]\n"
     ]
    }
   ],
   "source": [
    "cold_users_list = []\n",
    "\n",
    "cold_users = 0\n",
    "for i in range(len(URM.indptr)-1):\n",
    "    if URM.indptr[i+1]-URM.indptr[i] == 0:\n",
    "        cold_users_list.append(i)\n",
    "        cold_users += 1\n",
    "\n",
    "print(f'Total users: {len(URM.indptr)}')\n",
    "print(f'Cold users: {cold_users}')\n",
    "print(f'Percentage of cold users: {cold_users/len(URM.indptr)*100:.2f}%\\t ')\n",
    "print(f'First 10 cold users: {cold_users_list[:10]}')"
   ]
  },
  {
   "cell_type": "markdown",
   "metadata": {},
   "source": [
    "# Cold items"
   ]
  },
  {
   "cell_type": "code",
   "execution_count": 5,
   "metadata": {},
   "outputs": [
    {
     "name": "stdout",
     "output_type": "stream",
     "text": [
      "Total items: 18496\n",
      "Cold items: 3218\n",
      "Percentage of cold items: 17.40%\n",
      "First 10 cold items: [1, 3, 8, 14, 15, 16, 24, 26, 27, 31]\n"
     ]
    }
   ],
   "source": [
    "URM = URM.tocsc()\n",
    "cold_items_list = []\n",
    "\n",
    "cold_users = 0\n",
    "for i in range(len(URM.indptr)-1):\n",
    "    if URM.indptr[i+1]-URM.indptr[i] == 0:\n",
    "        cold_items_list.append(i)\n",
    "        cold_users += 1\n",
    "\n",
    "print(f'Total items: {len(URM.indptr)}')\n",
    "print(f'Cold items: {cold_users}')\n",
    "print(f'Percentage of cold items: {cold_users/len(URM.indptr)*100:.2f}%')\n",
    "print(f'First 10 cold items: {cold_items_list[:10]}')"
   ]
  },
  {
   "cell_type": "markdown",
   "metadata": {},
   "source": [
    "# Cold users in our target"
   ]
  },
  {
   "cell_type": "code",
   "execution_count": 6,
   "metadata": {},
   "outputs": [
    {
     "name": "stdout",
     "output_type": "stream",
     "text": [
      "Number of cold users in target: 3656\n",
      "Percentage: 11.83%\n"
     ]
    }
   ],
   "source": [
    "numer_of_cold_target_users = np.sum(np.isin(np.arange(URM.shape[0]), cold_users_list))\n",
    "print(f'Number of cold users in target: {numer_of_cold_target_users}')\n",
    "print(f'Percentage: {numer_of_cold_target_users/URM.shape[0]*100:.2f}%')"
   ]
  },
  {
   "cell_type": "markdown",
   "metadata": {},
   "source": [
    "# See users with K interactions"
   ]
  },
  {
   "cell_type": "code",
   "execution_count": 7,
   "metadata": {},
   "outputs": [
    {
     "name": "stdout",
     "output_type": "stream",
     "text": [
      "3656 have 0 interactions\n",
      "2817 have 1 interactions\n",
      "1919 have 2 interactions\n",
      "1776 have 3 interactions\n",
      "1658 have 4 interactions\n",
      "1469 have 5 interactions\n",
      "1429 have 6 interactions\n",
      "1230 have 7 interactions\n",
      "1128 have 8 interactions\n",
      "923 have 9 interactions\n",
      "965 have 10 interactions\n",
      "788 have 11 interactions\n",
      "763 have 12 interactions\n",
      "664 have 13 interactions\n",
      "663 have 14 interactions\n",
      "530 have 15 interactions\n",
      "582 have 16 interactions\n",
      "469 have 17 interactions\n",
      "475 have 18 interactions\n",
      "478 have 19 interactions\n",
      "402 have 20 interactions\n",
      "417 have 21 interactions\n",
      "345 have 22 interactions\n",
      "308 have 23 interactions\n",
      "305 have 24 interactions\n",
      "281 have 25 interactions\n",
      "235 have 26 interactions\n",
      "215 have 27 interactions\n",
      "226 have 28 interactions\n",
      "232 have 29 interactions\n",
      "181 have 30 interactions\n",
      "174 have 31 interactions\n",
      "192 have 32 interactions\n",
      "181 have 33 interactions\n",
      "151 have 34 interactions\n",
      "149 have 35 interactions\n",
      "122 have 36 interactions\n",
      "128 have 37 interactions\n",
      "129 have 38 interactions\n",
      "105 have 39 interactions\n",
      "105 have 40 interactions\n",
      "97 have 41 interactions\n",
      "118 have 42 interactions\n",
      "79 have 43 interactions\n",
      "96 have 44 interactions\n",
      "76 have 45 interactions\n",
      "57 have 46 interactions\n",
      "82 have 47 interactions\n",
      "60 have 48 interactions\n",
      "69 have 49 interactions\n",
      "46 have 50 interactions\n",
      "61 have 51 interactions\n",
      "62 have 52 interactions\n",
      "55 have 53 interactions\n",
      "51 have 54 interactions\n",
      "44 have 55 interactions\n",
      "38 have 56 interactions\n",
      "39 have 57 interactions\n",
      "51 have 58 interactions\n",
      "40 have 59 interactions\n",
      "29 have 60 interactions\n",
      "30 have 61 interactions\n",
      "26 have 62 interactions\n",
      "34 have 63 interactions\n",
      "27 have 64 interactions\n",
      "22 have 65 interactions\n",
      "35 have 66 interactions\n",
      "16 have 67 interactions\n",
      "17 have 68 interactions\n",
      "26 have 69 interactions\n",
      "23 have 70 interactions\n",
      "31 have 71 interactions\n",
      "18 have 72 interactions\n",
      "17 have 73 interactions\n",
      "13 have 74 interactions\n",
      "12 have 75 interactions\n",
      "13 have 76 interactions\n",
      "7 have 77 interactions\n",
      "13 have 78 interactions\n",
      "8 have 79 interactions\n",
      "9 have 80 interactions\n",
      "12 have 81 interactions\n",
      "11 have 82 interactions\n",
      "12 have 83 interactions\n",
      "5 have 84 interactions\n",
      "8 have 85 interactions\n",
      "12 have 86 interactions\n",
      "9 have 87 interactions\n",
      "9 have 88 interactions\n",
      "6 have 89 interactions\n",
      "11 have 90 interactions\n",
      "8 have 91 interactions\n",
      "7 have 92 interactions\n",
      "4 have 93 interactions\n",
      "5 have 94 interactions\n",
      "5 have 95 interactions\n",
      "10 have 96 interactions\n",
      "8 have 97 interactions\n",
      "4 have 98 interactions\n",
      "3 have 99 interactions\n",
      "3 have 100 interactions\n",
      "11 have 101 interactions\n",
      "6 have 102 interactions\n",
      "1 have 103 interactions\n",
      "6 have 104 interactions\n",
      "2 have 105 interactions\n",
      "5 have 106 interactions\n",
      "3 have 107 interactions\n",
      "2 have 108 interactions\n",
      "6 have 109 interactions\n",
      "2 have 110 interactions\n",
      "1 have 111 interactions\n",
      "2 have 112 interactions\n",
      "3 have 113 interactions\n",
      "2 have 114 interactions\n",
      "2 have 115 interactions\n",
      "5 have 116 interactions\n",
      "1 have 118 interactions\n",
      "2 have 119 interactions\n",
      "1 have 120 interactions\n",
      "4 have 121 interactions\n",
      "1 have 122 interactions\n",
      "3 have 123 interactions\n",
      "1 have 124 interactions\n",
      "1 have 126 interactions\n",
      "1 have 127 interactions\n",
      "1 have 128 interactions\n",
      "2 have 129 interactions\n",
      "2 have 130 interactions\n",
      "3 have 131 interactions\n",
      "2 have 132 interactions\n",
      "2 have 133 interactions\n",
      "2 have 135 interactions\n",
      "1 have 136 interactions\n",
      "1 have 138 interactions\n",
      "2 have 140 interactions\n",
      "1 have 141 interactions\n",
      "2 have 142 interactions\n",
      "2 have 144 interactions\n",
      "2 have 145 interactions\n",
      "1 have 146 interactions\n",
      "2 have 147 interactions\n",
      "2 have 148 interactions\n",
      "1 have 149 interactions\n",
      "1 have 150 interactions\n",
      "1 have 153 interactions\n",
      "1 have 154 interactions\n",
      "1 have 155 interactions\n",
      "2 have 156 interactions\n",
      "1 have 157 interactions\n",
      "3 have 158 interactions\n",
      "1 have 161 interactions\n",
      "1 have 162 interactions\n",
      "1 have 164 interactions\n",
      "1 have 165 interactions\n",
      "1 have 168 interactions\n",
      "1 have 169 interactions\n",
      "1 have 172 interactions\n",
      "1 have 174 interactions\n",
      "1 have 176 interactions\n",
      "1 have 183 interactions\n",
      "2 have 184 interactions\n",
      "1 have 185 interactions\n",
      "1 have 194 interactions\n",
      "1 have 195 interactions\n",
      "1 have 196 interactions\n",
      "1 have 200 interactions\n",
      "1 have 201 interactions\n",
      "1 have 202 interactions\n",
      "1 have 220 interactions\n",
      "1 have 244 interactions\n",
      "1 have 255 interactions\n",
      "1 have 256 interactions\n",
      "1 have 270 interactions\n",
      "1 have 275 interactions\n",
      "1 have 281 interactions\n",
      "1 have 286 interactions\n",
      "1 have 379 interactions\n",
      "1 have 454 interactions\n",
      "1 have 455 interactions\n",
      "1 have 504 interactions\n",
      "1 have 677 interactions\n"
     ]
    }
   ],
   "source": [
    "users_rated = np.zeros((URM.shape[1],), dtype=int)\n",
    "\n",
    "URM = URM.tocsr()\n",
    "\n",
    "for i in range(len(URM.indptr)-1):\n",
    "    num_of_interaction_in_row = URM.indptr[i+1] - URM.indptr[i]\n",
    "    users_rated[num_of_interaction_in_row] += 1\n",
    "\n",
    "for i in range(len(users_rated)):\n",
    "    if users_rated[i] != 0:\n",
    "        print(f'{users_rated[i]} have {i} interactions')"
   ]
  },
  {
   "cell_type": "markdown",
   "metadata": {},
   "source": [
    "# Let's divide in bigger groups"
   ]
  },
  {
   "cell_type": "code",
   "execution_count": 8,
   "metadata": {},
   "outputs": [
    {
     "name": "stdout",
     "output_type": "stream",
     "text": [
      "   0 < interactions <   5:  11826 -> 38.26%\n",
      "   5 < interactions <  10:   6179 -> 19.99%\n",
      "  10 < interactions <  20:   6377 -> 20.63%\n",
      "  20 < interactions <  30:   2966 -> 9.60%\n",
      "  30 < interactions <  40:   1512 -> 4.89%\n",
      "  40 < interactions <  50:    839 -> 2.71%\n",
      "  50 < interactions <  60:    487 -> 1.58%\n",
      "  60 < interactions <  70:    262 -> 0.85%\n",
      "  70 < interactions <  80:    155 -> 0.50%\n",
      "  80 < interactions <  90:     93 -> 0.30%\n",
      "  90 < interactions < 100:     65 -> 0.21%\n",
      " 100 < interactions < 100:      0 -> 0.00%\n",
      " 100 < interactions < 200:    134 -> 0.43%\n",
      " 200 < interactions < 300:     11 -> 0.04%\n",
      " 300 < interactions < 400:      1 -> 0.00%\n",
      " 400 < interactions < 500:      2 -> 0.01%\n",
      " 500 < interactions < 600:      1 -> 0.00%\n",
      " 600 < interactions < 700:      1 -> 0.00%\n"
     ]
    }
   ],
   "source": [
    "first_groups = np.arange(0, 11, 5)\n",
    "second_groups = np.arange(20, 101, 10)\n",
    "third_groups = np.arange(100, 701, 100)\n",
    "groups = np.append(first_groups, second_groups)\n",
    "groups = np.append(groups, third_groups)\n",
    "\n",
    "for i in range(len(groups) - 1):\n",
    "    print(f'{groups[i]:4} < interactions < {groups[i+1]:3}: {np.sum(users_rated[groups[i]:groups[i+1]]):6} -> {np.sum(users_rated[groups[i]:groups[i+1]])/URM.shape[0]*100:.2f}%')"
   ]
  },
  {
   "cell_type": "markdown",
   "metadata": {},
   "source": [
    "# Plot some items stuff"
   ]
  },
  {
   "cell_type": "code",
   "execution_count": 9,
   "metadata": {},
   "outputs": [
    {
     "data": {
      "image/png": "[encoded data removed]",
      "text/plain": [
       "<Figure size 432x288 with 1 Axes>"
      ]
     },
     "metadata": {
      "needs_background": "light"
     },
     "output_type": "display_data"
    }
   ],
   "source": [
    "%matplotlib inline\n",
    "import matplotlib.pyplot as plt\n",
    "y_axis = []\n",
    "x_axis = np.arange(URM.shape[1])\n",
    "URM = URM.tocsc()\n",
    "\n",
    "for i in range(len(URM.indptr)-1):\n",
    "    value = URM.indptr[i+1]-URM.indptr[i]\n",
    "    y_axis.append(value)\n",
    "\n",
    "plt.plot(x_axis, y_axis)\n",
    "plt.xlabel('item')\n",
    "plt.ylabel('interactions')\n",
    "plt.show()"
   ]
  },
  {
   "cell_type": "markdown",
   "metadata": {},
   "source": [
    "# ---------------------------------------------------------------------------------\n",
    "# ICMs"
   ]
  },
  {
   "cell_type": "code",
   "execution_count": 10,
   "metadata": {},
   "outputs": [
    {
     "name": "stdout",
     "output_type": "stream",
     "text": [
      "(18495, 1021)\n",
      "(18495, 1021)\n",
      "(18495, 2011)\n"
     ]
    }
   ],
   "source": [
    "ICM_asset = data['ICM_asset']\n",
    "ICM_price = data['ICM_price']\n",
    "ICM_subclass = data['ICM_subclass']\n",
    "print(ICM_asset.shape)\n",
    "print(ICM_price.shape)\n",
    "print(ICM_subclass.shape)"
   ]
  },
  {
   "cell_type": "markdown",
   "metadata": {},
   "source": [
    "# ICM asset"
   ]
  },
  {
   "cell_type": "code",
   "execution_count": 11,
   "metadata": {},
   "outputs": [
    {
     "name": "stdout",
     "output_type": "stream",
     "text": [
      "Sparsity 0.10%\n"
     ]
    }
   ],
   "source": [
    "print(f'Sparsity {ICM_asset.getnnz() / (ICM_asset.shape[0]*ICM_asset.shape[1])*100:.2f}%')"
   ]
  },
  {
   "cell_type": "markdown",
   "metadata": {},
   "source": [
    "# ICM price"
   ]
  },
  {
   "cell_type": "code",
   "execution_count": 12,
   "metadata": {},
   "outputs": [
    {
     "name": "stdout",
     "output_type": "stream",
     "text": [
      "Sparsity 0.10%\n"
     ]
    }
   ],
   "source": [
    "print(f'Sparsity {ICM_price.getnnz() / (ICM_price.shape[0]*ICM_price.shape[1])*100:.2f}%')"
   ]
  },
  {
   "cell_type": "markdown",
   "metadata": {},
   "source": [
    "# ICM subclass"
   ]
  },
  {
   "cell_type": "code",
   "execution_count": 13,
   "metadata": {},
   "outputs": [
    {
     "name": "stdout",
     "output_type": "stream",
     "text": [
      "Sparsity 0.05%\n"
     ]
    }
   ],
   "source": [
    "print(f'Sparsity {ICM_subclass.getnnz() / (ICM_subclass.shape[0]*ICM_subclass.shape[1])*100:.2f}%')"
   ]
  },
  {
   "cell_type": "markdown",
   "metadata": {},
   "source": [
    "# ---------------------------------------------------------------------------------\n",
    "# UCMs"
   ]
  },
  {
   "cell_type": "code",
   "execution_count": 14,
   "metadata": {},
   "outputs": [
    {
     "name": "stdout",
     "output_type": "stream",
     "text": [
      "(30911, 8)\n",
      "(30911, 11)\n"
     ]
    }
   ],
   "source": [
    "UCM_region = data['UCM_region']\n",
    "UCM_age = data['UCM_age']\n",
    "print(UCM_region.shape)\n",
    "print(UCM_age.shape)"
   ]
  },
  {
   "cell_type": "markdown",
   "metadata": {},
   "source": [
    "# UCM region\n",
    "#### Since sparsity is very high we can make good use of this data in a UserContentBasedRec"
   ]
  },
  {
   "cell_type": "code",
   "execution_count": 15,
   "metadata": {},
   "outputs": [
    {
     "name": "stdout",
     "output_type": "stream",
     "text": [
      "Sparsity 10.76%\n"
     ]
    }
   ],
   "source": [
    "print(f'Sparsity {UCM_region.getnnz() / (UCM_region.shape[0]*UCM_region.shape[1])*100:.2f}%')"
   ]
  },
  {
   "cell_type": "markdown",
   "metadata": {},
   "source": [
    "# UCM age\n",
    "#### Since sparsity is very high we can make good use of this data in a UserContentBasedRec"
   ]
  },
  {
   "cell_type": "code",
   "execution_count": 16,
   "metadata": {},
   "outputs": [
    {
     "name": "stdout",
     "output_type": "stream",
     "text": [
      "Sparsity 8.92%\n"
     ]
    }
   ],
   "source": [
    "print(f'Sparsity {UCM_age.getnnz() / (UCM_age.shape[0]*UCM_age.shape[1])*100:.2f}%')"
   ]
  },
  {
   "cell_type": "markdown",
   "metadata": {},
   "source": [
    "# SciKit TF-IDF"
   ]
  },
  {
   "cell_type": "code",
   "execution_count": 53,
   "metadata": {},
   "outputs": [
    {
     "data": {
      "text/plain": [
       "array([0.61168134, 0.61168134, 0.50168903, 0.54477398, 0.54477398,\n",
       "       0.63752852, 0.5993879 , 0.5993879 , 0.53053586, 0.5458132 ])"
      ]
     },
     "execution_count": 53,
     "metadata": {},
     "output_type": "execute_result"
    }
   ],
   "source": [
    "from sklearn import feature_extraction\n",
    "from Utils.Toolkit import get_URM_BM_25, normalize_matrix\n",
    "\n",
    "ICM = data['ICM']\n",
    "ICM_tfidf = feature_extraction.text.TfidfTransformer().fit_transform(ICM)\n",
    "ICM_tfidf.data[0:10]"
   ]
  },
  {
   "cell_type": "code",
   "execution_count": 54,
   "metadata": {},
   "outputs": [
    {
     "data": {
      "text/plain": [
       "array([1., 1., 1., 1., 1., 1., 1., 1., 1., 1.])"
      ]
     },
     "execution_count": 54,
     "metadata": {},
     "output_type": "execute_result"
    }
   ],
   "source": [
    "ICM = ICM.tocsr()\n",
    "ICM.data[0:10]"
   ]
  },
  {
   "cell_type": "code",
   "execution_count": 55,
   "metadata": {},
   "outputs": [
    {
     "data": {
      "text/plain": [
       "array([5.08871953, 6.423632  , 6.423632  , 5.83588434, 4.84132777,\n",
       "       4.84132777, 4.95739224, 5.73053082, 5.73053082, 5.22978876])"
      ]
     },
     "execution_count": 55,
     "metadata": {},
     "output_type": "execute_result"
    }
   ],
   "source": [
    "ICM_BM_25 = get_URM_BM_25(ICM)\n",
    "ICM_BM_25.data[0:10]"
   ]
  },
  {
   "cell_type": "code",
   "execution_count": 58,
   "metadata": {},
   "outputs": [
    {
     "data": {
      "text/plain": [
       "array([0.09128153, 0.19618289, 0.19618289, 0.13887678, 0.08003869,\n",
       "       0.08003869, 0.07666358, 0.13013662, 0.13013662, 0.10510623])"
      ]
     },
     "execution_count": 58,
     "metadata": {},
     "output_type": "execute_result"
    }
   ],
   "source": [
    "ICM_norm = normalize_matrix(ICM_tfidf)\n",
    "ICM_norm.data[0:10]"
   ]
  },
  {
   "cell_type": "code",
   "execution_count": null,
   "metadata": {},
   "outputs": [],
   "source": []
  },
  {
   "cell_type": "code",
   "execution_count": null,
   "metadata": {},
   "outputs": [],
   "source": []
  },
  {
   "cell_type": "code",
   "execution_count": null,
   "metadata": {},
   "outputs": [],
   "source": []
  },
  {
   "cell_type": "code",
   "execution_count": null,
   "metadata": {},
   "outputs": [],
   "source": []
  },
  {
   "cell_type": "code",
   "execution_count": null,
   "metadata": {},
   "outputs": [],
   "source": []
  },
  {
   "cell_type": "code",
   "execution_count": null,
   "metadata": {},
   "outputs": [],
   "source": []
  },
  {
   "cell_type": "code",
   "execution_count": null,
   "metadata": {},
   "outputs": [],
   "source": []
  },
  {
   "cell_type": "code",
   "execution_count": null,
   "metadata": {},
   "outputs": [],
   "source": []
  },
  {
   "cell_type": "code",
   "execution_count": null,
   "metadata": {},
   "outputs": [],
   "source": []
  },
  {
   "cell_type": "code",
   "execution_count": null,
   "metadata": {},
   "outputs": [],
   "source": []
  },
  {
   "cell_type": "code",
   "execution_count": null,
   "metadata": {},
   "outputs": [],
   "source": []
  },
  {
   "cell_type": "code",
   "execution_count": null,
   "metadata": {},
   "outputs": [],
   "source": []
  }
 ],
 "metadata": {
  "kernelspec": {
   "display_name": "Python 3",
   "language": "python",
   "name": "python3"
  },
  "language_info": {
   "codemirror_mode": {
    "name": "ipython",
    "version": 3
   },
   "file_extension": ".py",
   "mimetype": "text/x-python",
   "name": "python",
   "nbconvert_exporter": "python",
   "pygments_lexer": "ipython3",
   "version": "3.7.4"
  }
 },
 "nbformat": 4,
 "nbformat_minor": 2
}
