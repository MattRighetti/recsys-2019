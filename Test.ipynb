{
 "cells": [
  {
   "cell_type": "code",
   "execution_count": 13,
   "metadata": {},
   "outputs": [
    {
     "data": {
      "text/html": [
       "<div>\n",
       "<style scoped>\n",
       "    .dataframe tbody tr th:only-of-type {\n",
       "        vertical-align: middle;\n",
       "    }\n",
       "\n",
       "    .dataframe tbody tr th {\n",
       "        vertical-align: top;\n",
       "    }\n",
       "\n",
       "    .dataframe thead th {\n",
       "        text-align: right;\n",
       "    }\n",
       "</style>\n",
       "<table border=\"1\" class=\"dataframe\">\n",
       "  <thead>\n",
       "    <tr style=\"text-align: right;\">\n",
       "      <th></th>\n",
       "      <th>row</th>\n",
       "      <th>col</th>\n",
       "      <th>data</th>\n",
       "    </tr>\n",
       "  </thead>\n",
       "  <tbody>\n",
       "    <tr>\n",
       "      <td>0</td>\n",
       "      <td>0</td>\n",
       "      <td>3568</td>\n",
       "      <td>1.0</td>\n",
       "    </tr>\n",
       "    <tr>\n",
       "      <td>1</td>\n",
       "      <td>0</td>\n",
       "      <td>3827</td>\n",
       "      <td>1.0</td>\n",
       "    </tr>\n",
       "    <tr>\n",
       "      <td>2</td>\n",
       "      <td>0</td>\n",
       "      <td>4844</td>\n",
       "      <td>1.0</td>\n",
       "    </tr>\n",
       "    <tr>\n",
       "      <td>3</td>\n",
       "      <td>0</td>\n",
       "      <td>5734</td>\n",
       "      <td>1.0</td>\n",
       "    </tr>\n",
       "    <tr>\n",
       "      <td>4</td>\n",
       "      <td>0</td>\n",
       "      <td>6518</td>\n",
       "      <td>1.0</td>\n",
       "    </tr>\n",
       "    <tr>\n",
       "      <td>...</td>\n",
       "      <td>...</td>\n",
       "      <td>...</td>\n",
       "      <td>...</td>\n",
       "    </tr>\n",
       "    <tr>\n",
       "      <td>398631</td>\n",
       "      <td>30910</td>\n",
       "      <td>18176</td>\n",
       "      <td>1.0</td>\n",
       "    </tr>\n",
       "    <tr>\n",
       "      <td>398632</td>\n",
       "      <td>30910</td>\n",
       "      <td>18185</td>\n",
       "      <td>1.0</td>\n",
       "    </tr>\n",
       "    <tr>\n",
       "      <td>398633</td>\n",
       "      <td>30910</td>\n",
       "      <td>18248</td>\n",
       "      <td>1.0</td>\n",
       "    </tr>\n",
       "    <tr>\n",
       "      <td>398634</td>\n",
       "      <td>30910</td>\n",
       "      <td>18349</td>\n",
       "      <td>1.0</td>\n",
       "    </tr>\n",
       "    <tr>\n",
       "      <td>398635</td>\n",
       "      <td>30910</td>\n",
       "      <td>18360</td>\n",
       "      <td>1.0</td>\n",
       "    </tr>\n",
       "  </tbody>\n",
       "</table>\n",
       "<p>398636 rows × 3 columns</p>\n",
       "</div>"
      ],
      "text/plain": [
       "          row    col  data\n",
       "0           0   3568   1.0\n",
       "1           0   3827   1.0\n",
       "2           0   4844   1.0\n",
       "3           0   5734   1.0\n",
       "4           0   6518   1.0\n",
       "...       ...    ...   ...\n",
       "398631  30910  18176   1.0\n",
       "398632  30910  18185   1.0\n",
       "398633  30910  18248   1.0\n",
       "398634  30910  18349   1.0\n",
       "398635  30910  18360   1.0\n",
       "\n",
       "[398636 rows x 3 columns]"
      ]
     },
     "execution_count": 13,
     "metadata": {},
     "output_type": "execute_result"
    }
   ],
   "source": [
    "import pandas as pd\n",
    "import numpy as np\n",
    "import scipy.sparse as sps\n",
    "\n",
    "filePath = \"./data/data_train.csv\"\n",
    "df = pd.read_csv(filePath)\n",
    "df"
   ]
  },
  {
   "cell_type": "code",
   "execution_count": 14,
   "metadata": {},
   "outputs": [],
   "source": [
    "ratingList = list(df['data'])\n",
    "userList = list(df['row'])\n",
    "itemList = list(df['col'])"
   ]
  },
  {
   "cell_type": "code",
   "execution_count": 15,
   "metadata": {},
   "outputs": [
    {
     "data": {
      "text/plain": [
       "<30911x18495 sparse matrix of type '<class 'numpy.float64'>'\n",
       "\twith 398636 stored elements in Compressed Sparse Row format>"
      ]
     },
     "execution_count": 15,
     "metadata": {},
     "output_type": "execute_result"
    }
   ],
   "source": [
    "URM_all = sps.coo_matrix((ratingList, (userList, itemList)))\n",
    "URM_all = URM_all.tocsr()\n",
    "URM_all"
   ]
  },
  {
   "cell_type": "code",
   "execution_count": 16,
   "metadata": {},
   "outputs": [
    {
     "data": {
      "text/plain": [
       "<30911x15277 sparse matrix of type '<class 'numpy.float64'>'\n",
       "\twith 398636 stored elements in Compressed Sparse Row format>"
      ]
     },
     "execution_count": 16,
     "metadata": {},
     "output_type": "execute_result"
    }
   ],
   "source": [
    "warm_items_mask = np.ediff1d(URM_all.tocsc().indptr) > 0\n",
    "warm_items = np.arange(URM_all.shape[1])[warm_items_mask]\n",
    "\n",
    "URM_all = URM_all[:, warm_items]\n",
    "URM_all"
   ]
  },
  {
   "cell_type": "code",
   "execution_count": 17,
   "metadata": {},
   "outputs": [
    {
     "data": {
      "text/plain": [
       "<27255x15277 sparse matrix of type '<class 'numpy.float64'>'\n",
       "\twith 398636 stored elements in Compressed Sparse Row format>"
      ]
     },
     "execution_count": 17,
     "metadata": {},
     "output_type": "execute_result"
    }
   ],
   "source": [
    "warm_users_mask = np.ediff1d(URM_all.tocsr().indptr) > 0\n",
    "warm_users = np.arange(URM_all.shape[0])[warm_users_mask]\n",
    "\n",
    "URM_all = URM_all[warm_users, :]\n",
    "URM_all"
   ]
  },
  {
   "cell_type": "code",
   "execution_count": 6,
   "metadata": {},
   "outputs": [
    {
     "data": {
      "text/plain": [
       "<30911x18495 sparse matrix of type '<class 'numpy.float64'>'\n",
       "\twith 279464 stored elements in Compressed Sparse Row format>"
      ]
     },
     "execution_count": 6,
     "metadata": {},
     "output_type": "execute_result"
    }
   ],
   "source": [
    "from Algorithms.Notebooks_utils.data_splitter import train_test_holdout\n",
    "\n",
    "URM_train, URM_test = train_test_holdout(URM_all, train_perc = 0.7)\n",
    "URM_train"
   ]
  },
  {
   "cell_type": "code",
   "execution_count": 7,
   "metadata": {},
   "outputs": [
    {
     "name": "stdout",
     "output_type": "stream",
     "text": [
      "UserBasedCF created!\n",
      "Similarity column 30911 ( 100 % ), 1871.97 column/sec, elapsed time 0.28 min\n"
     ]
    },
    {
     "data": {
      "text/plain": [
       "array([ 5300,  4169,  6447, 14145,  7246, 11941,  4420, 11783,  9475,\n",
       "        3601])"
      ]
     },
     "execution_count": 7,
     "metadata": {},
     "output_type": "execute_result"
    }
   ],
   "source": [
    "from CF.user_cf import UserBasedCollaborativeFiltering\n",
    "from CF.item_cf import ItemBasedCollaborativeFiltering\n",
    "\n",
    "ub_recommender = UserBasedCollaborativeFiltering(URM_train, topK=100, shrink=20)\n",
    "ub_recommender.fit()\n",
    "\n",
    "ub_recommender.recommend(0, at=10)"
   ]
  },
  {
   "cell_type": "code",
   "execution_count": 8,
   "metadata": {
    "scrolled": true
   },
   "outputs": [
    {
     "name": "stdout",
     "output_type": "stream",
     "text": [
      "UserBasedCF created!\n",
      "Similarity column 30911 ( 100 % ), 1865.60 column/sec, elapsed time 0.28 min\n",
      "Evaluated user 0 of 30911\n",
      "Evaluated user 10000 of 30911\n",
      "Evaluated user 20000 of 30911\n",
      "Evaluated user 30000 of 30911\n",
      "Recommender performance is: Precision = 0.0119, Recall = 0.0143, MAP = 0.0111\n",
      "UserBasedCF created!\n",
      "Similarity column 30911 ( 100 % ), 1828.83 column/sec, elapsed time 0.28 min\n",
      "Evaluated user 0 of 30911\n",
      "Evaluated user 10000 of 30911\n",
      "Evaluated user 20000 of 30911\n",
      "Evaluated user 30000 of 30911\n",
      "Recommender performance is: Precision = 0.0116, Recall = 0.0110, MAP = 0.0090\n",
      "UserBasedCF created!\n",
      "Similarity column 30911 ( 100 % ), 1716.19 column/sec, elapsed time 0.30 min\n",
      "Evaluated user 0 of 30911\n",
      "Evaluated user 10000 of 30911\n",
      "Evaluated user 20000 of 30911\n",
      "Evaluated user 30000 of 30911\n",
      "Recommender performance is: Precision = 0.0112, Recall = 0.0105, MAP = 0.0087\n",
      "UserBasedCF created!\n",
      "Similarity column 30911 ( 100 % ), 1700.86 column/sec, elapsed time 0.30 min\n",
      "Evaluated user 0 of 30911\n",
      "Evaluated user 10000 of 30911\n",
      "Evaluated user 20000 of 30911\n",
      "Evaluated user 30000 of 30911\n",
      "Recommender performance is: Precision = 0.0109, Recall = 0.0104, MAP = 0.0084\n",
      "UserBasedCF created!\n",
      "Similarity column 30911 ( 100 % ), 1721.30 column/sec, elapsed time 0.30 min\n",
      "Evaluated user 0 of 30911\n",
      "Evaluated user 10000 of 30911\n",
      "Evaluated user 20000 of 30911\n",
      "Evaluated user 30000 of 30911\n",
      "Recommender performance is: Precision = 0.0107, Recall = 0.0103, MAP = 0.0083\n"
     ]
    }
   ],
   "source": [
    "from Algorithms.Notebooks_utils.evaluation_function import evaluate_algorithm\n",
    "#array = []\n",
    "\n",
    "#for user_id in range(0, URM_all.shape[0]):\n",
    "#    array.append(ub_recommender.recommend(user_id, at=10))\n",
    "\n",
    "x_tick = [3, 5, 7, 10]\n",
    "MAP_per_k = []\n",
    "\n",
    "for topK in x_tick:\n",
    "    \n",
    "    recommender = UserBasedCollaborativeFiltering(URM_train, topK=topK, shrink=20)\n",
    "    recommender.fit()\n",
    "    \n",
    "    result_dict = evaluate_algorithm(URM_test, recommender)\n",
    "    MAP_per_k.append(result_dict[\"MAP\"])"
   ]
  },
  {
   "cell_type": "code",
   "execution_count": 9,
   "metadata": {},
   "outputs": [
    {
     "name": "stdout",
     "output_type": "stream",
     "text": [
      "UserBasedCF created!\n",
      "Similarity column 30911 ( 100 % ), 1969.86 column/sec, elapsed time 0.26 min\n",
      "Evaluated user 0 of 30911\n",
      "Evaluated user 10000 of 30911\n",
      "Evaluated user 20000 of 30911\n",
      "Evaluated user 30000 of 30911\n",
      "Recommender performance is: Precision = 0.0007, Recall = 0.0007, MAP = 0.0003\n",
      "UserBasedCF created!\n",
      "Similarity column 30911 ( 100 % ), 1680.56 column/sec, elapsed time 0.31 min\n",
      "Evaluated user 0 of 30911\n",
      "Evaluated user 10000 of 30911\n",
      "Evaluated user 20000 of 30911\n",
      "Evaluated user 30000 of 30911\n",
      "Recommender performance is: Precision = 0.0080, Recall = 0.0096, MAP = 0.0069\n",
      "UserBasedCF created!\n",
      "Similarity column 30911 ( 100 % ), 1562.42 column/sec, elapsed time 0.33 min\n",
      "Evaluated user 0 of 30911\n",
      "Evaluated user 10000 of 30911\n",
      "Evaluated user 20000 of 30911\n",
      "Evaluated user 30000 of 30911\n",
      "Recommender performance is: Precision = 0.0197, Recall = 0.0245, MAP = 0.0198\n",
      "UserBasedCF created!\n",
      "Similarity column 30911 ( 100 % ), 1794.55 column/sec, elapsed time 0.29 min\n",
      "Evaluated user 0 of 30911\n",
      "Evaluated user 10000 of 30911\n",
      "Evaluated user 20000 of 30911\n",
      "Evaluated user 30000 of 30911\n",
      "Recommender performance is: Precision = 0.0272, Recall = 0.0345, MAP = 0.0275\n",
      "UserBasedCF created!\n",
      "Similarity column 30911 ( 100 % ), 1724.63 column/sec, elapsed time 0.30 min\n",
      "Evaluated user 0 of 30911\n",
      "Evaluated user 10000 of 30911\n",
      "Evaluated user 20000 of 30911\n",
      "Evaluated user 30000 of 30911\n",
      "Recommender performance is: Precision = 0.0336, Recall = 0.0430, MAP = 0.0340\n",
      "UserBasedCF created!\n",
      "Similarity column 30911 ( 100 % ), 1605.22 column/sec, elapsed time 0.32 min\n",
      "Evaluated user 0 of 30911\n",
      "Evaluated user 10000 of 30911\n",
      "Evaluated user 20000 of 30911\n",
      "Evaluated user 30000 of 30911\n",
      "Recommender performance is: Precision = 0.0390, Recall = 0.0486, MAP = 0.0387\n"
     ]
    }
   ],
   "source": [
    "x_tick = [500, 600]\n",
    "MAP_per_shrinkage = []\n",
    "\n",
    "for shrinkage in x_tick:\n",
    "    \n",
    "    recommender = UserBasedCollaborativeFiltering(URM_train, topK=10, shrink=shrinkage)\n",
    "    recommender.fit()\n",
    "    \n",
    "    result_dict = evaluate_algorithm(URM_test, recommender)\n",
    "    MAP_per_k.append(result_dict[\"MAP\"])"
   ]
  },
  {
   "cell_type": "code",
   "execution_count": 11,
   "metadata": {},
   "outputs": [
    {
     "name": "stdout",
     "output_type": "stream",
     "text": [
      "UserBasedCF created!\n",
      "Similarity column 30911 ( 100 % ), 1546.10 column/sec, elapsed time 0.33 min\n"
     ]
    }
   ],
   "source": [
    "ub_recommender = UserBasedCollaborativeFiltering(URM_train, topK=10, shrink=500)\n",
    "ub_recommender.fit()\n",
    "\n",
    "array = []\n",
    "\n",
    "for user_id in range(0, URM_all.shape[0]):\n",
    "    array.append(ub_recommender.recommend(user_id, at=10))\n",
    "\n",
    "counter = 0\n",
    "\n",
    "file = open(\"./output/file_out.csv\", \"w\")\n",
    "\n",
    "file.write(\"user_id,item_list\\n\")\n",
    "\n",
    "for user_array in array:\n",
    "    file.write(f'{counter},')\n",
    "    for i in range(0,10):\n",
    "        if i != 9:\n",
    "            file.write(f'{user_array[i]} ')\n",
    "        else:\n",
    "            file.write(f'{user_array[i]}')\n",
    "    file.write(\"\\n\")\n",
    "    counter += 1"
   ]
  },
  {
   "cell_type": "code",
   "execution_count": null,
   "metadata": {},
   "outputs": [],
   "source": []
  },
  {
   "cell_type": "code",
   "execution_count": null,
   "metadata": {},
   "outputs": [],
   "source": []
  }
 ],
 "metadata": {
  "kernelspec": {
   "display_name": "Python 3",
   "language": "python",
   "name": "python3"
  },
  "language_info": {
   "codemirror_mode": {
    "name": "ipython",
    "version": 3
   },
   "file_extension": ".py",
   "mimetype": "text/x-python",
   "name": "python",
   "nbconvert_exporter": "python",
   "pygments_lexer": "ipython3",
   "version": "3.7.4"
  }
 },
 "nbformat": 4,
 "nbformat_minor": 2
}
