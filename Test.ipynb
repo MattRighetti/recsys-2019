{
 "cells": [
  {
   "cell_type": "markdown",
   "metadata": {},
   "source": [
    "# Import data"
   ]
  },
  {
   "cell_type": "code",
   "execution_count": 22,
   "metadata": {},
   "outputs": [],
   "source": [
    "from Utils.Toolkit import TestGen, DataReader\n",
    "from Utils.Toolkit import TestSplit\n",
    "dataReader = DataReader()"
   ]
  },
  {
   "cell_type": "markdown",
   "metadata": {},
   "source": [
    "# Generate Test & Setup"
   ]
  },
  {
   "cell_type": "code",
   "execution_count": 23,
   "metadata": {},
   "outputs": [],
   "source": [
    "k_fold = TestGen(dataReader.URM_CSR(), TestSplit.K_FOLD, k=3)\n",
    "matrices = k_fold.get_k_fold_matrices()\n",
    "target_users = dataReader.targetUsersList"
   ]
  },
  {
   "cell_type": "markdown",
   "metadata": {},
   "source": [
    "# ItemCF K_Fold"
   ]
  },
  {
   "cell_type": "code",
   "execution_count": 24,
   "metadata": {},
   "outputs": [
    {
     "name": "stdout",
     "output_type": "stream",
     "text": [
      "UserCF -> MAP: 0.0428 with TopK = 10 & Shrink = 30\t\n",
      "UserCF -> MAP: 0.0427 with TopK = 10 & Shrink = 30\t\n",
      "UserCF -> MAP: 0.0426 with TopK = 10 & Shrink = 30\t\n"
     ]
    }
   ],
   "source": [
    "from CF.item_cf import ItemBasedCollaborativeFiltering\n",
    "\n",
    "for i in range(len(matrices)):\n",
    "    test_matrix = matrices[i]\n",
    "    train_matrix = None\n",
    "\n",
    "    for j in range(len(matrices)):\n",
    "            if j != i:\n",
    "                if train_matrix is not None:\n",
    "                    train_matrix += matrices[j]\n",
    "                else:\n",
    "                    train_matrix = matrices[j]\n",
    "\n",
    "    itemCF1 = ItemBasedCollaborativeFiltering(train_matrix, topK=10, shrink=30)\n",
    "    itemCF1.fit(similarity=\"tanimoto\")\n",
    "    itemCF1.evaluate_MAP_target(test_matrix, target_users)"
   ]
  },
  {
   "cell_type": "markdown",
   "metadata": {},
   "source": [
    "# UserCF K_Fold"
   ]
  },
  {
   "cell_type": "code",
   "execution_count": 25,
   "metadata": {},
   "outputs": [
    {
     "name": "stdout",
     "output_type": "stream",
     "text": [
      "UserCF -> MAP: 0.0334 with TopK = 100 & Shrink = 500\t, elapsed time 0.30 min\n",
      "UserCF -> MAP: 0.0324 with TopK = 100 & Shrink = 500\t, elapsed time 0.30 min\n",
      "UserCF -> MAP: 0.0336 with TopK = 100 & Shrink = 500\t, elapsed time 0.32 min\n"
     ]
    }
   ],
   "source": [
    "from CF.user_cf import UserBasedCollaborativeFiltering\n",
    "\n",
    "for i in range(len(matrices)):\n",
    "    test_matrix = matrices[i]\n",
    "    train_matrix = None\n",
    "\n",
    "    for j in range(len(matrices)):\n",
    "            if j != i:\n",
    "                if train_matrix is not None:\n",
    "                    train_matrix += matrices[j]\n",
    "                else:\n",
    "                    train_matrix = matrices[j]\n",
    "\n",
    "    userCF1 = UserBasedCollaborativeFiltering(train_matrix, topK=100, shrink=500)\n",
    "    userCF1.fit()\n",
    "    userCF1.evaluate_MAP_target(test_matrix, target_users)"
   ]
  },
  {
   "cell_type": "markdown",
   "metadata": {},
   "source": [
    "# Hybrid K_Fold"
   ]
  },
  {
   "cell_type": "code",
   "execution_count": 26,
   "metadata": {},
   "outputs": [
    {
     "ename": "TypeError",
     "evalue": "__init__() takes 2 positional arguments but 4 were given",
     "output_type": "error",
     "traceback": [
      "\u001b[0;31m---------------------------------------------------------------------------\u001b[0m",
      "\u001b[0;31mTypeError\u001b[0m                                 Traceback (most recent call last)",
      "\u001b[0;32m<ipython-input-26-08a351475e39>\u001b[0m in \u001b[0;36m<module>\u001b[0;34m\u001b[0m\n\u001b[1;32m     12\u001b[0m                     \u001b[0mtrain_matrix\u001b[0m \u001b[0;34m=\u001b[0m \u001b[0mmatrices\u001b[0m\u001b[0;34m[\u001b[0m\u001b[0mj\u001b[0m\u001b[0;34m]\u001b[0m\u001b[0;34m\u001b[0m\u001b[0;34m\u001b[0m\u001b[0m\n\u001b[1;32m     13\u001b[0m \u001b[0;34m\u001b[0m\u001b[0m\n\u001b[0;32m---> 14\u001b[0;31m     \u001b[0mhyb\u001b[0m \u001b[0;34m=\u001b[0m \u001b[0mHybridRecommender\u001b[0m\u001b[0;34m(\u001b[0m\u001b[0mtrain_matrix\u001b[0m\u001b[0;34m,\u001b[0m \u001b[0muserCF1\u001b[0m\u001b[0;34m,\u001b[0m \u001b[0mitemCF1\u001b[0m\u001b[0;34m)\u001b[0m\u001b[0;34m\u001b[0m\u001b[0;34m\u001b[0m\u001b[0m\n\u001b[0m\u001b[1;32m     15\u001b[0m     \u001b[0mhyb\u001b[0m\u001b[0;34m.\u001b[0m\u001b[0mfit\u001b[0m\u001b[0;34m(\u001b[0m\u001b[0;36m1\u001b[0m\u001b[0;34m,\u001b[0m \u001b[0;36m2\u001b[0m\u001b[0;34m)\u001b[0m\u001b[0;34m\u001b[0m\u001b[0;34m\u001b[0m\u001b[0m\n\u001b[1;32m     16\u001b[0m     \u001b[0mhyb\u001b[0m\u001b[0;34m.\u001b[0m\u001b[0mevaluate_MAP_target\u001b[0m\u001b[0;34m(\u001b[0m\u001b[0mtest_matrix\u001b[0m\u001b[0;34m,\u001b[0m \u001b[0mtarget_users\u001b[0m\u001b[0;34m)\u001b[0m\u001b[0;34m\u001b[0m\u001b[0;34m\u001b[0m\u001b[0m\n",
      "\u001b[0;31mTypeError\u001b[0m: __init__() takes 2 positional arguments but 4 were given"
     ]
    }
   ],
   "source": [
    "from HYB.hybrid import HybridRecommender\n",
    "\n",
    "for i in range(len(matrices)):\n",
    "    test_matrix = matrices[i]\n",
    "    train_matrix = None\n",
    "\n",
    "    for j in range(len(matrices)):\n",
    "            if j != i:\n",
    "                if train_matrix is not None:\n",
    "                    train_matrix += matrices[j]\n",
    "                else:\n",
    "                    train_matrix = matrices[j]\n",
    "\n",
    "    hyb = HybridRecommender(train_matrix, userCF1, itemCF1)\n",
    "    hyb.fit(1, 2)\n",
    "    hyb.evaluate_MAP_target(test_matrix, target_users)"
   ]
  },
  {
   "cell_type": "code",
   "execution_count": null,
   "metadata": {},
   "outputs": [],
   "source": []
  }
 ],
 "metadata": {
  "kernelspec": {
   "display_name": "Python 3",
   "language": "python",
   "name": "python3"
  },
  "language_info": {
   "codemirror_mode": {
    "name": "ipython",
    "version": 3
   },
   "file_extension": ".py",
   "mimetype": "text/x-python",
   "name": "python",
   "nbconvert_exporter": "python",
   "pygments_lexer": "ipython3",
   "version": "3.7.4"
  }
 },
 "nbformat": 4,
 "nbformat_minor": 2
}
