{
 "cells": [
  {
   "cell_type": "markdown",
   "metadata": {},
   "source": [
    "# Import data"
   ]
  },
  {
   "cell_type": "code",
   "execution_count": 1,
   "metadata": {},
   "outputs": [],
   "source": [
    "from Utils.Toolkit import TestGen, DataReader\n",
    "from Utils.Toolkit import TestSplit\n",
    "import numpy as np\n",
    "\n",
    "dataReader = DataReader()"
   ]
  },
  {
   "cell_type": "markdown",
   "metadata": {},
   "source": [
    "# Very high sparsity"
   ]
  },
  {
   "cell_type": "code",
   "execution_count": 2,
   "metadata": {},
   "outputs": [
    {
     "data": {
      "text/plain": [
       "0.0006972830778968816"
      ]
     },
     "execution_count": 2,
     "metadata": {},
     "output_type": "execute_result"
    }
   ],
   "source": [
    "URM = DataReader().URM_COO()\n",
    "sparsity = URM.getnnz() / (URM.shape[0] * URM.shape[1])\n",
    "sparsity"
   ]
  },
  {
   "cell_type": "markdown",
   "metadata": {},
   "source": [
    "# Cold users"
   ]
  },
  {
   "cell_type": "code",
   "execution_count": 3,
   "metadata": {},
   "outputs": [
    {
     "name": "stdout",
     "output_type": "stream",
     "text": [
      "Total users: 30912\n",
      "Cold users: 3656\n",
      "Percentage of cold users: 11.83%\t \n",
      "First 10 cold users: [20, 23, 24, 26, 41, 42, 46, 48, 67, 68]\n"
     ]
    }
   ],
   "source": [
    "URM = URM.tocsr()\n",
    "cold_users_list = []\n",
    "\n",
    "cold_users = 0\n",
    "for i in range(len(URM.indptr)-1):\n",
    "    if URM.indptr[i+1]-URM.indptr[i] == 0:\n",
    "        cold_users_list.append(i)\n",
    "        cold_users += 1\n",
    "\n",
    "print(f'Total users: {len(URM.indptr)}')\n",
    "print(f'Cold users: {cold_users}')\n",
    "print(f'Percentage of cold users: {cold_users/len(URM.indptr)*100:.2f}%\\t ')\n",
    "print(f'First 10 cold users: {cold_users_list[:10]}')"
   ]
  },
  {
   "cell_type": "markdown",
   "metadata": {},
   "source": [
    "# Cold items"
   ]
  },
  {
   "cell_type": "code",
   "execution_count": 4,
   "metadata": {},
   "outputs": [
    {
     "name": "stdout",
     "output_type": "stream",
     "text": [
      "Total items: 18496\n",
      "Cold items: 3218\n",
      "Percentage of cold items: 17.40%\n",
      "First 10 cold items: [1, 3, 8, 14, 15, 16, 24, 26, 27, 31]\n"
     ]
    }
   ],
   "source": [
    "URM = URM.tocsc()\n",
    "cold_items_list = []\n",
    "\n",
    "cold_users = 0\n",
    "for i in range(len(URM.indptr)-1):\n",
    "    if URM.indptr[i+1]-URM.indptr[i] == 0:\n",
    "        cold_items_list.append(i)\n",
    "        cold_users += 1\n",
    "\n",
    "print(f'Total items: {len(URM.indptr)}')\n",
    "print(f'Cold items: {cold_users}')\n",
    "print(f'Percentage of cold items: {cold_users/len(URM.indptr)*100:.2f}%')\n",
    "print(f'First 10 cold items: {cold_items_list[:10]}')"
   ]
  },
  {
   "cell_type": "markdown",
   "metadata": {},
   "source": [
    "# Cold users in our target"
   ]
  },
  {
   "cell_type": "code",
   "execution_count": 5,
   "metadata": {},
   "outputs": [
    {
     "name": "stdout",
     "output_type": "stream",
     "text": [
      "Number of cold users in target: 3656\n",
      "Percentage: 11.83%\n"
     ]
    }
   ],
   "source": [
    "numer_of_cold_target_users = np.sum(np.isin(np.arange(URM.shape[0]), cold_users_list))\n",
    "print(f'Number of cold users in target: {numer_of_cold_target_users}')\n",
    "print(f'Percentage: {numer_of_cold_target_users/URM.shape[0]*100:.2f}%')"
   ]
  },
  {
   "cell_type": "markdown",
   "metadata": {},
   "source": [
    "# See users with K interactions"
   ]
  },
  {
   "cell_type": "code",
   "execution_count": 6,
   "metadata": {},
   "outputs": [
    {
     "name": "stdout",
     "output_type": "stream",
     "text": [
      "3656 have 0 interactions\n",
      "2817 have 1 interactions\n",
      "1919 have 2 interactions\n",
      "1776 have 3 interactions\n",
      "1658 have 4 interactions\n",
      "1469 have 5 interactions\n",
      "1429 have 6 interactions\n",
      "1230 have 7 interactions\n",
      "1128 have 8 interactions\n",
      "923 have 9 interactions\n"
     ]
    }
   ],
   "source": [
    "users_rated = np.zeros((URM.shape[1],), dtype=int)\n",
    "\n",
    "URM = URM.tocsr()\n",
    "\n",
    "for i in range(len(URM.indptr)-1):\n",
    "    num_of_interaction_in_row = URM.indptr[i+1] - URM.indptr[i]\n",
    "    users_rated[num_of_interaction_in_row] += 1\n",
    "\n",
    "for i in range(10):\n",
    "    if users_rated[i] != 0:\n",
    "        print(f'{users_rated[i]} have {i} interactions')"
   ]
  },
  {
   "cell_type": "markdown",
   "metadata": {},
   "source": [
    "# Let's divide in bigger groups"
   ]
  },
  {
   "cell_type": "code",
   "execution_count": 7,
   "metadata": {},
   "outputs": [
    {
     "name": "stdout",
     "output_type": "stream",
     "text": [
      "   0 < i <   5:  11826 -> 38.26%\n",
      "   5 < i <  10:   6179 -> 19.99%\n",
      "  10 < i <  20:   6377 -> 20.63%\n",
      "  20 < i <  30:   2966 -> 9.60%\n",
      "  30 < i <  40:   1512 -> 4.89%\n",
      "  40 < i <  50:    839 -> 2.71%\n",
      "  50 < i <  60:    487 -> 1.58%\n",
      "  60 < i <  70:    262 -> 0.85%\n",
      "  70 < i <  80:    155 -> 0.50%\n",
      "  80 < i <  90:     93 -> 0.30%\n"
     ]
    }
   ],
   "source": [
    "first_groups = np.arange(0, 11, 5)\n",
    "second_groups = np.arange(20, 100, 10)\n",
    "groups = np.append(first_groups, second_groups)\n",
    "\n",
    "for i in range(len(groups) - 1):\n",
    "    print(f'{groups[i]:4} < i < {groups[i+1]:3}: {np.sum(users_rated[groups[i]:groups[i+1]]):6} -> {np.sum(users_rated[groups[i]:groups[i+1]])/URM.shape[0]*100:.2f}%')"
   ]
  },
  {
   "cell_type": "markdown",
   "metadata": {},
   "source": [
    "# Plot some items stuff"
   ]
  },
  {
   "cell_type": "code",
   "execution_count": 8,
   "metadata": {},
   "outputs": [
    {
     "data": {
      "image/png": "[encoded data removed]",
      "text/plain": [
       "<Figure size 432x288 with 1 Axes>"
      ]
     },
     "metadata": {
      "needs_background": "light"
     },
     "output_type": "display_data"
    }
   ],
   "source": [
    "%matplotlib inline\n",
    "import matplotlib.pyplot as plt\n",
    "y_axis = []\n",
    "x_axis = np.arange(URM.shape[1])\n",
    "URM = URM.tocsc()\n",
    "\n",
    "for i in range(len(URM.indptr)-1):\n",
    "    value = URM.indptr[i+1]-URM.indptr[i]\n",
    "    y_axis.append(value)\n",
    "\n",
    "plt.plot(x_axis, y_axis)\n",
    "plt.xlabel('item')\n",
    "plt.ylabel('interactions')\n",
    "plt.show()"
   ]
  },
  {
   "cell_type": "markdown",
   "metadata": {},
   "source": [
    "# ---------------------------------------------------------------------------------\n",
    "# ICMs"
   ]
  },
  {
   "cell_type": "code",
   "execution_count": 24,
   "metadata": {},
   "outputs": [
    {
     "name": "stdout",
     "output_type": "stream",
     "text": [
      "(18495, 1)\n",
      "(18495, 1)\n",
      "(18495, 2011)\n"
     ]
    }
   ],
   "source": [
    "ICM_asset = DataReader().ICM_asset_COO()\n",
    "ICM_price = DataReader().ICM_price_COO()\n",
    "ICM_subclass = DataReader().ICM_subclass_COO()\n",
    "print(ICM_asset.shape)\n",
    "print(ICM_price.shape)\n",
    "print(ICM_subclass.shape)"
   ]
  },
  {
   "cell_type": "markdown",
   "metadata": {},
   "source": [
    "# ICM asset"
   ]
  },
  {
   "cell_type": "code",
   "execution_count": 10,
   "metadata": {},
   "outputs": [
    {
     "name": "stdout",
     "output_type": "stream",
     "text": [
      "Sparsity 99.97%\n"
     ]
    }
   ],
   "source": [
    "print(f'Sparsity {ICM_asset.getnnz() / (ICM_asset.shape[0]*ICM_asset.shape[1])*100:.2f}%')"
   ]
  },
  {
   "cell_type": "markdown",
   "metadata": {},
   "source": [
    "# ICM price"
   ]
  },
  {
   "cell_type": "code",
   "execution_count": 11,
   "metadata": {},
   "outputs": [
    {
     "name": "stdout",
     "output_type": "stream",
     "text": [
      "Sparsity 99.99%\n"
     ]
    }
   ],
   "source": [
    "print(f'Sparsity {ICM_price.getnnz() / (ICM_price.shape[0]*ICM_price.shape[1])*100:.2f}%')"
   ]
  },
  {
   "cell_type": "markdown",
   "metadata": {},
   "source": [
    "# ICM subclass"
   ]
  },
  {
   "cell_type": "code",
   "execution_count": 12,
   "metadata": {},
   "outputs": [
    {
     "name": "stdout",
     "output_type": "stream",
     "text": [
      "Sparsity 0.05%\n"
     ]
    }
   ],
   "source": [
    "print(f'Sparsity {ICM_subclass.getnnz() / (ICM_subclass.shape[0]*ICM_subclass.shape[1])*100:.2f}%')"
   ]
  },
  {
   "cell_type": "markdown",
   "metadata": {},
   "source": [
    "# ---------------------------------------------------------------------------------\n",
    "# UCMs"
   ]
  },
  {
   "cell_type": "code",
   "execution_count": 25,
   "metadata": {},
   "outputs": [
    {
     "name": "stdout",
     "output_type": "stream",
     "text": [
      "(18495, 1)\n",
      "(18495, 1)\n"
     ]
    }
   ],
   "source": [
    "UCM_region = DataReader().UCM_region_COO()\n",
    "UCM_age = DataReader().UCM_age_COO()\n",
    "print(UCM_region.shape)\n",
    "print(UCM_age.shape)"
   ]
  },
  {
   "cell_type": "markdown",
   "metadata": {},
   "source": [
    "# UCM region\n",
    "#### Since sparsity is very high we can make good use of this data in a UserContentBasedRec"
   ]
  },
  {
   "cell_type": "code",
   "execution_count": 22,
   "metadata": {},
   "outputs": [
    {
     "name": "stdout",
     "output_type": "stream",
     "text": [
      "Sparsity 99.99%\n"
     ]
    }
   ],
   "source": [
    "print(f'Sparsity {UCM_region.getnnz() / (UCM_region.shape[0]*UCM_region.shape[1])*100:.2f}%')"
   ]
  },
  {
   "cell_type": "markdown",
   "metadata": {},
   "source": [
    "# UCM age\n",
    "#### Since sparsity is very high we can make good use of this data in a UserContentBasedRec"
   ]
  },
  {
   "cell_type": "code",
   "execution_count": 23,
   "metadata": {},
   "outputs": [
    {
     "name": "stdout",
     "output_type": "stream",
     "text": [
      "Sparsity 99.99%\n"
     ]
    }
   ],
   "source": [
    "print(f'Sparsity {UCM_age.getnnz() / (UCM_age.shape[0]*UCM_age.shape[1])*100:.2f}%')"
   ]
  },
  {
   "cell_type": "code",
   "execution_count": null,
   "metadata": {},
   "outputs": [],
   "source": []
  }
 ],
 "metadata": {
  "kernelspec": {
   "display_name": "Python 3",
   "language": "python",
   "name": "python3"
  },
  "language_info": {
   "codemirror_mode": {
    "name": "ipython",
    "version": 3
   },
   "file_extension": ".py",
   "mimetype": "text/x-python",
   "name": "python",
   "nbconvert_exporter": "python",
   "pygments_lexer": "ipython3",
   "version": "3.7.4"
  }
 },
 "nbformat": 4,
 "nbformat_minor": 2
}
