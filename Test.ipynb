{
 "cells": [
  {
   "cell_type": "code",
   "execution_count": 1,
   "metadata": {},
   "outputs": [
    {
     "data": {
      "text/html": [
       "<div>\n",
       "<style scoped>\n",
       "    .dataframe tbody tr th:only-of-type {\n",
       "        vertical-align: middle;\n",
       "    }\n",
       "\n",
       "    .dataframe tbody tr th {\n",
       "        vertical-align: top;\n",
       "    }\n",
       "\n",
       "    .dataframe thead th {\n",
       "        text-align: right;\n",
       "    }\n",
       "</style>\n",
       "<table border=\"1\" class=\"dataframe\">\n",
       "  <thead>\n",
       "    <tr style=\"text-align: right;\">\n",
       "      <th></th>\n",
       "      <th>user_id</th>\n",
       "      <th>item_list</th>\n",
       "    </tr>\n",
       "  </thead>\n",
       "  <tbody>\n",
       "    <tr>\n",
       "      <td>0</td>\n",
       "      <td>0</td>\n",
       "      <td>0 1 2 3 4 5 6 7 8 9</td>\n",
       "    </tr>\n",
       "    <tr>\n",
       "      <td>1</td>\n",
       "      <td>1</td>\n",
       "      <td>0 1 2 3 4 5 6 7 8 9</td>\n",
       "    </tr>\n",
       "    <tr>\n",
       "      <td>2</td>\n",
       "      <td>2</td>\n",
       "      <td>0 1 2 3 4 5 6 7 8 9</td>\n",
       "    </tr>\n",
       "    <tr>\n",
       "      <td>3</td>\n",
       "      <td>4</td>\n",
       "      <td>0 1 2 3 4 5 6 7 8 9</td>\n",
       "    </tr>\n",
       "    <tr>\n",
       "      <td>4</td>\n",
       "      <td>5</td>\n",
       "      <td>0 1 2 3 4 5 6 7 8 9</td>\n",
       "    </tr>\n",
       "    <tr>\n",
       "      <td>...</td>\n",
       "      <td>...</td>\n",
       "      <td>...</td>\n",
       "    </tr>\n",
       "    <tr>\n",
       "      <td>28101</td>\n",
       "      <td>30906</td>\n",
       "      <td>0 1 2 3 4 5 6 7 8 9</td>\n",
       "    </tr>\n",
       "    <tr>\n",
       "      <td>28102</td>\n",
       "      <td>30907</td>\n",
       "      <td>0 1 2 3 4 5 6 7 8 9</td>\n",
       "    </tr>\n",
       "    <tr>\n",
       "      <td>28103</td>\n",
       "      <td>30908</td>\n",
       "      <td>0 1 2 3 4 5 6 7 8 9</td>\n",
       "    </tr>\n",
       "    <tr>\n",
       "      <td>28104</td>\n",
       "      <td>30909</td>\n",
       "      <td>0 1 2 3 4 5 6 7 8 9</td>\n",
       "    </tr>\n",
       "    <tr>\n",
       "      <td>28105</td>\n",
       "      <td>30910</td>\n",
       "      <td>0 1 2 3 4 5 6 7 8 9</td>\n",
       "    </tr>\n",
       "  </tbody>\n",
       "</table>\n",
       "<p>28106 rows × 2 columns</p>\n",
       "</div>"
      ],
      "text/plain": [
       "       user_id            item_list\n",
       "0            0  0 1 2 3 4 5 6 7 8 9\n",
       "1            1  0 1 2 3 4 5 6 7 8 9\n",
       "2            2  0 1 2 3 4 5 6 7 8 9\n",
       "3            4  0 1 2 3 4 5 6 7 8 9\n",
       "4            5  0 1 2 3 4 5 6 7 8 9\n",
       "...        ...                  ...\n",
       "28101    30906  0 1 2 3 4 5 6 7 8 9\n",
       "28102    30907  0 1 2 3 4 5 6 7 8 9\n",
       "28103    30908  0 1 2 3 4 5 6 7 8 9\n",
       "28104    30909  0 1 2 3 4 5 6 7 8 9\n",
       "28105    30910  0 1 2 3 4 5 6 7 8 9\n",
       "\n",
       "[28106 rows x 2 columns]"
      ]
     },
     "execution_count": 1,
     "metadata": {},
     "output_type": "execute_result"
    }
   ],
   "source": [
    "import pandas as pd\n",
    "import numpy as np\n",
    "import scipy.sparse as sps\n",
    "\n",
    "filePath = \"./data/data_train.csv\"\n",
    "targetFile = \"./data/alg_sample_submission.csv\"\n",
    "df = pd.read_csv(filePath)\n",
    "target_df = pd.read_csv(targetFile)\n",
    "target_df"
   ]
  },
  {
   "cell_type": "code",
   "execution_count": 11,
   "metadata": {},
   "outputs": [
    {
     "data": {
      "text/plain": [
       "28106"
      ]
     },
     "execution_count": 11,
     "metadata": {},
     "output_type": "execute_result"
    }
   ],
   "source": [
    "ratingList = list(df['data'])\n",
    "userList = list(df['row'])\n",
    "itemList = list(df['col'])\n",
    "targetList = list(target_df['user_id'])\n",
    "len(targetList)"
   ]
  },
  {
   "cell_type": "code",
   "execution_count": 3,
   "metadata": {},
   "outputs": [
    {
     "data": {
      "text/plain": [
       "<30911x18495 sparse matrix of type '<class 'numpy.float64'>'\n",
       "\twith 398636 stored elements in Compressed Sparse Row format>"
      ]
     },
     "execution_count": 3,
     "metadata": {},
     "output_type": "execute_result"
    }
   ],
   "source": [
    "URM_all = sps.coo_matrix((ratingList, (userList, itemList)))\n",
    "URM_all = URM_all.tocsr()\n",
    "URM_all"
   ]
  },
  {
   "cell_type": "code",
   "execution_count": 4,
   "metadata": {},
   "outputs": [],
   "source": [
    "#warm_items_mask = np.ediff1d(URM_all.tocsc().indptr) > 0\n",
    "#warm_items = np.arange(URM_all.shape[1])[warm_items_mask]\n",
    "\n",
    "#URM_all = URM_all[:, warm_items]\n",
    "#URM_all"
   ]
  },
  {
   "cell_type": "code",
   "execution_count": 5,
   "metadata": {},
   "outputs": [],
   "source": [
    "#warm_users_mask = np.ediff1d(URM_all.tocsr().indptr) > 0\n",
    "#warm_users = np.arange(URM_all.shape[0])[warm_users_mask]\n",
    "\n",
    "#URM_all = URM_all[warm_users, :]\n",
    "#URM_all"
   ]
  },
  {
   "cell_type": "code",
   "execution_count": 6,
   "metadata": {},
   "outputs": [
    {
     "data": {
      "text/plain": [
       "<30911x18495 sparse matrix of type '<class 'numpy.float64'>'\n",
       "\twith 319079 stored elements in Compressed Sparse Row format>"
      ]
     },
     "execution_count": 6,
     "metadata": {},
     "output_type": "execute_result"
    }
   ],
   "source": [
    "from Algorithms.Notebooks_utils.data_splitter import train_test_holdout\n",
    "\n",
    "URM_train, URM_test = train_test_holdout(URM_all, train_perc = 0.8)\n",
    "URM_train"
   ]
  },
  {
   "cell_type": "code",
   "execution_count": 7,
   "metadata": {},
   "outputs": [
    {
     "name": "stdout",
     "output_type": "stream",
     "text": [
      "UserBasedCF created!\n",
      "Similarity column 30911 ( 100 % ), 1774.36 column/sec, elapsed time 0.29 min\n"
     ]
    },
    {
     "data": {
      "text/plain": [
       "array([ 3611,  6289,  6956,  4410,  8635,  3569,  8668, 15101, 13297,\n",
       "       16360])"
      ]
     },
     "execution_count": 7,
     "metadata": {},
     "output_type": "execute_result"
    }
   ],
   "source": [
    "from CF.user_cf import UserBasedCollaborativeFiltering\n",
    "from CF.item_cf import ItemBasedCollaborativeFiltering\n",
    "\n",
    "ub_recommender = UserBasedCollaborativeFiltering(URM_train, topK=100, shrink=20)\n",
    "ub_recommender.fit()\n",
    "\n",
    "ub_recommender.recommend(0, at=10)"
   ]
  },
  {
   "cell_type": "code",
   "execution_count": 8,
   "metadata": {
    "scrolled": false
   },
   "outputs": [
    {
     "name": "stdout",
     "output_type": "stream",
     "text": [
      "UserBasedCF created!\n",
      "Similarity column 30911 ( 100 % ), 1734.73 column/sec, elapsed time 0.30 min\n",
      "Evaluated user 0 of 30911\n",
      "Evaluated user 10000 of 30911\n",
      "Evaluated user 20000 of 30911\n",
      "Evaluated user 30000 of 30911\n",
      "Recommender performance is: Precision = 0.0091, Recall = 0.0171, MAP = 0.0114\n"
     ]
    }
   ],
   "source": [
    "from Algorithms.Notebooks_utils.evaluation_function import evaluate_algorithm\n",
    "#array = []\n",
    "\n",
    "#for user_id in range(0, URM_all.shape[0]):\n",
    "#    array.append(ub_recommender.recommend(user_id, at=10))\n",
    "\n",
    "x_tick = [5]\n",
    "MAP_per_k = []\n",
    "\n",
    "for topK in x_tick:\n",
    "    \n",
    "    recommender = UserBasedCollaborativeFiltering(URM_train, topK=topK, shrink=20)\n",
    "    recommender.fit()\n",
    "    \n",
    "    result_dict = evaluate_algorithm(URM_test, recommender)\n",
    "    MAP_per_k.append(result_dict[\"MAP\"])"
   ]
  },
  {
   "cell_type": "code",
   "execution_count": 9,
   "metadata": {},
   "outputs": [
    {
     "name": "stdout",
     "output_type": "stream",
     "text": [
      "UserBasedCF created!\n",
      "Similarity column 30911 ( 100 % ), 1491.77 column/sec, elapsed time 0.35 min\n",
      "Evaluated user 0 of 30911\n",
      "Evaluated user 10000 of 30911\n",
      "Evaluated user 20000 of 30911\n",
      "Evaluated user 30000 of 30911\n",
      "Recommender performance is: Precision = 0.0313, Recall = 0.0517, MAP = 0.0374\n"
     ]
    }
   ],
   "source": [
    "x_tick = [600]\n",
    "MAP_per_shrinkage = []\n",
    "\n",
    "for shrinkage in x_tick:\n",
    "    \n",
    "    recommender = UserBasedCollaborativeFiltering(URM_train, topK=10, shrink=shrinkage)\n",
    "    recommender.fit()\n",
    "    \n",
    "    result_dict = evaluate_algorithm(URM_test, recommender)\n",
    "    MAP_per_k.append(result_dict[\"MAP\"])"
   ]
  },
  {
   "cell_type": "code",
   "execution_count": 12,
   "metadata": {},
   "outputs": [
    {
     "name": "stdout",
     "output_type": "stream",
     "text": [
      "UserBasedCF created!\n",
      "Similarity column 30911 ( 100 % ), 1515.70 column/sec, elapsed time 0.34 min\n"
     ]
    },
    {
     "data": {
      "text/plain": [
       "28106"
      ]
     },
     "execution_count": 12,
     "metadata": {},
     "output_type": "execute_result"
    }
   ],
   "source": [
    "ub_recommender = UserBasedCollaborativeFiltering(URM_train, topK=5, shrink=500)\n",
    "ub_recommender.fit()\n",
    "\n",
    "array = []\n",
    "\n",
    "for user_id in targetList:\n",
    "    array.append(ub_recommender.recommend(user_id, at=10))\n",
    "\n",
    "len(array)"
   ]
  },
  {
   "cell_type": "code",
   "execution_count": 18,
   "metadata": {},
   "outputs": [],
   "source": [
    "counter = 0\n",
    "\n",
    "file = open(\"./output/file_out.csv\", \"w\")\n",
    "\n",
    "file.write(\"user_id,item_list\\n\")\n",
    "\n",
    "for user_id in array:\n",
    "    file.write(f'{targetList[counter]},')\n",
    "    for i in range(0,10):\n",
    "        if i != 9:\n",
    "            file.write(f'{user_id[i]} ')\n",
    "        else:\n",
    "            file.write(f'{user_id[i]}')\n",
    "    file.write(\"\\n\")\n",
    "    counter += 1"
   ]
  },
  {
   "cell_type": "code",
   "execution_count": null,
   "metadata": {},
   "outputs": [],
   "source": []
  },
  {
   "cell_type": "code",
   "execution_count": null,
   "metadata": {},
   "outputs": [],
   "source": []
  }
 ],
 "metadata": {
  "kernelspec": {
   "display_name": "Python 3",
   "language": "python",
   "name": "python3"
  },
  "language_info": {
   "codemirror_mode": {
    "name": "ipython",
    "version": 3
   },
   "file_extension": ".py",
   "mimetype": "text/x-python",
   "name": "python",
   "nbconvert_exporter": "python",
   "pygments_lexer": "ipython3",
   "version": "3.7.4"
  }
 },
 "nbformat": 4,
 "nbformat_minor": 2
}
