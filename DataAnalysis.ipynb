{
 "cells": [
  {
   "cell_type": "code",
   "execution_count": 1,
   "metadata": {},
   "outputs": [],
   "source": [
    "from Utils.Toolkit import get_data\n",
    "import numpy as np\n",
    "import scipy.sparse as sps\n",
    "import pandas as pd\n",
    "\n",
    "urm_train = get_data()['train']\n",
    "urm_test = get_data()['test']\n",
    "icm_subclass = get_data()['ICM_subclass'].tocsr()"
   ]
  },
  {
   "cell_type": "code",
   "execution_count": 2,
   "metadata": {},
   "outputs": [
    {
     "data": {
      "text/plain": [
       "<30911x18495 sparse matrix of type '<class 'numpy.float64'>'\n",
       "\twith 371381 stored elements in Compressed Sparse Row format>"
      ]
     },
     "execution_count": 2,
     "metadata": {},
     "output_type": "execute_result"
    }
   ],
   "source": [
    "urm_train"
   ]
  },
  {
   "cell_type": "code",
   "execution_count": 3,
   "metadata": {},
   "outputs": [
    {
     "data": {
      "text/plain": [
       "<30911x18495 sparse matrix of type '<class 'numpy.float64'>'\n",
       "\twith 27255 stored elements in Compressed Sparse Row format>"
      ]
     },
     "execution_count": 3,
     "metadata": {},
     "output_type": "execute_result"
    }
   ],
   "source": [
    "urm_test"
   ]
  },
  {
   "cell_type": "code",
   "execution_count": 4,
   "metadata": {},
   "outputs": [
    {
     "data": {
      "text/plain": [
       "<18495x2011 sparse matrix of type '<class 'numpy.float64'>'\n",
       "\twith 18495 stored elements in Compressed Sparse Row format>"
      ]
     },
     "execution_count": 4,
     "metadata": {},
     "output_type": "execute_result"
    }
   ],
   "source": [
    "icm_subclass"
   ]
  },
  {
   "cell_type": "code",
   "execution_count": 5,
   "metadata": {},
   "outputs": [
    {
     "data": {
      "text/plain": [
       "array([    3,    13,    20, ..., 30902, 30903, 30907])"
      ]
     },
     "execution_count": 5,
     "metadata": {},
     "output_type": "execute_result"
    }
   ],
   "source": [
    "cold_users = np.ediff1d(urm_train.indptr) < 1\n",
    "cold_users_index = np.arange(urm_train.shape[0])[cold_users]\n",
    "cold_users_index"
   ]
  },
  {
   "cell_type": "code",
   "execution_count": 6,
   "metadata": {},
   "outputs": [
    {
     "name": "stdout",
     "output_type": "stream",
     "text": [
      "Total percentage of cold users is 20.94%\n"
     ]
    }
   ],
   "source": [
    "tot_cold_users = len(cold_users_index)/urm_train.shape[0]*100\n",
    "print(\"Total percentage of cold users is {:.2f}%\".format(tot_cold_users))"
   ]
  },
  {
   "cell_type": "code",
   "execution_count": 7,
   "metadata": {},
   "outputs": [
    {
     "name": "stdout",
     "output_type": "stream",
     "text": [
      "5552\n",
      "Total percentage of cold users in target is 19.75%\n"
     ]
    }
   ],
   "source": [
    "target = get_data()['target_users']\n",
    "counter = 0\n",
    "\n",
    "for cold_index in cold_users_index:\n",
    "    if cold_index in target:\n",
    "        counter += 1\n",
    "\n",
    "print(counter)\n",
    "print(\"Total percentage of cold users in target is {:.2f}%\".format(counter/len(target)*100))"
   ]
  },
  {
   "cell_type": "code",
   "execution_count": 8,
   "metadata": {},
   "outputs": [
    {
     "data": {
      "text/plain": [
       "(array([63]),)"
      ]
     },
     "execution_count": 8,
     "metadata": {},
     "output_type": "execute_result"
    }
   ],
   "source": [
    "max_value = max(np.ediff1d(urm_train.indptr))\n",
    "user_mask = np.where(np.ediff1d(urm_train.indptr) == max_value)\n",
    "user_mask"
   ]
  },
  {
   "cell_type": "code",
   "execution_count": 9,
   "metadata": {},
   "outputs": [
    {
     "name": "stdout",
     "output_type": "stream",
     "text": [
      "Items    -> 676\n",
      "Items    -> [ 66  70 114 144 146 187 189 192 194 197]\n",
      "Features -> [  87   87 1460 1075 1075 1718 1718 1574 1574 1574]\n",
      "Occurr   -> Counter({1718: 17, 1581: 14, 985: 12, 1202: 11, 122: 10, 294: 9, 1728: 9, 1919: 8, 496: 8, 287: 8, 270: 7, 689: 7, 364: 7, 1692: 7, 721: 7, 1574: 6, 1944: 6, 1098: 6, 1650: 6, 163: 6, 1990: 6, 1786: 6, 1075: 5, 119: 5, 1268: 5, 531: 5, 138: 5, 1766: 5, 582: 5, 1395: 4, 773: 4, 513: 4, 1155: 4, 1798: 4, 779: 4, 1068: 4, 1499: 4, 1977: 4, 1803: 4, 1607: 4, 385: 3, 1179: 3, 509: 3, 258: 3, 744: 3, 70: 3, 1201: 3, 1700: 3, 314: 3, 1078: 3, 474: 3, 602: 3, 1536: 3, 1994: 3, 113: 3, 867: 3, 1895: 3, 1495: 3, 1156: 3, 1288: 3, 1150: 3, 497: 3, 1338: 3, 1847: 3, 1853: 3, 2002: 3, 404: 3, 176: 3, 788: 3, 469: 3, 87: 2, 836: 2, 1484: 2, 1938: 2, 54: 2, 290: 2, 634: 2, 326: 2, 105: 2, 1523: 2, 1214: 2, 624: 2, 1632: 2, 1436: 2, 17: 2, 194: 2, 142: 2, 1311: 2, 1843: 2, 1004: 2, 1301: 2, 1033: 2, 1054: 2, 204: 2, 1665: 2, 1924: 2, 1058: 2, 1181: 2, 1178: 2, 800: 2, 483: 2, 15: 2, 589: 2, 224: 2, 372: 2, 1461: 2, 156: 2, 341: 2, 939: 2, 1666: 2, 1052: 2, 835: 2, 1573: 2, 662: 2, 1: 2, 1297: 2, 291: 2, 462: 2, 919: 2, 1038: 2, 1808: 2, 1763: 2, 1991: 2, 492: 2, 358: 2, 1151: 2, 1582: 2, 1233: 2, 1537: 2, 310: 2, 1330: 2, 1915: 2, 28: 2, 1908: 2, 2003: 2, 362: 2, 374: 2, 611: 2, 1460: 1, 1544: 1, 588: 1, 949: 1, 1922: 1, 1514: 1, 102: 1, 227: 1, 1693: 1, 143: 1, 1801: 1, 1713: 1, 644: 1, 322: 1, 1792: 1, 546: 1, 936: 1, 598: 1, 1292: 1, 1124: 1, 1358: 1, 732: 1, 1970: 1, 924: 1, 1028: 1, 1588: 1, 1849: 1, 997: 1, 1276: 1, 999: 1, 664: 1, 165: 1, 1175: 1, 1643: 1, 1256: 1, 75: 1, 1972: 1, 78: 1, 228: 1, 822: 1, 731: 1, 587: 1, 1425: 1, 397: 1, 1759: 1, 1361: 1, 1901: 1, 656: 1, 45: 1, 1118: 1, 375: 1, 1108: 1, 1914: 1, 1636: 1, 1871: 1, 1186: 1, 1967: 1, 406: 1, 433: 1, 1506: 1, 117: 1, 256: 1, 1195: 1, 1336: 1, 1987: 1, 209: 1, 152: 1, 831: 1, 1416: 1, 765: 1, 1064: 1, 1979: 1, 1783: 1, 220: 1, 1785: 1, 960: 1, 1754: 1, 1303: 1, 856: 1, 1641: 1, 1520: 1, 1928: 1, 118: 1, 1493: 1, 1691: 1, 1791: 1, 1194: 1, 147: 1, 1770: 1, 819: 1, 1434: 1, 449: 1, 1166: 1, 1929: 1, 1724: 1, 536: 1, 391: 1, 507: 1, 515: 1, 580: 1, 1584: 1, 1200: 1, 827: 1, 1764: 1, 740: 1, 1870: 1, 1570: 1, 1396: 1, 265: 1, 858: 1, 1227: 1, 675: 1, 1006: 1, 1813: 1, 839: 1, 55: 1, 1352: 1, 1561: 1, 461: 1, 1294: 1, 1477: 1, 8: 1, 1953: 1, 183: 1, 1651: 1, 932: 1, 123: 1, 238: 1, 1796: 1, 174: 1, 1359: 1, 1039: 1, 813: 1, 1442: 1, 1184: 1, 925: 1, 1188: 1, 1367: 1, 954: 1, 140: 1, 1318: 1, 1518: 1, 566: 1, 1261: 1, 68: 1, 1772: 1, 1898: 1, 796: 1, 959: 1, 505: 1, 1733: 1, 1142: 1, 1741: 1, 257: 1, 572: 1, 1955: 1, 627: 1, 44: 1, 169: 1, 537: 1, 1435: 1, 299: 1, 809: 1, 1578: 1, 1714: 1, 34: 1, 1454: 1, 793: 1, 323: 1, 100: 1, 1077: 1, 626: 1, 1789: 1, 1531: 1, 1681: 1, 621: 1, 1029: 1, 512: 1, 135: 1, 1298: 1, 947: 1, 1841: 1, 172: 1, 837: 1, 1408: 1, 1456: 1, 1639: 1, 1080: 1})\n"
     ]
    }
   ],
   "source": [
    "import collections\n",
    "\n",
    "user_id = 63\n",
    "\n",
    "s_pos = urm_train.indptr[user_id]\n",
    "e_pos = urm_train.indptr[user_id + 1]\n",
    "\n",
    "user_profile = urm_train.indices[s_pos:e_pos]\n",
    "num_of_interactions = len(user_profile)\n",
    "\n",
    "features = []\n",
    "for item_id in user_profile:\n",
    "    s_pos_i = icm_subclass.indptr[item_id]\n",
    "    e_pos_i = icm_subclass.indptr[item_id + 1]\n",
    "    \n",
    "    feature = icm_subclass.indices[s_pos_i:e_pos_i]\n",
    "    \n",
    "    features.append(feature)\n",
    "\n",
    "features = np.squeeze(np.asarray(features))\n",
    "\n",
    "print(\"Items    -> {}\".format(num_of_interactions))\n",
    "print(\"Items    -> {}\".format(user_profile[:10]))\n",
    "print(\"Features -> {}\".format(features[:10]))\n",
    "print(\"Occurr   -> {}\".format(collections.Counter(features)))"
   ]
  },
  {
   "cell_type": "code",
   "execution_count": 17,
   "metadata": {},
   "outputs": [
    {
     "name": "stderr",
     "output_type": "stream",
     "text": [
      "Evaluating SM_user_feature_matrix: 100%|██████████| 30911/30911 [00:10<00:00, 2985.67it/s]\n"
     ]
    },
    {
     "name": "stdout",
     "output_type": "stream",
     "text": [
      "Generated UFM with shape (30911, 2011)\n"
     ]
    }
   ],
   "source": [
    "from Utils.Toolkit import generate_SM_user_feature_matrix\n",
    "\n",
    "ufm = generate_SM_user_feature_matrix(urm_train, icm_subclass)"
   ]
  },
  {
   "cell_type": "code",
   "execution_count": 18,
   "metadata": {},
   "outputs": [
    {
     "name": "stdout",
     "output_type": "stream",
     "text": [
      "Top 5 features\t [1718  513  867  509 1728 1764  117 1449 1692  163]\n",
      "With score    \t [9 6 4 4 4 4 3 3 3 3]\n"
     ]
    }
   ],
   "source": [
    "order = np.argsort(ufm[user_id].data)[::-1]\n",
    "print(\"Top 5 features\\t {}\".format(ufm[user_id].indices[order][:10]))\n",
    "print(\"With score    \\t {}\".format(ufm[user_id].data[order][:10]))"
   ]
  },
  {
   "cell_type": "code",
   "execution_count": 19,
   "metadata": {},
   "outputs": [],
   "source": [
    "urm = get_data()['URM_all'].tocsr()\n",
    "icm = get_data()['ICM_subclass'].tocsr()\n",
    "\n",
    "users = []\n",
    "features = []\n",
    "confidence = []\n",
    "\n",
    "# Per ogni user\n",
    "for user_id in range(urm.shape[0]):\n",
    "    # Prendi le features delle item con cui ha interagito e sommale\n",
    "    arr = icm[urm[user_id].indices,:].sum(axis=0)\n",
    "    # Converti in array\n",
    "    arr = np.asarray(arr, dtype=int)[0]\n",
    "    # Crea maschera dei valori diversi da 0\n",
    "    conf = arr[arr != 0]\n",
    "    # \n",
    "    feat = np.arange(icm.shape[1])[arr != 0]\n",
    "    user = np.zeros(len(conf), dtype=int) + user_id\n",
    "    \n",
    "    users.extend(user)\n",
    "    features.extend(feat)\n",
    "    confidence.extend(conf)"
   ]
  },
  {
   "cell_type": "code",
   "execution_count": 20,
   "metadata": {},
   "outputs": [
    {
     "data": {
      "text/html": [
       "<div>\n",
       "<style scoped>\n",
       "    .dataframe tbody tr th:only-of-type {\n",
       "        vertical-align: middle;\n",
       "    }\n",
       "\n",
       "    .dataframe tbody tr th {\n",
       "        vertical-align: top;\n",
       "    }\n",
       "\n",
       "    .dataframe thead th {\n",
       "        text-align: right;\n",
       "    }\n",
       "</style>\n",
       "<table border=\"1\" class=\"dataframe\">\n",
       "  <thead>\n",
       "    <tr style=\"text-align: right;\">\n",
       "      <th></th>\n",
       "      <th>user_id</th>\n",
       "      <th>feature_id</th>\n",
       "      <th>confidence</th>\n",
       "    </tr>\n",
       "  </thead>\n",
       "  <tbody>\n",
       "    <tr>\n",
       "      <td>0</td>\n",
       "      <td>0</td>\n",
       "      <td>509</td>\n",
       "      <td>1</td>\n",
       "    </tr>\n",
       "    <tr>\n",
       "      <td>1</td>\n",
       "      <td>0</td>\n",
       "      <td>662</td>\n",
       "      <td>1</td>\n",
       "    </tr>\n",
       "    <tr>\n",
       "      <td>2</td>\n",
       "      <td>0</td>\n",
       "      <td>1155</td>\n",
       "      <td>1</td>\n",
       "    </tr>\n",
       "    <tr>\n",
       "      <td>3</td>\n",
       "      <td>0</td>\n",
       "      <td>1453</td>\n",
       "      <td>1</td>\n",
       "    </tr>\n",
       "    <tr>\n",
       "      <td>4</td>\n",
       "      <td>0</td>\n",
       "      <td>1544</td>\n",
       "      <td>1</td>\n",
       "    </tr>\n",
       "    <tr>\n",
       "      <td>...</td>\n",
       "      <td>...</td>\n",
       "      <td>...</td>\n",
       "      <td>...</td>\n",
       "    </tr>\n",
       "    <tr>\n",
       "      <td>333164</td>\n",
       "      <td>30910</td>\n",
       "      <td>1938</td>\n",
       "      <td>2</td>\n",
       "    </tr>\n",
       "    <tr>\n",
       "      <td>333165</td>\n",
       "      <td>30910</td>\n",
       "      <td>1944</td>\n",
       "      <td>3</td>\n",
       "    </tr>\n",
       "    <tr>\n",
       "      <td>333166</td>\n",
       "      <td>30910</td>\n",
       "      <td>1987</td>\n",
       "      <td>2</td>\n",
       "    </tr>\n",
       "    <tr>\n",
       "      <td>333167</td>\n",
       "      <td>30910</td>\n",
       "      <td>1990</td>\n",
       "      <td>1</td>\n",
       "    </tr>\n",
       "    <tr>\n",
       "      <td>333168</td>\n",
       "      <td>30910</td>\n",
       "      <td>1991</td>\n",
       "      <td>1</td>\n",
       "    </tr>\n",
       "  </tbody>\n",
       "</table>\n",
       "<p>333169 rows × 3 columns</p>\n",
       "</div>"
      ],
      "text/plain": [
       "        user_id  feature_id  confidence\n",
       "0             0         509           1\n",
       "1             0         662           1\n",
       "2             0        1155           1\n",
       "3             0        1453           1\n",
       "4             0        1544           1\n",
       "...         ...         ...         ...\n",
       "333164    30910        1938           2\n",
       "333165    30910        1944           3\n",
       "333166    30910        1987           2\n",
       "333167    30910        1990           1\n",
       "333168    30910        1991           1\n",
       "\n",
       "[333169 rows x 3 columns]"
      ]
     },
     "execution_count": 20,
     "metadata": {},
     "output_type": "execute_result"
    }
   ],
   "source": [
    "d = {\n",
    "    'user_id':users,\n",
    "    'feature_id':features,\n",
    "    'confidence':confidence\n",
    "}\n",
    "\n",
    "p = pd.DataFrame(d)\n",
    "#p.to_csv('./data/ufm_all.csv', index = None)\n",
    "p"
   ]
  },
  {
   "cell_type": "code",
   "execution_count": 21,
   "metadata": {},
   "outputs": [
    {
     "name": "stderr",
     "output_type": "stream",
     "text": [
      "100%|██████████| 30911/30911 [01:04<00:00, 478.96it/s]"
     ]
    },
    {
     "name": "stdout",
     "output_type": "stream",
     "text": [
      "398636 398636 398636\n"
     ]
    },
    {
     "name": "stderr",
     "output_type": "stream",
     "text": [
      "\n"
     ]
    }
   ],
   "source": [
    "ufm_all = sps.csr_matrix((confidence,(users, features)))\n",
    "\n",
    "from tqdm import tqdm\n",
    "\n",
    "user = []\n",
    "conf = []\n",
    "items = []\n",
    "features = []\n",
    "\n",
    "urm = urm.tocsr()\n",
    "\n",
    "for user_id in tqdm(range(ufm_all.shape[0])):\n",
    "    for item_index in urm[user_id].indices:\n",
    "        item_feature = icm[item_index].indices[0]\n",
    "        confidence = ufm_all[user_id, item_feature]\n",
    "        \n",
    "        user.append(user_id)\n",
    "        conf.append(confidence)\n",
    "        items.append(item_index)"
   ]
  },
  {
   "cell_type": "code",
   "execution_count": 22,
   "metadata": {},
   "outputs": [
    {
     "data": {
      "text/html": [
       "<div>\n",
       "<style scoped>\n",
       "    .dataframe tbody tr th:only-of-type {\n",
       "        vertical-align: middle;\n",
       "    }\n",
       "\n",
       "    .dataframe tbody tr th {\n",
       "        vertical-align: top;\n",
       "    }\n",
       "\n",
       "    .dataframe thead th {\n",
       "        text-align: right;\n",
       "    }\n",
       "</style>\n",
       "<table border=\"1\" class=\"dataframe\">\n",
       "  <thead>\n",
       "    <tr style=\"text-align: right;\">\n",
       "      <th></th>\n",
       "      <th>user_id</th>\n",
       "      <th>feature_id</th>\n",
       "      <th>confidence</th>\n",
       "    </tr>\n",
       "  </thead>\n",
       "  <tbody>\n",
       "    <tr>\n",
       "      <td>0</td>\n",
       "      <td>0</td>\n",
       "      <td>3568</td>\n",
       "      <td>1</td>\n",
       "    </tr>\n",
       "    <tr>\n",
       "      <td>1</td>\n",
       "      <td>0</td>\n",
       "      <td>3827</td>\n",
       "      <td>1</td>\n",
       "    </tr>\n",
       "    <tr>\n",
       "      <td>2</td>\n",
       "      <td>0</td>\n",
       "      <td>4844</td>\n",
       "      <td>1</td>\n",
       "    </tr>\n",
       "    <tr>\n",
       "      <td>3</td>\n",
       "      <td>0</td>\n",
       "      <td>5734</td>\n",
       "      <td>1</td>\n",
       "    </tr>\n",
       "    <tr>\n",
       "      <td>4</td>\n",
       "      <td>0</td>\n",
       "      <td>6518</td>\n",
       "      <td>1</td>\n",
       "    </tr>\n",
       "    <tr>\n",
       "      <td>...</td>\n",
       "      <td>...</td>\n",
       "      <td>...</td>\n",
       "      <td>...</td>\n",
       "    </tr>\n",
       "    <tr>\n",
       "      <td>398631</td>\n",
       "      <td>30910</td>\n",
       "      <td>18176</td>\n",
       "      <td>9</td>\n",
       "    </tr>\n",
       "    <tr>\n",
       "      <td>398632</td>\n",
       "      <td>30910</td>\n",
       "      <td>18185</td>\n",
       "      <td>3</td>\n",
       "    </tr>\n",
       "    <tr>\n",
       "      <td>398633</td>\n",
       "      <td>30910</td>\n",
       "      <td>18248</td>\n",
       "      <td>1</td>\n",
       "    </tr>\n",
       "    <tr>\n",
       "      <td>398634</td>\n",
       "      <td>30910</td>\n",
       "      <td>18349</td>\n",
       "      <td>3</td>\n",
       "    </tr>\n",
       "    <tr>\n",
       "      <td>398635</td>\n",
       "      <td>30910</td>\n",
       "      <td>18360</td>\n",
       "      <td>2</td>\n",
       "    </tr>\n",
       "  </tbody>\n",
       "</table>\n",
       "<p>398636 rows × 3 columns</p>\n",
       "</div>"
      ],
      "text/plain": [
       "        user_id  feature_id  confidence\n",
       "0             0        3568           1\n",
       "1             0        3827           1\n",
       "2             0        4844           1\n",
       "3             0        5734           1\n",
       "4             0        6518           1\n",
       "...         ...         ...         ...\n",
       "398631    30910       18176           9\n",
       "398632    30910       18185           3\n",
       "398633    30910       18248           1\n",
       "398634    30910       18349           3\n",
       "398635    30910       18360           2\n",
       "\n",
       "[398636 rows x 3 columns]"
      ]
     },
     "execution_count": 22,
     "metadata": {},
     "output_type": "execute_result"
    }
   ],
   "source": [
    "data = {\n",
    "    'user_id' : user,\n",
    "    'feature_id' : items,\n",
    "    'confidence' : conf\n",
    "}\n",
    "\n",
    "df = pd.DataFrame(data)\n",
    "df"
   ]
  },
  {
   "cell_type": "code",
   "execution_count": null,
   "metadata": {},
   "outputs": [],
   "source": [
    "#df.to_csv('./data/urm_ufm_mapped.csv', index=None)"
   ]
  },
  {
   "cell_type": "code",
   "execution_count": 23,
   "metadata": {},
   "outputs": [
    {
     "data": {
      "text/plain": [
       "<30911x18495 sparse matrix of type '<class 'numpy.int64'>'\n",
       "\twith 398636 stored elements in Compressed Sparse Row format>"
      ]
     },
     "execution_count": 23,
     "metadata": {},
     "output_type": "execute_result"
    }
   ],
   "source": [
    "urm_ufm = sps.csr_matrix((conf, (user, items)))\n",
    "urm_ufm"
   ]
  },
  {
   "cell_type": "code",
   "execution_count": null,
   "metadata": {},
   "outputs": [],
   "source": []
  }
 ],
 "metadata": {
  "kernelspec": {
   "display_name": "Python 3",
   "language": "python",
   "name": "python3"
  },
  "language_info": {
   "codemirror_mode": {
    "name": "ipython",
    "version": 3
   },
   "file_extension": ".py",
   "mimetype": "text/x-python",
   "name": "python",
   "nbconvert_exporter": "python",
   "pygments_lexer": "ipython3",
   "version": "3.7.4"
  }
 },
 "nbformat": 4,
 "nbformat_minor": 2
}
