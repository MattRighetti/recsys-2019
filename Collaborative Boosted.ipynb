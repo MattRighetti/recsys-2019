{
 "cells": [
  {
   "cell_type": "code",
   "execution_count": 34,
   "metadata": {},
   "outputs": [],
   "source": [
    "import numpy as np\n",
    "from Utils.Toolkit import get_data, generate_SM_user_feature_matrix, get_features_ratings"
   ]
  },
  {
   "cell_type": "code",
   "execution_count": 35,
   "metadata": {},
   "outputs": [
    {
     "name": "stderr",
     "output_type": "stream",
     "text": [
      "Evaluating SM_user_feature_matrix: 100%|██████████| 30911/30911 [00:10<00:00, 3069.21it/s]\n"
     ]
    },
    {
     "name": "stdout",
     "output_type": "stream",
     "text": [
      "Generated UFM with shape (30911, 2011)\n"
     ]
    }
   ],
   "source": [
    "data = get_data()\n",
    "URM_train = data['train'].tocsr()\n",
    "ICM = data['ICM_subclass'].tocsr()\n",
    "UFM = generate_SM_user_feature_matrix(URM_train, ICM).tocsr()"
   ]
  },
  {
   "cell_type": "code",
   "execution_count": 36,
   "metadata": {},
   "outputs": [
    {
     "data": {
      "text/plain": [
       "<30911x18495 sparse matrix of type '<class 'numpy.float64'>'\n",
       "\twith 371381 stored elements in Compressed Sparse Row format>"
      ]
     },
     "execution_count": 36,
     "metadata": {},
     "output_type": "execute_result"
    }
   ],
   "source": [
    "URM_train"
   ]
  },
  {
   "cell_type": "code",
   "execution_count": 37,
   "metadata": {},
   "outputs": [
    {
     "data": {
      "text/plain": [
       "<18495x2011 sparse matrix of type '<class 'numpy.float64'>'\n",
       "\twith 18495 stored elements in Compressed Sparse Row format>"
      ]
     },
     "execution_count": 37,
     "metadata": {},
     "output_type": "execute_result"
    }
   ],
   "source": [
    "ICM"
   ]
  },
  {
   "cell_type": "code",
   "execution_count": 38,
   "metadata": {},
   "outputs": [
    {
     "name": "stdout",
     "output_type": "stream",
     "text": [
      "User = 63 -> interacted = 676\n"
     ]
    }
   ],
   "source": [
    "most_interactions = 0\n",
    "user = 0\n",
    "\n",
    "for i in range(URM_train.shape[0]):\n",
    "    start_pos = URM_train.indptr[i]\n",
    "    end_pos = URM_train.indptr[i+1]\n",
    "    \n",
    "    if len(URM_train.data[start_pos:end_pos]) > most_interactions:\n",
    "        most_interactions = len(URM_train.data[start_pos:end_pos])\n",
    "        user = i\n",
    "\n",
    "print(f'User = {user} -> interacted = {most_interactions}')"
   ]
  },
  {
   "cell_type": "code",
   "execution_count": 39,
   "metadata": {},
   "outputs": [
    {
     "data": {
      "text/plain": [
       "array([0., 2., 0., ..., 0., 0., 0.])"
      ]
     },
     "execution_count": 39,
     "metadata": {},
     "output_type": "execute_result"
    }
   ],
   "source": [
    "start_pos = URM_train.indptr[user]\n",
    "end_pos = URM_train.indptr[user+1]\n",
    "mask = URM_train.indices[start_pos:end_pos]\n",
    "user_profile = np.squeeze(np.asarray(ICM[mask,:].sum(axis=0)))\n",
    "user_profile"
   ]
  },
  {
   "cell_type": "code",
   "execution_count": 40,
   "metadata": {},
   "outputs": [
    {
     "data": {
      "text/plain": [
       "array([0., 2., 0., ..., 0., 0., 0.])"
      ]
     },
     "execution_count": 40,
     "metadata": {},
     "output_type": "execute_result"
    }
   ],
   "source": [
    "values = user_profile > 0\n",
    "user_profile"
   ]
  },
  {
   "cell_type": "code",
   "execution_count": 41,
   "metadata": {},
   "outputs": [
    {
     "data": {
      "text/plain": [
       "array([[0, 2, 0, 0, 0],\n",
       "       [0, 0, 0, 0, 0],\n",
       "       [0, 0, 0, 0, 0],\n",
       "       [0, 0, 0, 0, 0],\n",
       "       [0, 0, 0, 0, 0]])"
      ]
     },
     "execution_count": 41,
     "metadata": {},
     "output_type": "execute_result"
    }
   ],
   "source": [
    "SM_user_feature_matrix = np.zeros((5, 5), dtype=int)\n",
    "SM_user_feature_matrix[0] = user_profile[:5]\n",
    "SM_user_feature_matrix"
   ]
  },
  {
   "cell_type": "code",
   "execution_count": 42,
   "metadata": {},
   "outputs": [
    {
     "data": {
      "text/plain": [
       "array([0, 1, 2, 3, 4, 5, 6, 7, 8, 9, 0, 1, 2, 3, 4, 5, 6, 7, 8, 9])"
      ]
     },
     "execution_count": 42,
     "metadata": {},
     "output_type": "execute_result"
    }
   ],
   "source": [
    "rows = []\n",
    "rows.append(np.arange(10))\n",
    "rows.append(np.arange(10))\n",
    "np.asarray(rows).ravel()"
   ]
  },
  {
   "cell_type": "code",
   "execution_count": 43,
   "metadata": {
    "scrolled": false
   },
   "outputs": [
    {
     "data": {
      "text/plain": [
       "array([ 2,  1,  2,  2,  2,  1,  1,  1,  2,  1,  1,  3,  1,  1,  2,  1,  1,\n",
       "        2,  2,  1,  1,  5, 10,  1,  1,  5,  1,  2,  1,  1,  1,  2,  6,  1,\n",
       "        1,  1,  1,  3,  1,  2,  2,  1,  1,  2,  1,  1,  1,  1,  1,  3,  1,\n",
       "        7,  8,  2,  2,  9,  1,  2,  3,  1,  1,  2,  2,  2,  2,  7,  2,  2,\n",
       "        1,  3,  1,  1,  3,  1,  1,  1,  1,  2,  3,  3,  2,  2,  8,  3,  1,\n",
       "        1,  3,  1,  4,  1,  5,  1,  1,  1,  1,  1,  1,  5,  1,  1,  2,  1,\n",
       "        3,  2,  1,  2,  1,  1,  2,  1,  1,  2,  1,  1,  7,  7,  1,  1,  1,\n",
       "        3,  1,  4,  4,  3,  1,  1,  2,  1,  1,  1,  1,  1,  1,  3,  2,  1,\n",
       "        1,  1,  1,  3,  2,  1,  1,  1,  1,  2,  1,  1,  1,  1,  1, 12,  1,\n",
       "        1,  2,  1,  1,  1,  2,  2,  1,  2,  2,  2,  1,  4,  5,  1,  3,  1,\n",
       "        6,  1,  1,  1,  1,  3,  2,  4,  3,  1,  1,  2,  3,  2,  1,  1,  1,\n",
       "        1,  1,  1,  3, 11,  2,  1,  2,  1,  1,  5,  1,  3,  1,  1,  2,  1,\n",
       "        2,  1,  2,  1,  2,  1,  3,  1,  1,  1,  1,  1,  4,  1,  1,  1,  1,\n",
       "        1,  1,  2,  1,  1,  1,  1,  2,  1,  2,  1,  3,  4,  1,  1,  1,  1,\n",
       "        2,  1,  3,  2,  1,  1,  1,  2,  6,  1, 14,  2,  1,  1,  4,  2,  1,\n",
       "        1,  1,  1,  6,  1,  2,  2,  1,  1,  7,  1,  3,  1,  1, 17,  1,  9,\n",
       "        1,  1,  1,  1,  2,  1,  5,  1,  1,  1,  1,  6,  1,  1,  1,  1,  4,\n",
       "        1,  4,  2,  1,  1,  2,  3,  1,  3,  1,  1,  3,  1,  1,  2,  1,  2,\n",
       "        8,  1,  2,  1,  1,  2,  6,  1,  1,  1,  1,  1,  4,  1,  1,  6,  2,\n",
       "        3,  3,  2])"
      ]
     },
     "execution_count": 43,
     "metadata": {},
     "output_type": "execute_result"
    }
   ],
   "source": [
    "start_pos = UFM.indptr[63]\n",
    "end_pos = UFM.indptr[63+1]\n",
    "non_zero = UFM.data[start_pos:end_pos] > 0\n",
    "UFM[63].toarray().ravel()[non_zero]"
   ]
  },
  {
   "cell_type": "code",
   "execution_count": 44,
   "metadata": {},
   "outputs": [
    {
     "data": {
      "text/plain": [
       "array([17, 14, 12, ...,  0,  0,  0])"
      ]
     },
     "execution_count": 44,
     "metadata": {},
     "output_type": "execute_result"
    }
   ],
   "source": [
    "recommended_features_indexes = np.flip(np.argsort(UFM[63].toarray().ravel()), 0)\n",
    "ordered_features = UFM[63].toarray().ravel()[recommended_features_indexes]\n",
    "ordered_features"
   ]
  },
  {
   "cell_type": "code",
   "execution_count": 45,
   "metadata": {},
   "outputs": [
    {
     "data": {
      "text/plain": [
       "array([1, 1, 1, ..., 0, 0, 0])"
      ]
     },
     "execution_count": 45,
     "metadata": {},
     "output_type": "execute_result"
    }
   ],
   "source": [
    "ordered_features_mul = np.where(ordered_features > 0, 1, ordered_features)\n",
    "ordered_features_mul"
   ]
  },
  {
   "cell_type": "code",
   "execution_count": 46,
   "metadata": {},
   "outputs": [
    {
     "data": {
      "text/plain": [
       "array([1718., 1581.,  985., ...,    0.,    0.,    0.])"
      ]
     },
     "execution_count": 46,
     "metadata": {},
     "output_type": "execute_result"
    }
   ],
   "source": [
    "recommended_features = np.zeros(UFM.shape[1])\n",
    "recommended_features = recommended_features + recommended_features_indexes\n",
    "recommended_features *= ordered_features_mul\n",
    "recommended_features"
   ]
  },
  {
   "cell_type": "code",
   "execution_count": 47,
   "metadata": {},
   "outputs": [
    {
     "data": {
      "text/plain": [
       "17"
      ]
     },
     "execution_count": 47,
     "metadata": {},
     "output_type": "execute_result"
    }
   ],
   "source": [
    "max(UFM[63].data)"
   ]
  },
  {
   "cell_type": "code",
   "execution_count": 49,
   "metadata": {},
   "outputs": [
    {
     "name": "stderr",
     "output_type": "stream",
     "text": [
      "Evaluating SM_user_feature_matrix: 100%|██████████| 30911/30911 [00:09<00:00, 3256.05it/s]\n"
     ]
    },
    {
     "name": "stdout",
     "output_type": "stream",
     "text": [
      "Generated UFM with shape (30911, 2011)\n"
     ]
    },
    {
     "data": {
      "text/plain": [
       "<30911x10 sparse matrix of type '<class 'numpy.int64'>'\n",
       "\twith 168721 stored elements in Compressed Sparse Row format>"
      ]
     },
     "execution_count": 49,
     "metadata": {},
     "output_type": "execute_result"
    }
   ],
   "source": [
    "RM_features, RM_ratings = get_features_ratings(URM_train, ICM, at=10)\n",
    "RM_features"
   ]
  },
  {
   "cell_type": "code",
   "execution_count": 57,
   "metadata": {},
   "outputs": [
    {
     "data": {
      "text/plain": [
       "array([1581,  815,  766,  721,  839, 1645])"
      ]
     },
     "execution_count": 57,
     "metadata": {},
     "output_type": "execute_result"
    }
   ],
   "source": [
    "RM_features[4].data"
   ]
  },
  {
   "cell_type": "code",
   "execution_count": 58,
   "metadata": {},
   "outputs": [
    {
     "data": {
      "text/plain": [
       "array([2, 1, 1, 1, 1, 1])"
      ]
     },
     "execution_count": 58,
     "metadata": {},
     "output_type": "execute_result"
    }
   ],
   "source": [
    "RM_ratings[4].data"
   ]
  },
  {
   "cell_type": "code",
   "execution_count": 59,
   "metadata": {},
   "outputs": [
    {
     "data": {
      "text/plain": [
       "array([-1,  0,  0,  0,  0])"
      ]
     },
     "execution_count": 59,
     "metadata": {},
     "output_type": "execute_result"
    }
   ],
   "source": [
    "np.ediff1d(RM_ratings[4].data)"
   ]
  },
  {
   "cell_type": "code",
   "execution_count": 60,
   "metadata": {},
   "outputs": [
    {
     "data": {
      "text/plain": [
       "array([1, 2, 2, 2, 2, 2])"
      ]
     },
     "execution_count": 60,
     "metadata": {},
     "output_type": "execute_result"
    }
   ],
   "source": [
    "rank = [1]\n",
    "for i in range(len(RM_features[4].data) - 1):\n",
    "    if np.ediff1d(RM_ratings[4].data)[i] == 0:\n",
    "        rank.append(rank[i])\n",
    "    else:\n",
    "        rank.append(rank[i] + 1)\n",
    "\n",
    "rank = np.array(rank)\n",
    "rank"
   ]
  },
  {
   "cell_type": "code",
   "execution_count": 61,
   "metadata": {},
   "outputs": [
    {
     "data": {
      "text/plain": [
       "array([ 543,  663,  666, 1172, 4657, 4658, 9695], dtype=int32)"
      ]
     },
     "execution_count": 61,
     "metadata": {},
     "output_type": "execute_result"
    }
   ],
   "source": [
    "URM_train[4].indices"
   ]
  },
  {
   "cell_type": "code",
   "execution_count": 62,
   "metadata": {},
   "outputs": [
    {
     "name": "stdout",
     "output_type": "stream",
     "text": [
      "[1. 1. 1. 1. 1. 1. 1.]\n",
      "[4. 4. 4. 4. 4. 4. 4.]\n"
     ]
    }
   ],
   "source": [
    "user = 4\n",
    "s_p = URM_train.indptr[user]\n",
    "e_p = URM_train.indptr[user+1]\n",
    "print(URM_train.data[s_p:e_p])\n",
    "URM_train.data[s_p:e_p] += 3\n",
    "print(URM_train.data[s_p:e_p])"
   ]
  },
  {
   "cell_type": "code",
   "execution_count": null,
   "metadata": {},
   "outputs": [],
   "source": []
  },
  {
   "cell_type": "code",
   "execution_count": null,
   "metadata": {},
   "outputs": [],
   "source": []
  },
  {
   "cell_type": "code",
   "execution_count": null,
   "metadata": {},
   "outputs": [],
   "source": []
  },
  {
   "cell_type": "code",
   "execution_count": null,
   "metadata": {},
   "outputs": [],
   "source": []
  },
  {
   "cell_type": "code",
   "execution_count": null,
   "metadata": {},
   "outputs": [],
   "source": []
  },
  {
   "cell_type": "code",
   "execution_count": null,
   "metadata": {},
   "outputs": [],
   "source": []
  },
  {
   "cell_type": "code",
   "execution_count": null,
   "metadata": {},
   "outputs": [],
   "source": []
  },
  {
   "cell_type": "code",
   "execution_count": null,
   "metadata": {},
   "outputs": [],
   "source": []
  },
  {
   "cell_type": "code",
   "execution_count": null,
   "metadata": {},
   "outputs": [],
   "source": []
  },
  {
   "cell_type": "code",
   "execution_count": null,
   "metadata": {},
   "outputs": [],
   "source": []
  },
  {
   "cell_type": "code",
   "execution_count": null,
   "metadata": {},
   "outputs": [],
   "source": []
  },
  {
   "cell_type": "code",
   "execution_count": null,
   "metadata": {},
   "outputs": [],
   "source": []
  }
 ],
 "metadata": {
  "kernelspec": {
   "display_name": "Python 3",
   "language": "python",
   "name": "python3"
  },
  "language_info": {
   "codemirror_mode": {
    "name": "ipython",
    "version": 3
   },
   "file_extension": ".py",
   "mimetype": "text/x-python",
   "name": "python",
   "nbconvert_exporter": "python",
   "pygments_lexer": "ipython3",
   "version": "3.7.4"
  }
 },
 "nbformat": 4,
 "nbformat_minor": 2
}
