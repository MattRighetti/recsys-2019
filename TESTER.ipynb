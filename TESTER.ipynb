{
 "cells": [
  {
   "cell_type": "code",
   "execution_count": 30,
   "metadata": {},
   "outputs": [
    {
     "data": {
      "text/plain": [
       "matrix([[1., 1., 0., 0., 1., 1., 0., 0., 0., 0.],\n",
       "        [1., 0., 1., 1., 0., 1., 0., 0., 1., 0.],\n",
       "        [1., 1., 0., 1., 1., 1., 0., 0., 0., 0.],\n",
       "        [0., 0., 1., 0., 1., 1., 1., 1., 1., 0.],\n",
       "        [0., 1., 0., 0., 1., 1., 1., 1., 1., 1.],\n",
       "        [1., 0., 0., 1., 1., 0., 1., 0., 1., 0.],\n",
       "        [0., 1., 0., 1., 0., 1., 1., 0., 0., 0.],\n",
       "        [1., 1., 0., 0., 0., 0., 0., 0., 0., 1.],\n",
       "        [1., 1., 0., 0., 0., 0., 0., 1., 1., 0.],\n",
       "        [1., 0., 1., 1., 1., 1., 0., 1., 1., 0.]])"
      ]
     },
     "execution_count": 30,
     "metadata": {},
     "output_type": "execute_result"
    }
   ],
   "source": [
    "import numpy as np\n",
    "import scipy.sparse as sps\n",
    "\n",
    "interactions = sps.rand(10, 10, density=0.5, format='csr')\n",
    "interactions.data[:] = 1\n",
    "interactions.todense()"
   ]
  },
  {
   "cell_type": "code",
   "execution_count": 33,
   "metadata": {},
   "outputs": [
    {
     "data": {
      "text/plain": [
       "matrix([[0., 1., 0., 1., 1., 0., 1., 1., 1., 1., 0., 0., 0., 0., 1.],\n",
       "        [0., 1., 1., 1., 0., 1., 0., 0., 1., 1., 0., 0., 1., 1., 1.],\n",
       "        [1., 1., 0., 1., 0., 1., 0., 1., 0., 1., 0., 0., 0., 0., 1.],\n",
       "        [1., 1., 0., 1., 1., 0., 0., 1., 1., 1., 1., 0., 1., 0., 0.],\n",
       "        [0., 0., 1., 0., 0., 0., 1., 0., 0., 1., 1., 0., 0., 0., 0.],\n",
       "        [1., 0., 0., 1., 1., 1., 1., 1., 0., 0., 1., 1., 1., 1., 0.],\n",
       "        [0., 1., 1., 0., 1., 1., 1., 1., 0., 1., 1., 1., 1., 1., 0.],\n",
       "        [0., 1., 0., 0., 0., 0., 1., 1., 1., 1., 1., 0., 0., 1., 0.],\n",
       "        [1., 0., 0., 1., 0., 0., 0., 0., 1., 0., 0., 0., 0., 0., 0.],\n",
       "        [0., 0., 0., 1., 0., 0., 1., 1., 0., 1., 1., 0., 0., 1., 1.]])"
      ]
     },
     "execution_count": 33,
     "metadata": {},
     "output_type": "execute_result"
    }
   ],
   "source": [
    "items = sps.rand(10, 15, density=0.5, format='csr')\n",
    "items.data[:] = 1\n",
    "items.todense()"
   ]
  },
  {
   "cell_type": "code",
   "execution_count": null,
   "metadata": {},
   "outputs": [],
   "source": []
  },
  {
   "cell_type": "code",
   "execution_count": 34,
   "metadata": {},
   "outputs": [
    {
     "data": {
      "text/plain": [
       "array([[0, 0, 0, 0, 0, 0, 0, 0, 0, 0, 0, 0, 0, 0, 0],\n",
       "       [0, 0, 0, 0, 0, 0, 0, 0, 0, 0, 0, 0, 0, 0, 0],\n",
       "       [0, 0, 0, 0, 0, 0, 0, 0, 0, 0, 0, 0, 0, 0, 0],\n",
       "       [0, 0, 0, 0, 0, 0, 0, 0, 0, 0, 0, 0, 0, 0, 0],\n",
       "       [0, 0, 0, 0, 0, 0, 0, 0, 0, 0, 0, 0, 0, 0, 0],\n",
       "       [0, 0, 0, 0, 0, 0, 0, 0, 0, 0, 0, 0, 0, 0, 0],\n",
       "       [0, 0, 0, 0, 0, 0, 0, 0, 0, 0, 0, 0, 0, 0, 0],\n",
       "       [0, 0, 0, 0, 0, 0, 0, 0, 0, 0, 0, 0, 0, 0, 0],\n",
       "       [0, 0, 0, 0, 0, 0, 0, 0, 0, 0, 0, 0, 0, 0, 0],\n",
       "       [0, 0, 0, 0, 0, 0, 0, 0, 0, 0, 0, 0, 0, 0, 0]])"
      ]
     },
     "execution_count": 34,
     "metadata": {},
     "output_type": "execute_result"
    }
   ],
   "source": [
    "SM = np.zeros((interactions.shape[0], items.shape[1]), dtype=int)\n",
    "SM"
   ]
  },
  {
   "cell_type": "code",
   "execution_count": 35,
   "metadata": {},
   "outputs": [
    {
     "data": {
      "text/plain": [
       "array([[1, 2, 2, 3, 2, 2, 3, 2, 2, 3, 2, 1, 2, 2, 2],\n",
       "       [4, 3, 0, 5, 3, 2, 2, 4, 3, 3, 2, 1, 2, 1, 2],\n",
       "       [2, 3, 2, 4, 3, 2, 3, 3, 3, 4, 3, 1, 3, 2, 2],\n",
       "       [3, 3, 2, 3, 2, 3, 4, 4, 2, 4, 4, 2, 2, 3, 1],\n",
       "       [2, 3, 3, 4, 2, 3, 5, 4, 3, 5, 5, 2, 3, 5, 2],\n",
       "       [2, 3, 2, 3, 3, 1, 3, 3, 3, 4, 3, 1, 2, 1, 1],\n",
       "       [2, 3, 2, 3, 3, 3, 2, 3, 2, 3, 3, 2, 4, 3, 1],\n",
       "       [0, 2, 1, 3, 1, 1, 2, 2, 2, 3, 1, 0, 1, 2, 3],\n",
       "       [1, 3, 1, 3, 1, 1, 2, 2, 4, 3, 1, 0, 1, 2, 2],\n",
       "       [4, 4, 1, 5, 3, 2, 4, 5, 4, 5, 4, 1, 2, 2, 2]])"
      ]
     },
     "execution_count": 35,
     "metadata": {},
     "output_type": "execute_result"
    }
   ],
   "source": [
    "for user_id in range(interactions.shape[0]):\n",
    "    u_start_pos = interactions.indptr[user_id]\n",
    "    u_end_pos = interactions.indptr[user_id + 1]\n",
    "\n",
    "    mask = interactions.indices[u_start_pos:u_end_pos]\n",
    "    zero_mask = np.zeros(items.shape[1], dtype=int)\n",
    "\n",
    "    if len(mask) > 0:\n",
    "        features_matrix = items[mask,:].sum(axis=0)\n",
    "        user_features = np.squeeze(np.asarray(features_matrix))\n",
    "    else:\n",
    "        user_features = zero_mask.copy()\n",
    "\n",
    "    SM[user_id] = user_features\n",
    "\n",
    "SM"
   ]
  },
  {
   "cell_type": "code",
   "execution_count": 40,
   "metadata": {},
   "outputs": [
    {
     "data": {
      "text/plain": [
       "matrix([[0., 1., 0., 1., 1., 0., 1., 1., 1., 1., 0., 0., 0., 0., 1.],\n",
       "        [1., 1., 0., 1., 1., 0., 0., 1., 1., 1., 1., 0., 1., 0., 0.],\n",
       "        [1., 0., 0., 1., 0., 0., 0., 0., 1., 0., 0., 0., 0., 0., 0.]])"
      ]
     },
     "execution_count": 40,
     "metadata": {},
     "output_type": "execute_result"
    }
   ],
   "source": [
    "items[[0,3,8],:].todense()"
   ]
  },
  {
   "cell_type": "code",
   "execution_count": 43,
   "metadata": {},
   "outputs": [
    {
     "data": {
      "text/plain": [
       "array([2., 2., 0., 3., 2., 0., 1., 2., 3., 2., 1., 0., 1., 0., 1.])"
      ]
     },
     "execution_count": 43,
     "metadata": {},
     "output_type": "execute_result"
    }
   ],
   "source": [
    "np.squeeze(np.asarray(items[[0,3,8],:].sum(axis=0)))"
   ]
  },
  {
   "cell_type": "code",
   "execution_count": 44,
   "metadata": {},
   "outputs": [
    {
     "data": {
      "text/plain": [
       "array([32, 13, 12,  9,  0,  0,  0,  0])"
      ]
     },
     "execution_count": 44,
     "metadata": {},
     "output_type": "execute_result"
    }
   ],
   "source": [
    "arr = np.array([9, 32, 12 , 13, 0, 0, 0, 0])\n",
    "mask = np.flip(np.argsort(arr), 0)\n",
    "arr[mask]"
   ]
  },
  {
   "cell_type": "code",
   "execution_count": 48,
   "metadata": {},
   "outputs": [
    {
     "data": {
      "text/plain": [
       "array([1, 1, 1, 1, 1])"
      ]
     },
     "execution_count": 48,
     "metadata": {},
     "output_type": "execute_result"
    }
   ],
   "source": [
    "array = np.array([2, 3, 4, 5, 6])\n",
    "array = np.where(array != 0, 1, array)\n",
    "array"
   ]
  },
  {
   "cell_type": "code",
   "execution_count": 50,
   "metadata": {},
   "outputs": [
    {
     "data": {
      "text/plain": [
       "array([], dtype=int64)"
      ]
     },
     "execution_count": 50,
     "metadata": {},
     "output_type": "execute_result"
    }
   ],
   "source": [
    "array = np.array([5])\n",
    "np.ediff1d(array)"
   ]
  },
  {
   "cell_type": "code",
   "execution_count": null,
   "metadata": {},
   "outputs": [],
   "source": []
  }
 ],
 "metadata": {
  "kernelspec": {
   "display_name": "Python 3",
   "language": "python",
   "name": "python3"
  },
  "language_info": {
   "codemirror_mode": {
    "name": "ipython",
    "version": 3
   },
   "file_extension": ".py",
   "mimetype": "text/x-python",
   "name": "python",
   "nbconvert_exporter": "python",
   "pygments_lexer": "ipython3",
   "version": "3.7.4"
  }
 },
 "nbformat": 4,
 "nbformat_minor": 2
}
