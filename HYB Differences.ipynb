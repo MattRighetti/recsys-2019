{
 "cells": [
  {
   "cell_type": "code",
   "execution_count": 1,
   "metadata": {},
   "outputs": [],
   "source": [
    "from Utils.Toolkit import get_static_data\n",
    "import numpy as np\n",
    "import scipy.sparse as sps\n",
    "\n",
    "data = get_static_data(5)"
   ]
  },
  {
   "cell_type": "code",
   "execution_count": 2,
   "metadata": {},
   "outputs": [
    {
     "name": "stdout",
     "output_type": "stream",
     "text": [
      "<class 'scipy.sparse.csr.csr_matrix'>\n",
      "<class 'scipy.sparse.csr.csr_matrix'>\n",
      "<class 'scipy.sparse.csr.csr_matrix'>\n"
     ]
    }
   ],
   "source": [
    "train = data['train']\n",
    "test = data['test']\n",
    "ucm = data['UCM'].tocsr()\n",
    "\n",
    "print(type(ucm))\n",
    "print(type(test))\n",
    "print(type(train))"
   ]
  },
  {
   "cell_type": "markdown",
   "metadata": {},
   "source": [
    "# Maurizio Hyb Recommender"
   ]
  },
  {
   "cell_type": "code",
   "execution_count": 3,
   "metadata": {},
   "outputs": [
    {
     "name": "stdout",
     "output_type": "stream",
     "text": [
      "HybridRecommender: URM Detected 8392 (27.15 %) cold users.\n",
      "HybridRecommender: URM Detected 3486 (18.85 %) cold items.\n",
      "Initialising models...\r"
     ]
    }
   ],
   "source": [
    "from Algorithms.HYB.HybridRecommender import HybridRecommender\n",
    "\n",
    "hybrid = HybridRecommender(train.copy(), ucm.copy())\n",
    "hybrid.fit(weight_itemcf=1.0, weight_p3=1.0, weight_rp3=1.0, weight_als=1.0, weight_slimel=0.0)"
   ]
  },
  {
   "cell_type": "markdown",
   "metadata": {},
   "source": [
    "# My Hybrid Recommender"
   ]
  },
  {
   "cell_type": "code",
   "execution_count": null,
   "metadata": {},
   "outputs": [
    {
     "name": "stdout",
     "output_type": "stream",
     "text": [
      "Fitting ItemCF...\n",
      "Fitting UserCBF...\n"
     ]
    }
   ],
   "source": [
    "from Recommenders.HYB.hyb import HYB\n",
    "\n",
    "w = {\n",
    "    'item_cf': 1,\n",
    "    'ALS': 1,\n",
    "    'P3Alpha': 1,\n",
    "    'RP3Alpha': 1\n",
    "}\n",
    "\n",
    "userCBF_args = {\n",
    "    'topK' : 1000,\n",
    "    'shrink' : 7950\n",
    "}\n",
    "\n",
    "P3alpha_args = {\n",
    "    'topK': 66,\n",
    "    'alpha': 0.2731573847973295,\n",
    "    'normalize': True\n",
    "}\n",
    "\n",
    "itemCF_args = {\n",
    "    'topK': 12,\n",
    "    'shrink': 88,\n",
    "    'similarity': 'tversky',\n",
    "    'normalize': True,\n",
    "    'fw': 'none',\n",
    "    'tversky_alpha': 0.12331166243379268,\n",
    "    'tversky_beta': 1.9752288743799558,\n",
    "    'asymmetric_alpha': 0.0\n",
    "}\n",
    "\n",
    "my_hyb = HYB(weights=[w,w,w], itemCF_args=itemCF_args, userCBF_args=userCBF_args, P3alpha_args=P3alpha_args)\n",
    "my_hyb.fit(train.copy(), ucm.copy())"
   ]
  },
  {
   "cell_type": "code",
   "execution_count": null,
   "metadata": {},
   "outputs": [],
   "source": [
    "my_hyb.recommend(0)"
   ]
  },
  {
   "cell_type": "code",
   "execution_count": null,
   "metadata": {},
   "outputs": [],
   "source": [
    "hybrid.recommend(0, 10)"
   ]
  },
  {
   "cell_type": "markdown",
   "metadata": {},
   "source": [
    "### Results are different, why?\n",
    "Let's analyse single recommenders"
   ]
  },
  {
   "cell_type": "markdown",
   "metadata": {},
   "source": [
    "# Item CFs"
   ]
  },
  {
   "cell_type": "code",
   "execution_count": null,
   "metadata": {},
   "outputs": [],
   "source": [
    "my_hyb_item = my_hyb.itemCF\n",
    "hybrid_item = hybrid.itemCF"
   ]
  },
  {
   "cell_type": "code",
   "execution_count": null,
   "metadata": {},
   "outputs": [],
   "source": [
    "r1 = hybrid_item.recommend(0, 18494)\n",
    "r2 = my_hyb_item.recommend(0, 18494)\n",
    "\n",
    "np.array_equal(r1, r2)"
   ]
  },
  {
   "cell_type": "markdown",
   "metadata": {},
   "source": [
    "### Here we have the first differencies between single recommenders"
   ]
  },
  {
   "cell_type": "markdown",
   "metadata": {},
   "source": [
    "# P3 CFs"
   ]
  },
  {
   "cell_type": "code",
   "execution_count": null,
   "metadata": {},
   "outputs": [],
   "source": [
    "my_hyb_p3 = my_hyb.P3alpha\n",
    "hybrid_p3 = hybrid.P3"
   ]
  },
  {
   "cell_type": "code",
   "execution_count": null,
   "metadata": {},
   "outputs": [],
   "source": [
    "r2 = hybrid_p3.recommend(0, 18494)\n",
    "r1 = my_hyb_p3.recommend(0, 18494)\n",
    "\n",
    "np.array_equal(r1, r2)"
   ]
  },
  {
   "cell_type": "markdown",
   "metadata": {},
   "source": [
    "### This differs too!\n",
    "\n",
    "# RP3"
   ]
  },
  {
   "cell_type": "code",
   "execution_count": null,
   "metadata": {},
   "outputs": [],
   "source": [
    "my_hyb_rp3 = my_hyb.RP3alpha\n",
    "hybrid_rp3 = hybrid.RP3"
   ]
  },
  {
   "cell_type": "code",
   "execution_count": null,
   "metadata": {},
   "outputs": [],
   "source": [
    "r1 = hybrid_rp3.recommend(0, 10000)\n",
    "r2 = my_hyb_rp3.recommend(0, 10000)\n",
    "\n",
    "np.array_equal(r1, r2)"
   ]
  },
  {
   "cell_type": "markdown",
   "metadata": {},
   "source": [
    "### Ok this is strange, this is still different\n",
    "\n",
    "# userCBF"
   ]
  },
  {
   "cell_type": "code",
   "execution_count": null,
   "metadata": {},
   "outputs": [],
   "source": [
    "my_hyb_ucbf = my_hyb.userCBF\n",
    "hybrid_ucbf = hybrid.userCBF"
   ]
  },
  {
   "cell_type": "code",
   "execution_count": null,
   "metadata": {},
   "outputs": [],
   "source": [
    "r1 = hybrid_ucbf.recommend(0, 18494)\n",
    "r2 = my_hyb_ucbf.recommend(0, 18494)\n",
    "\n",
    "np.array_equal(r1, r2)"
   ]
  },
  {
   "cell_type": "markdown",
   "metadata": {},
   "source": [
    "### This can't be, everyone is different :/"
   ]
  },
  {
   "cell_type": "markdown",
   "metadata": {},
   "source": [
    "# HYB"
   ]
  },
  {
   "cell_type": "code",
   "execution_count": null,
   "metadata": {},
   "outputs": [],
   "source": [
    "my_hyb.recommend(0)"
   ]
  },
  {
   "cell_type": "code",
   "execution_count": null,
   "metadata": {},
   "outputs": [],
   "source": [
    "hybrid.recommend(0, 10)"
   ]
  },
  {
   "cell_type": "code",
   "execution_count": null,
   "metadata": {},
   "outputs": [],
   "source": []
  }
 ],
 "metadata": {
  "kernelspec": {
   "display_name": "Python 3",
   "language": "python",
   "name": "python3"
  },
  "language_info": {
   "codemirror_mode": {
    "name": "ipython",
    "version": 3
   },
   "file_extension": ".py",
   "mimetype": "text/x-python",
   "name": "python",
   "nbconvert_exporter": "python",
   "pygments_lexer": "ipython3",
   "version": "3.7.5"
  }
 },
 "nbformat": 4,
 "nbformat_minor": 2
}
