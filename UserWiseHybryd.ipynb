{
 "cells": [
  {
   "cell_type": "markdown",
   "metadata": {},
   "source": [
    "# Let's divide users in gropus of interactions"
   ]
  },
  {
   "cell_type": "code",
   "execution_count": 1,
   "metadata": {},
   "outputs": [],
   "source": [
    "from Utils.Toolkit import TestGen, TestSplit, DataReader, get_data\n",
    "import numpy as np\n",
    "\n",
    "data = get_data()\n",
    "URM_all = data['URM_all'].tocsr()\n",
    "target_users = data['target_users']\n",
    "\n",
    "URM_train = data['train'].tocsr()\n",
    "URM_test = data['test'].tocsr()"
   ]
  },
  {
   "cell_type": "code",
   "execution_count": 2,
   "metadata": {},
   "outputs": [
    {
     "data": {
      "text/plain": [
       "array([ 6,  5,  9,  0,  7, 35,  4,  3,  2, 13], dtype=int32)"
      ]
     },
     "execution_count": 2,
     "metadata": {},
     "output_type": "execute_result"
    }
   ],
   "source": [
    "profile_length = np.ediff1d(URM_train.indptr)\n",
    "profile_length[:10]"
   ]
  },
  {
   "cell_type": "code",
   "execution_count": 3,
   "metadata": {},
   "outputs": [
    {
     "data": {
      "text/plain": [
       "4636"
      ]
     },
     "execution_count": 3,
     "metadata": {},
     "output_type": "execute_result"
    }
   ],
   "source": [
    "block_size = int(len(profile_length)*0.15)\n",
    "block_size"
   ]
  },
  {
   "cell_type": "code",
   "execution_count": 4,
   "metadata": {},
   "outputs": [
    {
     "data": {
      "text/plain": [
       "(30911,)"
      ]
     },
     "execution_count": 4,
     "metadata": {},
     "output_type": "execute_result"
    }
   ],
   "source": [
    "sorted_users = np.argsort(profile_length)\n",
    "sorted_users.shape"
   ]
  },
  {
   "cell_type": "code",
   "execution_count": 5,
   "metadata": {},
   "outputs": [
    {
     "name": "stdout",
     "output_type": "stream",
     "text": [
      "Group 0, average p.len 0.00, min 0, max 0\n",
      "Group 1, average p.len 0.79, min 0, max 2\n",
      "Group 2, average p.len 3.39, min 2, max 5\n",
      "Group 3, average p.len 6.81, min 5, max 9\n",
      "Group 4, average p.len 12.16, min 9, max 16\n",
      "Group 5, average p.len 22.10, min 16, max 31\n",
      "Group 6, average p.len 52.21, min 31, max 676\n"
     ]
    }
   ],
   "source": [
    "for group_id in range(0, 7):\n",
    "    \n",
    "    start_pos = group_id*block_size\n",
    "    end_pos = min((group_id+1)*block_size, len(profile_length))\n",
    "    \n",
    "    users_in_group = sorted_users[start_pos:end_pos]\n",
    "    \n",
    "    users_in_group_p_len = profile_length[users_in_group]\n",
    "    \n",
    "    print(\"Group {}, average p.len {:.2f}, min {}, max {}\".format(group_id, \n",
    "        users_in_group_p_len.mean(), users_in_group_p_len.min(), users_in_group_p_len.max()))"
   ]
  },
  {
   "cell_type": "code",
   "execution_count": 6,
   "metadata": {},
   "outputs": [],
   "source": [
    "from CF.item_cf import ItemBasedCollaborativeFiltering\n",
    "from CF.user_cf import UserBasedCollaborativeFiltering\n",
    "\n",
    "itemCF = ItemBasedCollaborativeFiltering(topK=29, shrink=5)\n",
    "itemCF.fit(URM_train.copy())\n",
    "userCF = UserBasedCollaborativeFiltering(topK=102, shrink=7)\n",
    "userCF.fit(URM_train.copy())"
   ]
  },
  {
   "cell_type": "code",
   "execution_count": 7,
   "metadata": {},
   "outputs": [
    {
     "name": "stderr",
     "output_type": "stream",
     "text": [
      "100%|██████████| 28106/28106 [00:25<00:00, 1107.51it/s]\n"
     ]
    },
    {
     "name": "stdout",
     "output_type": "stream",
     "text": [
      "0.022078684169040373\n",
      "CPU times: user 16.9 s, sys: 797 ms, total: 17.7 s\n",
      "Wall time: 15.9 s\n"
     ]
    }
   ],
   "source": [
    "from SLIM.SLIM_BPR_Cython import SLIM_BPR_Cython\n",
    "from Algorithms.Base.Evaluation.Evaluator import EvaluatorHoldout\n",
    "from Algorithms.Notebooks_utils.data_splitter import train_test_holdout\n",
    "\n",
    "\n",
    "bayesian_args = {'topK': 547, 'epochs': 120, 'symmetric': True, 'sgd_mode': 'adagrad', 'lambda_i': 2.9288627980909483e-05, 'lambda_j': 0.0008452530534290479, 'learning_rate': 0.000730447099956657}\n",
    "args = bayesian_args\n",
    "\n",
    "recommender = SLIM_BPR_Cython(epochs=args['epochs'],\n",
    "                              topK=args['topK'],\n",
    "                              lambda_i=args['lambda_i'],\n",
    "                              lambda_j=args['lambda_j'],\n",
    "                              positive_threshold=1,\n",
    "                              sgd_mode=args['sgd_mode'],\n",
    "                              symmetric=args['symmetric'],\n",
    "                              learning_rate=args['learning_rate']\n",
    "                              )\n",
    "\n",
    "%time recommender.fit(URM_train.copy())"
   ]
  },
  {
   "cell_type": "code",
   "execution_count": 8,
   "metadata": {},
   "outputs": [],
   "source": [
    "from NonPersonalized.top_pop import TopPop\n",
    "\n",
    "topPop = TopPop()\n",
    "topPop.fit(URM_train.copy())"
   ]
  },
  {
   "cell_type": "code",
   "execution_count": 11,
   "metadata": {},
   "outputs": [
    {
     "name": "stdout",
     "output_type": "stream",
     "text": [
      "{'user_cf': 0, 'item_cf': 1, 'SLIM_BPR': 0, 'item_cbf': 0}\n",
      "{'topK': 102, 'shrink': 7}\n",
      "{'topK': 29, 'shrink': 5}\n",
      "{'topK': 20, 'lambda_i': 5.0, 'lambda_j': 7.0, 'epochs': 5000, 'learning_rate': 0.0001, 'sgd_mode': 'adam'}\n",
      "CPU times: user 38.4 s, sys: 686 ms, total: 39.1 s\n",
      "Wall time: 36.8 s\n"
     ]
    }
   ],
   "source": [
    "from HYB.hybrid import HybridRecommender\n",
    "from Utils.Toolkit import get_data\n",
    "\n",
    "userCF_args = {\n",
    "    'topK' : 102,\n",
    "    'shrink' : 7\n",
    "}\n",
    "\n",
    "itemCF_args = {\n",
    "    'topK' : 29,\n",
    "    'shrink' : 5\n",
    "}\n",
    "\n",
    "SLIM_BPR_args = {\n",
    "    'topK': 20,\n",
    "    'lambda_i': 5.0,\n",
    "    'lambda_j': 7.0,\n",
    "    'epochs': 5000,\n",
    "    'learning_rate' : 1e-4,\n",
    "    'sgd_mode' : 'adam'\n",
    "}\n",
    "\n",
    "weights = {\n",
    "    'user_cf' : 0,\n",
    "    'item_cf' : 1,\n",
    "    'SLIM_BPR' : 0,\n",
    "    'item_cbf' : 0\n",
    "}\n",
    "\n",
    "hyb = HybridRecommender(weights=weights, userCF_args=userCF_args, itemCF_args=itemCF_args, SLIM_BPR_args=SLIM_BPR_args)\n",
    "%time hyb.fit(URM_train.copy(), data['ICM_asset'].tocsr(), data['ICM_subclass'].tocsr())"
   ]
  },
  {
   "cell_type": "markdown",
   "metadata": {},
   "source": [
    "# Evaluate for different user groups"
   ]
  },
  {
   "cell_type": "code",
   "execution_count": 12,
   "metadata": {},
   "outputs": [
    {
     "name": "stderr",
     "output_type": "stream",
     "text": [
      "  8%|▊         | 364/4636 [00:00<00:01, 3615.27it/s]"
     ]
    },
    {
     "name": "stdout",
     "output_type": "stream",
     "text": [
      "Group 0, average p.len 0.00, min 0, max 0\n"
     ]
    },
    {
     "name": "stderr",
     "output_type": "stream",
     "text": [
      "100%|██████████| 4636/4636 [00:01<00:00, 3240.56it/s]\n",
      "100%|██████████| 4636/4636 [00:01<00:00, 3016.94it/s]\n",
      "100%|██████████| 4636/4636 [00:01<00:00, 2949.74it/s]\n",
      "100%|██████████| 4636/4636 [00:03<00:00, 1520.51it/s]\n",
      "100%|██████████| 4636/4636 [00:03<00:00, 1297.79it/s]\n",
      "  7%|▋         | 316/4636 [00:00<00:01, 3149.01it/s]"
     ]
    },
    {
     "name": "stdout",
     "output_type": "stream",
     "text": [
      "Group 1, average p.len 0.79, min 0, max 2\n"
     ]
    },
    {
     "name": "stderr",
     "output_type": "stream",
     "text": [
      "100%|██████████| 4636/4636 [00:02<00:00, 1803.98it/s]\n",
      "100%|██████████| 4636/4636 [00:02<00:00, 1799.43it/s]\n",
      "100%|██████████| 4636/4636 [00:02<00:00, 1765.44it/s]\n",
      "100%|██████████| 4636/4636 [00:05<00:00, 852.90it/s] \n",
      "100%|██████████| 4636/4636 [00:06<00:00, 726.95it/s] \n",
      "  3%|▎         | 138/4636 [00:00<00:03, 1377.18it/s]"
     ]
    },
    {
     "name": "stdout",
     "output_type": "stream",
     "text": [
      "Group 2, average p.len 3.39, min 2, max 5\n"
     ]
    },
    {
     "name": "stderr",
     "output_type": "stream",
     "text": [
      "100%|██████████| 4636/4636 [00:03<00:00, 1287.79it/s]\n",
      "100%|██████████| 4636/4636 [00:03<00:00, 1281.85it/s]\n",
      "100%|██████████| 4636/4636 [00:03<00:00, 1220.88it/s]\n",
      "100%|██████████| 4636/4636 [00:07<00:00, 629.36it/s]\n",
      "100%|██████████| 4636/4636 [00:07<00:00, 581.62it/s]\n",
      "  3%|▎         | 133/4636 [00:00<00:03, 1320.68it/s]"
     ]
    },
    {
     "name": "stdout",
     "output_type": "stream",
     "text": [
      "Group 3, average p.len 6.81, min 5, max 9\n"
     ]
    },
    {
     "name": "stderr",
     "output_type": "stream",
     "text": [
      "100%|██████████| 4636/4636 [00:03<00:00, 1236.90it/s]\n",
      "100%|██████████| 4636/4636 [00:03<00:00, 1256.49it/s]\n",
      "100%|██████████| 4636/4636 [00:04<00:00, 1111.10it/s]\n",
      "100%|██████████| 4636/4636 [00:07<00:00, 631.66it/s]\n",
      "100%|██████████| 4636/4636 [00:08<00:00, 560.28it/s]\n",
      "  2%|▏         | 114/4636 [00:00<00:03, 1134.01it/s]"
     ]
    },
    {
     "name": "stdout",
     "output_type": "stream",
     "text": [
      "Group 4, average p.len 12.16, min 9, max 16\n"
     ]
    },
    {
     "name": "stderr",
     "output_type": "stream",
     "text": [
      "100%|██████████| 4636/4636 [00:04<00:00, 1132.52it/s]\n",
      "100%|██████████| 4636/4636 [00:04<00:00, 1146.58it/s]\n",
      "100%|██████████| 4636/4636 [00:04<00:00, 992.04it/s] \n",
      "100%|██████████| 4636/4636 [00:07<00:00, 588.50it/s]\n",
      "100%|██████████| 4636/4636 [00:08<00:00, 577.80it/s]\n",
      "  2%|▏         | 105/4636 [00:00<00:04, 1045.64it/s]"
     ]
    },
    {
     "name": "stdout",
     "output_type": "stream",
     "text": [
      "Group 5, average p.len 22.10, min 16, max 31\n"
     ]
    },
    {
     "name": "stderr",
     "output_type": "stream",
     "text": [
      "100%|██████████| 4636/4636 [00:04<00:00, 1042.34it/s]\n",
      "100%|██████████| 4636/4636 [00:04<00:00, 1053.65it/s]\n",
      "100%|██████████| 4636/4636 [00:05<00:00, 874.60it/s]\n",
      "100%|██████████| 4636/4636 [00:08<00:00, 569.25it/s]\n",
      "100%|██████████| 4636/4636 [00:08<00:00, 572.49it/s]\n",
      "  3%|▎         | 95/3095 [00:00<00:03, 942.16it/s]"
     ]
    },
    {
     "name": "stdout",
     "output_type": "stream",
     "text": [
      "Group 6, average p.len 52.21, min 31, max 676\n"
     ]
    },
    {
     "name": "stderr",
     "output_type": "stream",
     "text": [
      "100%|██████████| 3095/3095 [00:03<00:00, 800.32it/s]\n",
      "100%|██████████| 3095/3095 [00:03<00:00, 792.36it/s]\n",
      "100%|██████████| 3095/3095 [00:05<00:00, 611.97it/s]\n",
      "100%|██████████| 3095/3095 [00:07<00:00, 433.63it/s]\n",
      "100%|██████████| 3095/3095 [00:05<00:00, 565.21it/s]\n"
     ]
    }
   ],
   "source": [
    "from Algorithms.Notebooks_utils.evaluation_function import evaluate_MAP_target_users\n",
    "\n",
    "MAP_itemCF = []\n",
    "MAP_userCF = []\n",
    "MAP_SLIM = []\n",
    "MAP_topPop = []\n",
    "MAP_hyb = []\n",
    "\n",
    "for group_id in range(0, 7):\n",
    "    start_pos = group_id*block_size\n",
    "    end_pos = min((group_id+1)*block_size, len(profile_length))\n",
    "    \n",
    "    users_in_group = sorted_users[start_pos:end_pos]\n",
    "    \n",
    "    users_in_group_p_len = profile_length[users_in_group]\n",
    "    \n",
    "    print(\"Group {}, average p.len {:.2f}, min {}, max {}\".format(group_id, \n",
    "        users_in_group_p_len.mean(), users_in_group_p_len.min(), users_in_group_p_len.max()))\n",
    "    \n",
    "    \n",
    "    users_not_in_group_flag = np.isin(sorted_users, users_in_group, invert = True)\n",
    "    users_not_in_group = sorted_users[users_not_in_group_flag]\n",
    "    \n",
    "    evaluate_map = evaluate_MAP_target_users(URM_test, itemCF, users_in_group, verbose=False)\n",
    "    MAP_itemCF.append(evaluate_map)\n",
    "    evaluate_map = evaluate_MAP_target_users(URM_test, userCF, users_in_group, verbose=False)\n",
    "    MAP_userCF.append(evaluate_map)\n",
    "    evaluate_map = evaluate_MAP_target_users(URM_test, recommender, users_in_group, verbose=False)\n",
    "    MAP_SLIM.append(evaluate_map)\n",
    "    evaluate_map = evaluate_MAP_target_users(URM_test, topPop, users_in_group, verbose=False)\n",
    "    MAP_topPop.append(evaluate_map)\n",
    "    evaluate_map = evaluate_MAP_target_users(URM_test, hyb, users_in_group, verbose=False)\n",
    "    MAP_hyb.append(evaluate_map)"
   ]
  },
  {
   "cell_type": "code",
   "execution_count": 13,
   "metadata": {},
   "outputs": [
    {
     "data": {
      "image/png": "[encoded data removed]",
      "text/plain": [
       "<Figure size 1440x936 with 1 Axes>"
      ]
     },
     "metadata": {
      "needs_background": "light"
     },
     "output_type": "display_data"
    }
   ],
   "source": [
    "import matplotlib.pyplot as pyplot\n",
    "%matplotlib inline  \n",
    "\n",
    "pyplot.figure(figsize=(20,13))\n",
    "pyplot.plot(MAP_itemCF, label=\"itemCF\")\n",
    "pyplot.plot(MAP_userCF, label=\"UserCF\")\n",
    "pyplot.plot(MAP_SLIM, label=\"SLIM\")\n",
    "pyplot.plot(MAP_topPop, label=\"TopPop\")\n",
    "pyplot.plot(MAP_hyb, label=\"Hyb\")\n",
    "pyplot.ylabel('MAP')\n",
    "pyplot.xlabel('User Group')\n",
    "pyplot.legend()\n",
    "pyplot.show()"
   ]
  },
  {
   "cell_type": "code",
   "execution_count": 14,
   "metadata": {},
   "outputs": [
    {
     "data": {
      "text/plain": [
       "array([0., 0., 0., ..., 0., 0., 0.])"
      ]
     },
     "execution_count": 14,
     "metadata": {},
     "output_type": "execute_result"
    }
   ],
   "source": [
    "score = itemCF.get_expected_recommendations(4000)\n",
    "score.astype(float)\n",
    "score"
   ]
  },
  {
   "cell_type": "code",
   "execution_count": 15,
   "metadata": {},
   "outputs": [
    {
     "data": {
      "text/plain": [
       "array([ 192,  197, 5192, 5133,  194, 6793, 9302, 5189,  187, 4785])"
      ]
     },
     "execution_count": 15,
     "metadata": {},
     "output_type": "execute_result"
    }
   ],
   "source": [
    "rank = score.argsort()[::-1]\n",
    "rank[:10]"
   ]
  },
  {
   "cell_type": "code",
   "execution_count": 16,
   "metadata": {},
   "outputs": [
    {
     "data": {
      "text/plain": [
       "[1.051405648474653e-05,\n",
       " 0.004568158558647381,\n",
       " 0.00971380712573168,\n",
       " 0.008538299665244761,\n",
       " 0.008074512951417602,\n",
       " 0.006615921901742475,\n",
       " 0.003160353354459012]"
      ]
     },
     "execution_count": 16,
     "metadata": {},
     "output_type": "execute_result"
    }
   ],
   "source": [
    "MAP_hyb"
   ]
  },
  {
   "cell_type": "code",
   "execution_count": 17,
   "metadata": {},
   "outputs": [
    {
     "data": {
      "text/plain": [
       "[1.051405648474653e-05,\n",
       " 0.004564923464344381,\n",
       " 0.009711239590570573,\n",
       " 0.008539686134231759,\n",
       " 0.008074962270070797,\n",
       " 0.006614304354590976,\n",
       " 0.003160353354459012]"
      ]
     },
     "execution_count": 17,
     "metadata": {},
     "output_type": "execute_result"
    }
   ],
   "source": [
    "MAP_itemCF"
   ]
  },
  {
   "cell_type": "code",
   "execution_count": 18,
   "metadata": {},
   "outputs": [
    {
     "data": {
      "text/plain": [
       "array([ True,  True,  True,  True,  True,  True,  True,  True,  True,\n",
       "        True])"
      ]
     },
     "execution_count": 18,
     "metadata": {},
     "output_type": "execute_result"
    }
   ],
   "source": [
    "np.isin(hyb.recommend(41), itemCF.recommend(41))"
   ]
  },
  {
   "cell_type": "code",
   "execution_count": 19,
   "metadata": {},
   "outputs": [
    {
     "data": {
      "text/plain": [
       "scipy.sparse.csr.csr_matrix"
      ]
     },
     "execution_count": 19,
     "metadata": {},
     "output_type": "execute_result"
    }
   ],
   "source": [
    "type(URM_train.copy())"
   ]
  },
  {
   "cell_type": "code",
   "execution_count": null,
   "metadata": {},
   "outputs": [],
   "source": []
  }
 ],
 "metadata": {
  "kernelspec": {
   "display_name": "Python 3",
   "language": "python",
   "name": "python3"
  },
  "language_info": {
   "codemirror_mode": {
    "name": "ipython",
    "version": 3
   },
   "file_extension": ".py",
   "mimetype": "text/x-python",
   "name": "python",
   "nbconvert_exporter": "python",
   "pygments_lexer": "ipython3",
   "version": "3.7.4"
  }
 },
 "nbformat": 4,
 "nbformat_minor": 2
}
